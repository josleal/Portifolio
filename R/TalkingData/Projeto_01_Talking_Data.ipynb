{
 "cells": [
  {
   "cell_type": "markdown",
   "metadata": {},
   "source": [
    "## PROJETO 01: DETECÇÃO DE FRAUDES NO TRÁFEGO DE CLIQUES EM PROPAGANDAS DE APLICAÇÕES MOBILE\n",
    "\n",
    "![<caption>](TalkingData.jpeg)\n",
    "\n",
    "A TalkingData (https://www.talkingdata.com), a maior plataforma de big data independente da china, cobre mais de 70% dos dispositivos móveis ativos em todo o país. eles lidam com 3 bilhões de cliques por dia, dos quais 90% são potencialmente fraudulentos. sua abordagem atual para impedir fraudes de cliques para desenvolvedores de aplicativos é medir a jornada do clique de um usuário em todo o portifólio e sinalizar endereços ip produzem muitos cliques, mas nunca acabam instalando aplicativos. com esses informações, eles criaram uma lista negra de ips e uma lista negra de dispositivos. embora bem-sucedidos, eles querem estar sempre um passo à frente dos fraudadores e pretedem desenvolver ainda mais a solução. Então, neste projeto, o objetivo é construir um modelo de aprendizado de máquina para determinar se um clique é fraudulento ou não.\n",
    "\n",
    "    \n",
    "#### DICIONÁRIO DE DADOS:\n",
    "\n",
    "1 - **File descriptions:**\n",
    "    \n",
    "**train_sample.csv** - 100.000 linhas selecionadas aleatoriamente de dados de treinamento, para inspecionar os dados antes de baixar o conjunto completo.\n",
    "\n",
    "**test.csv** - conjunto de teste.\n",
    "\n",
    "**sampleSubmission.csv** - um arquivo de envio de amostra no formato correto.\n",
    "\n",
    "**test_supplement.csv** - Este é um conjunto de teste maior que foi lançado acidentalmente no ínicio da competição. Não é necessário usar esses dados, mas é permitido fazê-lo. Os dados de teste oficiais são um subconjunto desses dados.\n",
    "\n",
    "**train.csv** - conjunto de treinamento\n",
    "\n",
    "2 - Variáveis do arquivo **train.csv**:\n",
    "\n",
    "**ip** - IP - Endereço de clique\n",
    "\n",
    "**app** - ID.App - ID de aplicativo para marketing\n",
    "\n",
    "**device** - Tipo.Dispositivo - Identificação do tipo de dispositivo do telefone celular do usuário\n",
    "\n",
    "**os** - ID.OS - ID versão do OS\n",
    "\n",
    "**channel** - ID.Canal.Anuncio - ID do canal do editor de anúncio\n",
    "\n",
    "**click_time** - Click.Horario - Hora do click (UTC)\n",
    "\n",
    "**attributed_time** - Hora.Download - Hora do download do aplicativo.\n",
    "\n",
    "**is_attributed** - Aplicativo.Baixado (variável Target) - Indica se o aplicativo foi baixado (0 = Não baixado, 1 = Baixado)"
   ]
  },
  {
   "cell_type": "markdown",
   "metadata": {},
   "source": [
    "#### **DIRETÓRIO DE TRABALHO E CARREGAMENTO DE BIBLIOTECAS**"
   ]
  },
  {
   "cell_type": "code",
   "execution_count": 1,
   "metadata": {},
   "outputs": [
    {
     "data": {
      "text/html": [
       "'C:/FCD/DataScienceAcademy/BigDataRAzure/Projeto1'"
      ],
      "text/latex": [
       "'C:/FCD/DataScienceAcademy/BigDataRAzure/Projeto1'"
      ],
      "text/markdown": [
       "'C:/FCD/DataScienceAcademy/BigDataRAzure/Projeto1'"
      ],
      "text/plain": [
       "[1] \"C:/FCD/DataScienceAcademy/BigDataRAzure/Projeto1\""
      ]
     },
     "metadata": {},
     "output_type": "display_data"
    }
   ],
   "source": [
    "# DIRETÓRIO DE TRABALHO\n",
    "setwd('C:/FCD/DataScienceAcademy/BigDataRAzure/Projeto1')\n",
    "getwd()"
   ]
  },
  {
   "cell_type": "code",
   "execution_count": 2,
   "metadata": {},
   "outputs": [],
   "source": [
    "# DESATIVAR MENSAGENS DE WARNINGS (warn = -1) E ATIVAR (warn = 0)\n",
    "options(warn = -1)\n",
    "# DESATIVA NOTAÇÃO CIENTÍFICA\n",
    "options(scipen = 999)\n",
    "# PARA TAMANHO DOS GRÁFICOS\n",
    "options(jupyter.plot_scale = 1)"
   ]
  },
  {
   "cell_type": "code",
   "execution_count": 3,
   "metadata": {},
   "outputs": [],
   "source": [
    "# CARREGANDO BIBLIOTECAS \n",
    "suppressPackageStartupMessages({library(dplyr)\n",
    "library(data.table)\n",
    "library(tidyr)\n",
    "library(stringr)\n",
    "library(readr)\n",
    "library(ggplot2)\n",
    "library(plotly)\n",
    "library(gridExtra)\n",
    "library(lubridate)\n",
    "library(scales)\n",
    "library(caTools)})"
   ]
  },
  {
   "cell_type": "markdown",
   "metadata": {},
   "source": [
    "### **1 - PRÉ-PROCESSAMENTO DE DADOS**"
   ]
  },
  {
   "cell_type": "code",
   "execution_count": null,
   "metadata": {},
   "outputs": [],
   "source": [
    "# CARREGANDO train_csv\n",
    "#treino_csv <- fread('train.csv')"
   ]
  },
  {
   "cell_type": "code",
   "execution_count": null,
   "metadata": {},
   "outputs": [],
   "source": [
    "# RENOMEANDO DATASET\n",
    "#names(treino_csv) <- c(\"IP\", \"ID.App\", \"Tipo.Dispositivo\", \"ID.OS\", \"ID.Canal.Anuncio\", \n",
    "#                       \"Click.Horario\", \"Hora.Download\", \"Aplicativo.Baixado\")"
   ]
  },
  {
   "cell_type": "code",
   "execution_count": null,
   "metadata": {},
   "outputs": [],
   "source": [
    "# COLETANDO AMOSTRA\n",
    "#df_Talking_Data <- sample_n(treino_csv, size = 4500000)"
   ]
  },
  {
   "cell_type": "code",
   "execution_count": null,
   "metadata": {},
   "outputs": [],
   "source": [
    "# SALVANDO O DATASET\n",
    "#write_csv(df_Talking_Data, 'df_Talking_Data.csv')"
   ]
  },
  {
   "cell_type": "code",
   "execution_count": 4,
   "metadata": {},
   "outputs": [
    {
     "name": "stdout",
     "output_type": "stream",
     "text": [
      "Observations: 4,500,000\n",
      "Variables: 8\n",
      "$ IP                 <int> 101863, 288158, 58404, 34222, 40631, 134018, 816...\n",
      "$ ID.App             <int> 3, 18, 2, 28, 2, 3, 3, 3, 3, 12, 28, 9, 18, 14, ...\n",
      "$ Tipo.Dispositivo   <int> 1, 1, 1, 1, 1, 1, 1, 1, 1, 1, 1, 1, 1, 1, 1, 1, ...\n",
      "$ ID.OS              <int> 13, 19, 17, 19, 19, 19, 14, 15, 13, 9, 13, 13, 3...\n",
      "$ ID.Canal.Anuncio   <int> 137, 121, 237, 135, 236, 280, 280, 280, 280, 19,...\n",
      "$ Click.Horario      <chr> \"2017-11-07T08:50:35Z\", \"2017-11-09T01:14:54Z\", ...\n",
      "$ Hora.Download      <chr> NA, NA, NA, NA, NA, NA, NA, NA, NA, NA, NA, NA, ...\n",
      "$ Aplicativo.Baixado <int> 0, 0, 0, 0, 0, 0, 0, 0, 0, 0, 0, 0, 0, 0, 0, 0, ...\n"
     ]
    }
   ],
   "source": [
    "# CARREGANDO df_Talking_Data\n",
    "df_Talking_Data <- fread('df_Talking_Data.csv'); glimpse(df_Talking_Data)"
   ]
  },
  {
   "cell_type": "code",
   "execution_count": 5,
   "metadata": {},
   "outputs": [
    {
     "name": "stdout",
     "output_type": "stream",
     "text": [
      "Observations: 4,500,000\n",
      "Variables: 8\n",
      "$ IP                 <int> 101863, 288158, 58404, 34222, 40631, 134018, 816...\n",
      "$ ID.App             <int> 3, 18, 2, 28, 2, 3, 3, 3, 3, 12, 28, 9, 18, 14, ...\n",
      "$ Tipo.Dispositivo   <int> 1, 1, 1, 1, 1, 1, 1, 1, 1, 1, 1, 1, 1, 1, 1, 1, ...\n",
      "$ ID.OS              <int> 13, 19, 17, 19, 19, 19, 14, 15, 13, 9, 13, 13, 3...\n",
      "$ ID.Canal.Anuncio   <int> 137, 121, 237, 135, 236, 280, 280, 280, 280, 19,...\n",
      "$ Click.Horario      <dttm> 2017-11-07 08:50:35, 2017-11-09 01:14:54, 2017-...\n",
      "$ Hora.Download      <dttm> NA, NA, NA, NA, NA, NA, NA, NA, NA, NA, NA, NA,...\n",
      "$ Aplicativo.Baixado <int> 0, 0, 0, 0, 0, 0, 0, 0, 0, 0, 0, 0, 0, 0, 0, 0, ...\n"
     ]
    }
   ],
   "source": [
    "df_Talking_Data$Click.Horario <- as_datetime(df_Talking_Data$Click.Horario)\n",
    "df_Talking_Data$Hora.Download <- as_datetime(df_Talking_Data$Hora.Download); glimpse(df_Talking_Data)"
   ]
  },
  {
   "cell_type": "code",
   "execution_count": 6,
   "metadata": {
    "slideshow": {
     "slide_type": "-"
    }
   },
   "outputs": [
    {
     "data": {
      "image/png": "[encoded data removed]",
      "text/plain": [
       "plot without title"
      ]
     },
     "metadata": {},
     "output_type": "display_data"
    }
   ],
   "source": [
    "# QUANTIDADE DE CLASSES\n",
    "g0 <- ggplot(df_Talking_Data, aes(x = as.factor(Aplicativo.Baixado))) +\n",
    "geom_bar(stat = 'count') +\n",
    "coord_cartesian(ylim = c(0, 4500000)) +\n",
    "labs(title = \"Aplicativo baixado x Não baixado\",x = 'Classes', y = 'Frequência')\n",
    "#ggplotly(g0, width = 400, height = 425)\n",
    "options(repr.plot.width = 4, repr.plot.height = 4)\n",
    "g0"
   ]
  },
  {
   "cell_type": "code",
   "execution_count": 7,
   "metadata": {},
   "outputs": [],
   "source": [
    "total.obs <- nrow(df_Talking_Data)\n",
    "baixado <- nrow(df_Talking_Data[df_Talking_Data$Aplicativo.Baixado == 1,])\n",
    "nao.baixado <- nrow(df_Talking_Data[df_Talking_Data$Aplicativo.Baixado == 0,])"
   ]
  },
  {
   "cell_type": "code",
   "execution_count": 8,
   "metadata": {},
   "outputs": [
    {
     "name": "stdout",
     "output_type": "stream",
     "text": [
      "classe 0 (não baixado)\n",
      "Percentual: 99.75\n",
      "\n",
      "classe 1 (baixado)\n",
      "Percentual: 0.25"
     ]
    }
   ],
   "source": [
    "percentual.nao.baixado <- nao.baixado/total.obs \n",
    "percentual.baixado <- baixado/total.obs; \n",
    "cat(\"classe 0 (não baixado)\\nPercentual:\", round(percentual.nao.baixado*100, 2))\n",
    "cat(\"\\n\\nclasse 1 (baixado)\\nPercentual:\",round(percentual.baixado*100, 2))"
   ]
  },
  {
   "cell_type": "code",
   "execution_count": 9,
   "metadata": {},
   "outputs": [],
   "source": [
    "## SLICE DATASET - APLICATIVO NÃO BAIXADO\n",
    "df_nao_baixado <- df_Talking_Data[df_Talking_Data$Aplicativo.Baixado == 0,]\n",
    "df_nao_baixado$Aplicativo.Baixado <- as.factor(df_nao_baixado$Aplicativo.Baixado)"
   ]
  },
  {
   "cell_type": "code",
   "execution_count": 10,
   "metadata": {},
   "outputs": [],
   "source": [
    "# FUNÇÃO PARA PLOTAGEM DO GRÁFICO DE BARRAS\n",
    "grafico.barras <- function(x, xlab, title){\n",
    "    ggplot(x[1:15,], aes(x = reorder(Var1, Freq), y = Freq)) +\n",
    "        geom_bar(stat = \"identity\") + labs(x = xlab, y = \"Frequência\", title = title) +\n",
    "        theme_minimal() +\n",
    "        theme(text = element_text(size = 8)) +\n",
    "        coord_flip()\n",
    "}"
   ]
  },
  {
   "cell_type": "code",
   "execution_count": 11,
   "metadata": {},
   "outputs": [],
   "source": [
    "# IP DE ENDEREÇO DE CLIQUE - ID\n",
    "ip <- data.frame(table(df_nao_baixado$IP))\n",
    "ip <- ip[order(ip$Freq, decreasing = T),]\n",
    "\n",
    "# 15 IPS DE ENDEREÇO DE CLIQUES (IP) LIGADOS A CLIQUES QUE NÃO BAIXARAM O APLICATIVO\n",
    "g1 = grafico.barras(ip, 'IP', 'IP dos cliques sem download')"
   ]
  },
  {
   "cell_type": "code",
   "execution_count": 12,
   "metadata": {},
   "outputs": [],
   "source": [
    "# ID DE APLICATIVO PARA MARKETING - ID.App\n",
    "id.aplicativo <- data.frame(table(df_nao_baixado$ID.App))\n",
    "id.aplicativo <- id.aplicativo[order(id.aplicativo$Freq, decreasing = T),]\n",
    "\n",
    "# 15 IDS DE APLICATIVOS (ID.App) LIGADOS A CLIQUES QUE NÃO BAIXARAM O APLICATIVO\n",
    "g2 = grafico.barras(id.aplicativo, 'ID do aplicativo', 'ID do aplicativo de marketing e cliques sem download')"
   ]
  },
  {
   "cell_type": "code",
   "execution_count": 13,
   "metadata": {},
   "outputs": [],
   "source": [
    "# IDENTIFICAÇÃO DO TIPO DISPOSITIVO - Tipo.Dispositivo\n",
    "identificacao.dispositivo <- data.frame(table(df_nao_baixado$Tipo.Dispositivo))\n",
    "identificacao.dispositivo <- identificacao.dispositivo[order(identificacao.dispositivo$Freq, decreasing = T),]\n",
    "\n",
    "# 15 TIPOS DE DISPOSITIVOS (Tipo.Dispositivo) LIGADOS A CLIQUES QUE NÃO BAIXARAM O APLICATIVO\n",
    "g3 = grafico.barras(identificacao.dispositivo, 'Tipo do dispositivo', 'Tipo dispositivo e cliques sem download')"
   ]
  },
  {
   "cell_type": "code",
   "execution_count": 14,
   "metadata": {},
   "outputs": [],
   "source": [
    "# ID VERSÃO DO SISTEMA OPERACIONAL DO CELULAR DO USUÁRIO - ID.OS\n",
    "id.sistema.operacional <- data.frame(table(df_nao_baixado$ID.OS))\n",
    "id.sistema.operacional <- id.sistema.operacional[order(id.sistema.operacional$Freq, decreasing = T),]\n",
    "\n",
    "# 15 IDS VERSÃO DO SISTEMA OPERACIONAL DO CELULAR DO USUÁRIO (ID.OS) LIGADOS A CLIQUES QUE NÃO BAIXARAM O APLICATIVO\n",
    "g4 <- grafico.barras(id.sistema.operacional, 'ID do OS', 'ID do OS do usuário e cliques sem download ')"
   ]
  },
  {
   "cell_type": "code",
   "execution_count": 15,
   "metadata": {},
   "outputs": [],
   "source": [
    "# ID DO CANAL DE ANÚNCIOS - ID.Canal.Anuncio\n",
    "id.canal <- data.frame(table(df_nao_baixado$ID.Canal.Anuncio))\n",
    "id.canal <- id.canal [order(id.canal$Freq, decreasing = T),]\n",
    "\n",
    "# 15 IDS DE APLICATIVOS (ID.App) LIGADOS A CLIQUES QUE NÃO BAIXARAM O APLICATIVO\n",
    "g5 <- grafico.barras(id.canal, \"ID Canal Anúncios\", 'Canal e cliques sem download')"
   ]
  },
  {
   "cell_type": "code",
   "execution_count": 16,
   "metadata": {},
   "outputs": [
    {
     "data": {
      "image/png": "[encoded data removed]",
      "text/plain": [
       "plot without title"
      ]
     },
     "metadata": {},
     "output_type": "display_data"
    }
   ],
   "source": [
    "options(repr.plot.width = 7, repr.plot.height = 7)\n",
    "grid.arrange(g1, g2, g3, g4, g5)"
   ]
  },
  {
   "cell_type": "markdown",
   "metadata": {},
   "source": [
    "O tipo de dispositivo 1 é o que mais está associado à cliques sem downloads. Os IDs do sistema operacional 19 e 13 são os mais associados à cliques sem downloads. Já o canal mais vulnerável a cliques sem downloads é o 280."
   ]
  },
  {
   "cell_type": "code",
   "execution_count": 17,
   "metadata": {},
   "outputs": [
    {
     "name": "stdout",
     "output_type": "stream",
     "text": [
      "De: 2017-11-06 14:48:55\n",
      "Até: 2017-11-09 16:00:00"
     ]
    }
   ],
   "source": [
    "# PERÍODO DE CLIQUES NO DATASET - DATA E HORÁRIO\n",
    "# dif_dia <- as.duration(fim-inicio); dif_dia -> outra forma de ver a diferença de dias\n",
    "inicio <- min(df_Talking_Data$Click.Horario); cat(sprintf(\"De: %s\",inicio))\n",
    "fim <- max(df_Talking_Data$Click.Horario); cat(sprintf(\"\\nAté: %s\",fim))"
   ]
  },
  {
   "cell_type": "code",
   "execution_count": 18,
   "metadata": {},
   "outputs": [
    {
     "data": {
      "text/plain": [
       "Time difference of 3.049363 days"
      ]
     },
     "metadata": {},
     "output_type": "display_data"
    }
   ],
   "source": [
    "# DIFERENÇA EM DIAS\n",
    "diferenca_dia <- fim - inicio; diferenca_dia"
   ]
  },
  {
   "cell_type": "code",
   "execution_count": 19,
   "metadata": {},
   "outputs": [
    {
     "data": {
      "text/html": [
       "<table>\n",
       "<thead><tr><th scope=col>Var1</th><th scope=col>Freq</th></tr></thead>\n",
       "<tbody>\n",
       "\t<tr><td>2017-11-06 14:48:55</td><td>1                  </td></tr>\n",
       "\t<tr><td>2017-11-06 15:39:18</td><td>1                  </td></tr>\n",
       "\t<tr><td>2017-11-06 15:43:36</td><td>1                  </td></tr>\n",
       "</tbody>\n",
       "</table>\n"
      ],
      "text/latex": [
       "\\begin{tabular}{r|ll}\n",
       " Var1 & Freq\\\\\n",
       "\\hline\n",
       "\t 2017-11-06 14:48:55 & 1                  \\\\\n",
       "\t 2017-11-06 15:39:18 & 1                  \\\\\n",
       "\t 2017-11-06 15:43:36 & 1                  \\\\\n",
       "\\end{tabular}\n"
      ],
      "text/markdown": [
       "\n",
       "| Var1 | Freq |\n",
       "|---|---|\n",
       "| 2017-11-06 14:48:55 | 1                   |\n",
       "| 2017-11-06 15:39:18 | 1                   |\n",
       "| 2017-11-06 15:43:36 | 1                   |\n",
       "\n"
      ],
      "text/plain": [
       "  Var1                Freq\n",
       "1 2017-11-06 14:48:55 1   \n",
       "2 2017-11-06 15:39:18 1   \n",
       "3 2017-11-06 15:43:36 1   "
      ]
     },
     "metadata": {},
     "output_type": "display_data"
    }
   ],
   "source": [
    "# TABELA COM A FREQUENCIA DE CLIQUES SEM DOWNLOAD EM DETERMINADO HORÁRIO \n",
    "df <- data.frame(table(df_nao_baixado$Click.Horario)); head(df,3)"
   ]
  },
  {
   "cell_type": "code",
   "execution_count": 20,
   "metadata": {},
   "outputs": [
    {
     "data": {
      "text/html": [
       "<table>\n",
       "<thead><tr><th scope=col>Data</th><th scope=col>Data.Horario</th><th scope=col>Dia.Hora</th><th scope=col>Freq.Cliques</th></tr></thead>\n",
       "<tbody>\n",
       "\t<tr><td>2017-11-06         </td><td>2017-11-06 14:48:55</td><td>2017-11-06 14:00:00</td><td>1                  </td></tr>\n",
       "\t<tr><td>2017-11-06         </td><td>2017-11-06 15:39:18</td><td>2017-11-06 15:00:00</td><td>1                  </td></tr>\n",
       "\t<tr><td>2017-11-06         </td><td>2017-11-06 15:43:36</td><td>2017-11-06 15:00:00</td><td>1                  </td></tr>\n",
       "</tbody>\n",
       "</table>\n"
      ],
      "text/latex": [
       "\\begin{tabular}{r|llll}\n",
       " Data & Data.Horario & Dia.Hora & Freq.Cliques\\\\\n",
       "\\hline\n",
       "\t 2017-11-06          & 2017-11-06 14:48:55 & 2017-11-06 14:00:00 & 1                  \\\\\n",
       "\t 2017-11-06          & 2017-11-06 15:39:18 & 2017-11-06 15:00:00 & 1                  \\\\\n",
       "\t 2017-11-06          & 2017-11-06 15:43:36 & 2017-11-06 15:00:00 & 1                  \\\\\n",
       "\\end{tabular}\n"
      ],
      "text/markdown": [
       "\n",
       "| Data | Data.Horario | Dia.Hora | Freq.Cliques |\n",
       "|---|---|---|---|\n",
       "| 2017-11-06          | 2017-11-06 14:48:55 | 2017-11-06 14:00:00 | 1                   |\n",
       "| 2017-11-06          | 2017-11-06 15:39:18 | 2017-11-06 15:00:00 | 1                   |\n",
       "| 2017-11-06          | 2017-11-06 15:43:36 | 2017-11-06 15:00:00 | 1                   |\n",
       "\n"
      ],
      "text/plain": [
       "  Data       Data.Horario        Dia.Hora            Freq.Cliques\n",
       "1 2017-11-06 2017-11-06 14:48:55 2017-11-06 14:00:00 1           \n",
       "2 2017-11-06 2017-11-06 15:39:18 2017-11-06 15:00:00 1           \n",
       "3 2017-11-06 2017-11-06 15:43:36 2017-11-06 15:00:00 1           "
      ]
     },
     "metadata": {},
     "output_type": "display_data"
    }
   ],
   "source": [
    "# ACRESCENTANDO DATA E DIA E HORA (SEM CONTAR MINUTOS E SEGUNDOS)\n",
    "df <- df %>%\n",
    "    mutate(Data = make_date(year(df$Var1), month(df$Var1), day(df$Var1)),\n",
    "           Data.Horario = df$Var1,\n",
    "           Freq.Cliques = df$Freq,\n",
    "           Dia.Hora = make_datetime(year(df$Var1), month(df$Var1), day(df$Var1), hour(df$Var1)))\n",
    "df <- select(df, Data, Data.Horario, Dia.Hora, Freq.Cliques); head(df,3)"
   ]
  },
  {
   "cell_type": "code",
   "execution_count": 21,
   "metadata": {},
   "outputs": [
    {
     "data": {
      "text/html": [
       "<table>\n",
       "<thead><tr><th scope=col>Data</th><th scope=col>Dia.Hora</th><th scope=col>Freq.Cliques</th></tr></thead>\n",
       "<tbody>\n",
       "\t<tr><td>2017-11-06         </td><td>2017-11-06 14:00:00</td><td>    1              </td></tr>\n",
       "\t<tr><td>2017-11-06         </td><td>2017-11-06 15:00:00</td><td>   11              </td></tr>\n",
       "\t<tr><td>2017-11-06         </td><td>2017-11-06 16:00:00</td><td>55935              </td></tr>\n",
       "</tbody>\n",
       "</table>\n"
      ],
      "text/latex": [
       "\\begin{tabular}{r|lll}\n",
       " Data & Dia.Hora & Freq.Cliques\\\\\n",
       "\\hline\n",
       "\t 2017-11-06          & 2017-11-06 14:00:00 &     1              \\\\\n",
       "\t 2017-11-06          & 2017-11-06 15:00:00 &    11              \\\\\n",
       "\t 2017-11-06          & 2017-11-06 16:00:00 & 55935              \\\\\n",
       "\\end{tabular}\n"
      ],
      "text/markdown": [
       "\n",
       "| Data | Dia.Hora | Freq.Cliques |\n",
       "|---|---|---|\n",
       "| 2017-11-06          | 2017-11-06 14:00:00 |     1               |\n",
       "| 2017-11-06          | 2017-11-06 15:00:00 |    11               |\n",
       "| 2017-11-06          | 2017-11-06 16:00:00 | 55935               |\n",
       "\n"
      ],
      "text/plain": [
       "  Data       Dia.Hora            Freq.Cliques\n",
       "1 2017-11-06 2017-11-06 14:00:00     1       \n",
       "2 2017-11-06 2017-11-06 15:00:00    11       \n",
       "3 2017-11-06 2017-11-06 16:00:00 55935       "
      ]
     },
     "metadata": {},
     "output_type": "display_data"
    }
   ],
   "source": [
    "# AGRUPAMENTO POR DIA E HORA\n",
    "df2 <- df %>%\n",
    "     group_by(Data,Dia.Hora) %>%\n",
    "     summarise(Freq.Cliques = sum(Freq.Cliques)); head(df2,3)"
   ]
  },
  {
   "cell_type": "code",
   "execution_count": 22,
   "metadata": {},
   "outputs": [
    {
     "data": {
      "image/png": "[encoded data removed]",
      "text/plain": [
       "plot without title"
      ]
     },
     "metadata": {},
     "output_type": "display_data"
    }
   ],
   "source": [
    "g6 <- ggplot(df2, aes(x = Dia.Hora , y = Freq.Cliques)) +\n",
    "geom_line(size = 0.7,colour = 'gold') +                    \n",
    "geom_point(size = 1.3, colour = 'black') +\n",
    "scale_x_datetime(labels = date_format(format = '%Hh', tz = \"UTC\"), date_breaks = \"3 hours\") +\n",
    "coord_cartesian(ylim = c(0, 100000)) +\n",
    "labs(x = 'Horas', y = 'Frequência de Cliques', title = 'Cliques sem download 06/11/2017 a 09/11/2017')\n",
    "#ggplotly(g6, width = 800, height = 600)\n",
    "options(repr.plot.width = 7, repr.plot.height = 4.5)\n",
    "g6"
   ]
  },
  {
   "cell_type": "markdown",
   "metadata": {},
   "source": [
    "No gráfico precebe-se que os picos ocorrem de 00h00 às 14h00. Há um enorme crescimento de cliques sem download no período de 21h00 às 00h00 nos dias 6, 7 e 8 e uma queda enorme no período de 15h00 às 20h00 nos dias 6 e 7 e de 15h00 às 16h00 no dia 9."
   ]
  },
  {
   "cell_type": "code",
   "execution_count": 23,
   "metadata": {},
   "outputs": [],
   "source": [
    "# ESTATÍSTICA DE CLIQUES SEM DOWNLOAD POR HORA - DIA 06/11/2017 DE 14h48 ÀS 23h59\n",
    "dia06 <- df2[df2$Data == as.Date('2017-11-06'),]\n",
    "# ESTATÍSTICA DE CLIQUES FRAUDULENTOS POR HORA - DIA 07/11/2017 DE 00h ÀS 23h59\n",
    "dia07 <- df2[df2$Data == as.Date('2017-11-07'),]\n",
    "# ESTATÍSTICA DE CLIQUES FRAUDULENTOS POR HORA - DIA 08/11/2017 DE 00h ÀS 23h59\n",
    "dia08 <- df2[df2$Data == as.Date('2017-11-08'),]\n",
    "# ESTATÍSTICA DE CLIQUES FRAUDULENTOS POR HORA - DIA 09/11/2017 DE 00h ÀS 16h00\n",
    "dia09 <- df2[df2$Data == as.Date('2017-11-09'),]"
   ]
  },
  {
   "cell_type": "code",
   "execution_count": 24,
   "metadata": {},
   "outputs": [
    {
     "name": "stdout",
     "output_type": "stream",
     "text": [
      "Estatísticas cliques sem download:\n",
      "\n",
      "Dia 06-11-2017 das 14h48 às 23h59\n",
      "\n",
      "Média de cliques/hora: 22618.9 \n",
      "Média de cliques/minuto: 376.9817\n",
      "\n",
      "Dia 07-11-2017 das 00h às 23h59 \n",
      "\n",
      "Média de cliques/hora: 60213.33 \n",
      "Média de cliques/minuto: 1003.556\n",
      "\n",
      "Dia 08-11-2017 das 00h às 23h59 \n",
      "\n",
      "Média de cliques/hora: 63750.04 \n",
      "Média de cliques/minuto: 1062.501\n",
      "\n",
      "Dia 09-11-2017 das 00h às 16h00 \n",
      "\n",
      "Média de cliques/hora: 75741.65 \n",
      "Média de cliques/minuto: 1262.361"
     ]
    }
   ],
   "source": [
    "cat(\"Estatísticas cliques sem download:\\n\\nDia 06-11-2017 das 14h48 às 23h59\\n\\nMédia de cliques/hora:\",mean(dia06$Freq.Cliques),\n",
    "\"\\nMédia de cliques/minuto:\", mean(dia06$Freq.Cliques)/60)\n",
    "\n",
    "cat(\"\\n\\nDia 07-11-2017 das 00h às 23h59 \\n\\nMédia de cliques/hora:\", mean(dia07$Freq.Cliques),\n",
    "\"\\nMédia de cliques/minuto:\", mean(dia07$Freq.Cliques)/60)\n",
    "\n",
    "cat(\"\\n\\nDia 08-11-2017 das 00h às 23h59 \\n\\nMédia de cliques/hora:\", mean(dia08$Freq.Cliques),\n",
    "\"\\nMédia de cliques/minuto:\", mean(dia08$Freq.Cliques)/60)\n",
    "\n",
    "cat(\"\\n\\nDia 09-11-2017 das 00h às 16h00 \\n\\nMédia de cliques/hora:\", mean(dia09$Freq.Cliques),\n",
    "\"\\nMédia de cliques/minuto:\", mean(dia09$Freq.Cliques)/60)"
   ]
  },
  {
   "cell_type": "markdown",
   "metadata": {},
   "source": [
    "No dia 09/11 houve a maior média de cliques por hora. Em 16 horas, a média obtida foi de 75741.65 cliques, o que superou as médias dos dias 07/11 e 08/11 em 24 horas."
   ]
  },
  {
   "cell_type": "code",
   "execution_count": 25,
   "metadata": {},
   "outputs": [
    {
     "data": {
      "text/html": [
       "<table>\n",
       "<thead><tr><th scope=col>Hora</th><th scope=col>Horario.Mais.Cliques</th></tr></thead>\n",
       "<tbody>\n",
       "\t<tr><td>00    </td><td>252433</td></tr>\n",
       "\t<tr><td>01    </td><td>230007</td></tr>\n",
       "\t<tr><td>02    </td><td>237182</td></tr>\n",
       "\t<tr><td>03    </td><td>236996</td></tr>\n",
       "\t<tr><td>04    </td><td>273690</td></tr>\n",
       "</tbody>\n",
       "</table>\n"
      ],
      "text/latex": [
       "\\begin{tabular}{r|ll}\n",
       " Hora & Horario.Mais.Cliques\\\\\n",
       "\\hline\n",
       "\t 00     & 252433\\\\\n",
       "\t 01     & 230007\\\\\n",
       "\t 02     & 237182\\\\\n",
       "\t 03     & 236996\\\\\n",
       "\t 04     & 273690\\\\\n",
       "\\end{tabular}\n"
      ],
      "text/markdown": [
       "\n",
       "| Hora | Horario.Mais.Cliques |\n",
       "|---|---|\n",
       "| 00     | 252433 |\n",
       "| 01     | 230007 |\n",
       "| 02     | 237182 |\n",
       "| 03     | 236996 |\n",
       "| 04     | 273690 |\n",
       "\n"
      ],
      "text/plain": [
       "  Hora Horario.Mais.Cliques\n",
       "1 00   252433              \n",
       "2 01   230007              \n",
       "3 02   237182              \n",
       "4 03   236996              \n",
       "5 04   273690              "
      ]
     },
     "metadata": {},
     "output_type": "display_data"
    }
   ],
   "source": [
    "# AGRUPAMENTO POR HORA PARA SABER EM QUAL HORÁRIO SE TEM MAIS CLIQUES SEM DOWNLOADS\n",
    "df3 <- df %>%\n",
    "    separate (col = Dia.Hora, c (\"Dia\", \"Hora\"), sep = ' ', remove = TRUE)\n",
    "\n",
    "df4 <- df3 %>%\n",
    "             group_by(Hora) %>%\n",
    "             summarise(Horario.Mais.Cliques = sum(Freq.Cliques))\n",
    "\n",
    "df4 <- df4 %>%\n",
    "     separate(col = Hora, c (\"Hora\", \"s\", \"m\"), sep = ':', remove = TRUE) %>%\n",
    "     select(Hora, Horario.Mais.Cliques)\n",
    "\n",
    "head(df4, 5)"
   ]
  },
  {
   "cell_type": "code",
   "execution_count": 26,
   "metadata": {},
   "outputs": [
    {
     "data": {
      "image/png": "[encoded data removed]",
      "text/plain": [
       "plot without title"
      ]
     },
     "metadata": {},
     "output_type": "display_data"
    }
   ],
   "source": [
    "# HORÁRIOS COM MAIOR VOLUME DE CLIQUES NOS TRÊS DIAS\n",
    "g7 <- ggplot(df4, aes(x = Hora, y = Horario.Mais.Cliques)) +                 \n",
    "     geom_bar(stat=\"identity\") +\n",
    "     labs(x = 'Horário', y = 'Frequência total de Cliques', title = 'Volume total de cliques sem download em cada hora')\n",
    "\n",
    "#ggplotly(g7, width = 800, height = 600)\n",
    "options(repr.plot.width = 5, repr.plot.height = 4)\n",
    "g7"
   ]
  },
  {
   "cell_type": "markdown",
   "metadata": {},
   "source": [
    "Nos horários de 00h00 a 15h00 é quando mais se tem cliques sem download."
   ]
  },
  {
   "cell_type": "code",
   "execution_count": 27,
   "metadata": {},
   "outputs": [
    {
     "data": {
      "text/html": [
       "<table>\n",
       "<thead><tr><th></th><th scope=col>IP</th><th scope=col>ID.App</th><th scope=col>Tipo.Dispositivo</th><th scope=col>ID.OS</th><th scope=col>ID.Canal.Anuncio</th><th scope=col>Aplicativo.Baixado</th></tr></thead>\n",
       "<tbody>\n",
       "\t<tr><th scope=row>IP</th><td> 1.0000000000</td><td> 0.00614581  </td><td>-0.001232667 </td><td>-0.0004522545</td><td> 0.004977461 </td><td> 0.053647141 </td></tr>\n",
       "\t<tr><th scope=row>ID.App</th><td> 0.0061458101</td><td> 1.00000000  </td><td> 0.254780608 </td><td> 0.2545633219</td><td>-0.027726205 </td><td> 0.059730710 </td></tr>\n",
       "\t<tr><th scope=row>Tipo.Dispositivo</th><td>-0.0012326668</td><td> 0.25478061  </td><td> 1.000000000 </td><td> 0.9412186443</td><td>-0.034314979 </td><td> 0.001260945 </td></tr>\n",
       "\t<tr><th scope=row>ID.OS</th><td>-0.0004522545</td><td> 0.25456332  </td><td> 0.941218644 </td><td> 1.0000000000</td><td>-0.031283118 </td><td> 0.002156188 </td></tr>\n",
       "\t<tr><th scope=row>ID.Canal.Anuncio</th><td> 0.0049774614</td><td>-0.02772620  </td><td>-0.034314979 </td><td>-0.0312831184</td><td> 1.000000000 </td><td>-0.024230232 </td></tr>\n",
       "\t<tr><th scope=row>Aplicativo.Baixado</th><td> 0.0536471412</td><td> 0.05973071  </td><td> 0.001260945 </td><td> 0.0021561882</td><td>-0.024230232 </td><td> 1.000000000 </td></tr>\n",
       "</tbody>\n",
       "</table>\n"
      ],
      "text/latex": [
       "\\begin{tabular}{r|llllll}\n",
       "  & IP & ID.App & Tipo.Dispositivo & ID.OS & ID.Canal.Anuncio & Aplicativo.Baixado\\\\\n",
       "\\hline\n",
       "\tIP &  1.0000000000 &  0.00614581   & -0.001232667  & -0.0004522545 &  0.004977461  &  0.053647141 \\\\\n",
       "\tID.App &  0.0061458101 &  1.00000000   &  0.254780608  &  0.2545633219 & -0.027726205  &  0.059730710 \\\\\n",
       "\tTipo.Dispositivo & -0.0012326668 &  0.25478061   &  1.000000000  &  0.9412186443 & -0.034314979  &  0.001260945 \\\\\n",
       "\tID.OS & -0.0004522545 &  0.25456332   &  0.941218644  &  1.0000000000 & -0.031283118  &  0.002156188 \\\\\n",
       "\tID.Canal.Anuncio &  0.0049774614 & -0.02772620   & -0.034314979  & -0.0312831184 &  1.000000000  & -0.024230232 \\\\\n",
       "\tAplicativo.Baixado &  0.0536471412 &  0.05973071   &  0.001260945  &  0.0021561882 & -0.024230232  &  1.000000000 \\\\\n",
       "\\end{tabular}\n"
      ],
      "text/markdown": [
       "\n",
       "| <!--/--> | IP | ID.App | Tipo.Dispositivo | ID.OS | ID.Canal.Anuncio | Aplicativo.Baixado |\n",
       "|---|---|---|---|---|---|---|\n",
       "| IP |  1.0000000000 |  0.00614581   | -0.001232667  | -0.0004522545 |  0.004977461  |  0.053647141  |\n",
       "| ID.App |  0.0061458101 |  1.00000000   |  0.254780608  |  0.2545633219 | -0.027726205  |  0.059730710  |\n",
       "| Tipo.Dispositivo | -0.0012326668 |  0.25478061   |  1.000000000  |  0.9412186443 | -0.034314979  |  0.001260945  |\n",
       "| ID.OS | -0.0004522545 |  0.25456332   |  0.941218644  |  1.0000000000 | -0.031283118  |  0.002156188  |\n",
       "| ID.Canal.Anuncio |  0.0049774614 | -0.02772620   | -0.034314979  | -0.0312831184 |  1.000000000  | -0.024230232  |\n",
       "| Aplicativo.Baixado |  0.0536471412 |  0.05973071   |  0.001260945  |  0.0021561882 | -0.024230232  |  1.000000000  |\n",
       "\n"
      ],
      "text/plain": [
       "                   IP            ID.App      Tipo.Dispositivo ID.OS        \n",
       "IP                  1.0000000000  0.00614581 -0.001232667     -0.0004522545\n",
       "ID.App              0.0061458101  1.00000000  0.254780608      0.2545633219\n",
       "Tipo.Dispositivo   -0.0012326668  0.25478061  1.000000000      0.9412186443\n",
       "ID.OS              -0.0004522545  0.25456332  0.941218644      1.0000000000\n",
       "ID.Canal.Anuncio    0.0049774614 -0.02772620 -0.034314979     -0.0312831184\n",
       "Aplicativo.Baixado  0.0536471412  0.05973071  0.001260945      0.0021561882\n",
       "                   ID.Canal.Anuncio Aplicativo.Baixado\n",
       "IP                  0.004977461      0.053647141      \n",
       "ID.App             -0.027726205      0.059730710      \n",
       "Tipo.Dispositivo   -0.034314979      0.001260945      \n",
       "ID.OS              -0.031283118      0.002156188      \n",
       "ID.Canal.Anuncio    1.000000000     -0.024230232      \n",
       "Aplicativo.Baixado -0.024230232      1.000000000      "
      ]
     },
     "metadata": {},
     "output_type": "display_data"
    }
   ],
   "source": [
    "# CORRELAÇÃO DE VARIÁVEIS DO DATASET DA AMOSTRA DO DATASET TALKING_DATA\n",
    "cor(df_Talking_Data[,-c(6:7)])"
   ]
  },
  {
   "cell_type": "code",
   "execution_count": 28,
   "metadata": {},
   "outputs": [
    {
     "data": {
      "image/png": "[encoded data removed]",
      "text/plain": [
       "Plot with title \"\""
      ]
     },
     "metadata": {},
     "output_type": "display_data"
    }
   ],
   "source": [
    "suppressPackageStartupMessages({library(corrplot)})\n",
    "options(repr.plot.width = 7, repr.plot.height = 5.5)\n",
    "corrplot(cor(df_Talking_Data[,-c(6:7)]), method = \"number\", tl.cex = 0.75, number.cex = 0.9, tl.srt = 45) "
   ]
  },
  {
   "cell_type": "code",
   "execution_count": 29,
   "metadata": {},
   "outputs": [
    {
     "name": "stdout",
     "output_type": "stream",
     "text": [
      "Observations: 4,500,000\n",
      "Variables: 8\n",
      "$ IP                 <int> 101863, 288158, 58404, 34222, 40631, 134018, 816...\n",
      "$ ID.App             <int> 3, 18, 2, 28, 2, 3, 3, 3, 3, 12, 28, 9, 18, 14, ...\n",
      "$ Tipo.Dispositivo   <int> 1, 1, 1, 1, 1, 1, 1, 1, 1, 1, 1, 1, 1, 1, 1, 1, ...\n",
      "$ ID.OS              <int> 13, 19, 17, 19, 19, 19, 14, 15, 13, 9, 13, 13, 3...\n",
      "$ ID.Canal.Anuncio   <int> 137, 121, 237, 135, 236, 280, 280, 280, 280, 19,...\n",
      "$ Click.Horario      <dttm> 2017-11-07 08:50:35, 2017-11-09 01:14:54, 2017-...\n",
      "$ Hora.Download      <dttm> NA, NA, NA, NA, NA, NA, NA, NA, NA, NA, NA, NA,...\n",
      "$ Aplicativo.Baixado <fct> 0, 0, 0, 0, 0, 0, 0, 0, 0, 0, 0, 0, 0, 0, 0, 0, ...\n"
     ]
    }
   ],
   "source": [
    "df_Talking_Data$Aplicativo.Baixado <- as.factor(df_Talking_Data$Aplicativo.Baixado)\n",
    "glimpse(df_Talking_Data)"
   ]
  },
  {
   "cell_type": "markdown",
   "metadata": {},
   "source": [
    "#### **SEPARANDO DADOS DE TREINO E TESTE**"
   ]
  },
  {
   "cell_type": "code",
   "execution_count": null,
   "metadata": {},
   "outputs": [],
   "source": [
    "#split <- sample.split(df_Talking_Data$Aplicativo.Baixado, SplitRatio = 0.7)\n",
    "#dados_treino <- subset(df_Talking_Data, split == TRUE)\n",
    "#dados_teste <- subset(df_Talking_Data, split == FALSE )"
   ]
  },
  {
   "cell_type": "code",
   "execution_count": null,
   "metadata": {},
   "outputs": [],
   "source": [
    "# DADOS TREINO 70%\n",
    "#glimpse(dados_treino)"
   ]
  },
  {
   "cell_type": "code",
   "execution_count": null,
   "metadata": {},
   "outputs": [],
   "source": [
    "# DADOS TESTE 30%\n",
    "#glimpse(dados_teste)"
   ]
  },
  {
   "cell_type": "code",
   "execution_count": null,
   "metadata": {},
   "outputs": [],
   "source": [
    "# packageVersion(\"dplyr\")\n",
    "# update.packages('dplyr')\n",
    "# install.packages('dplyr')\n",
    "# sessionInfo()\n",
    "# update.packages(ask = FALSE) -> Atualiza todos os pacotes\n",
    "# remove.packages('dplyr')"
   ]
  },
  {
   "cell_type": "markdown",
   "metadata": {},
   "source": [
    "#### **BALANCEAMENTO DE CLASSES DOS DADOS DE TREINO**"
   ]
  },
  {
   "cell_type": "code",
   "execution_count": null,
   "metadata": {},
   "outputs": [],
   "source": [
    "# BIBLIOTECA PARA UTILIZAR A FUNÇÃO tabyl()\n",
    "#suppressPackageStartupMessages({library(janitor)})"
   ]
  },
  {
   "cell_type": "code",
   "execution_count": null,
   "metadata": {},
   "outputs": [],
   "source": [
    "#tabyl(dados_treino$Aplicativo.Baixado)"
   ]
  },
  {
   "cell_type": "code",
   "execution_count": null,
   "metadata": {},
   "outputs": [],
   "source": [
    "# install.packages(\"themis\")"
   ]
  },
  {
   "cell_type": "code",
   "execution_count": null,
   "metadata": {},
   "outputs": [],
   "source": [
    "#suppressPackageStartupMessages({library(themis)})"
   ]
  },
  {
   "cell_type": "code",
   "execution_count": null,
   "metadata": {},
   "outputs": [],
   "source": [
    "# BALANCEAMENTO NOS DADOS DE TREINO (DOWNSAMPLE)\n",
    "#dados_treino_down_sample <- recipe (Aplicativo.Baixado~., dados_treino) %>%\n",
    "#step_downsample(Aplicativo.Baixado) %>%\n",
    "#prep() %>%\n",
    "#juice() "
   ]
  },
  {
   "cell_type": "code",
   "execution_count": null,
   "metadata": {},
   "outputs": [],
   "source": [
    "#tabyl(dados_treino_down_sample$Aplicativo.Baixado)"
   ]
  },
  {
   "cell_type": "code",
   "execution_count": null,
   "metadata": {},
   "outputs": [],
   "source": [
    "# REMOVENDO AS VARIÁVEIS Click.Horario e Hora.Download DO DATASET DE TREINO BALANCEADO\n",
    "#dados_treino_down_sample <- select(dados_treino_down_sample, -Click.Horario, -Hora.Download)\n",
    "# DADOS TREINO BALANCEADO\n",
    "#glimpse(dados_treino_down_sample)"
   ]
  },
  {
   "cell_type": "code",
   "execution_count": null,
   "metadata": {},
   "outputs": [],
   "source": [
    "# REMOVENDO AS VARIÁVEIS Click.Horario e Hora.Download DO DATASET DE TESTE\n",
    "#dados_teste_final <- select(dados_teste, -Click.Horario, -Hora.Download)\n",
    "# DADOS TREINO BALANCEADO\n",
    "#glimpse(dados_teste_final)"
   ]
  },
  {
   "cell_type": "code",
   "execution_count": null,
   "metadata": {},
   "outputs": [],
   "source": [
    "# SALVANDO DADOS DE TREINO (dados_treino_down_sample) E TESTE (dados_teste_final)\n",
    "#write_csv(dados_treino_down_sample, \"dados_treino_down_sample.csv\")\n",
    "#write_csv(dados_teste_final, \"dados_teste_final.csv\")"
   ]
  },
  {
   "cell_type": "code",
   "execution_count": 30,
   "metadata": {},
   "outputs": [
    {
     "name": "stdout",
     "output_type": "stream",
     "text": [
      "Observations: 15,514\n",
      "Variables: 6\n",
      "$ IP                 <int> 133783, 133522, 175250, 100971, 25679, 140869, 7...\n",
      "$ ID.App             <int> 12, 1, 12, 14, 18, 3, 18, 15, 2, 14, 18, 3, 15, ...\n",
      "$ Tipo.Dispositivo   <int> 1, 2, 1, 1, 1, 1, 1, 1, 1, 1, 1, 2, 1, 1, 1, 1, ...\n",
      "$ ID.OS              <int> 20, 9, 13, 19, 13, 1, 19, 13, 17, 3, 13, 16, 13,...\n",
      "$ ID.Canal.Anuncio   <int> 245, 125, 497, 489, 107, 280, 107, 3, 469, 134, ...\n",
      "$ Aplicativo.Baixado <fct> 0, 0, 0, 0, 0, 0, 0, 0, 0, 0, 0, 0, 0, 0, 0, 0, ...\n"
     ]
    }
   ],
   "source": [
    "# CARREGANDO DADOS DE TREINO\n",
    "dados_treino_down_sample <- fread(\"dados_treino_down_sample.csv\")\n",
    "dados_treino_down_sample <- as.data.frame(dados_treino_down_sample)\n",
    "dados_treino_down_sample$Aplicativo.Baixado <- as.factor(dados_treino_down_sample$Aplicativo.Baixado)\n",
    "glimpse(dados_treino_down_sample)"
   ]
  },
  {
   "cell_type": "code",
   "execution_count": 31,
   "metadata": {},
   "outputs": [
    {
     "name": "stdout",
     "output_type": "stream",
     "text": [
      "Observations: 1,350,000\n",
      "Variables: 6\n",
      "$ IP                 <int> 81613, 48383, 74013, 114759, 40213, 120282, 5178...\n",
      "$ ID.App             <int> 3, 3, 9, 3, 18, 12, 3, 3, 3, 2, 2, 14, 18, 18, 1...\n",
      "$ Tipo.Dispositivo   <int> 1, 1, 1, 1, 1, 1, 1, 1, 1, 1, 1, 1, 1, 1, 1, 1, ...\n",
      "$ ID.OS              <int> 14, 15, 13, 20, 6, 18, 20, 25, 41, 19, 22, 19, 1...\n",
      "$ ID.Canal.Anuncio   <int> 280, 280, 134, 137, 134, 265, 442, 280, 280, 122...\n",
      "$ Aplicativo.Baixado <fct> 0, 0, 0, 0, 0, 0, 0, 0, 0, 0, 0, 0, 0, 0, 0, 0, ...\n"
     ]
    }
   ],
   "source": [
    "# CARREGANDO DADOS DE TESTE\n",
    "dados_teste_final <- fread(\"dados_teste_final.csv\")\n",
    "dados_teste_final <- as.data.frame(dados_teste_final)\n",
    "dados_teste_final$Aplicativo.Baixado <- as.factor(dados_teste_final$Aplicativo.Baixado)\n",
    "glimpse(dados_teste_final)"
   ]
  },
  {
   "cell_type": "markdown",
   "metadata": {},
   "source": [
    "### **2 - APRENDIZADO**\n",
    "\n",
    "### **MODELO 1 - REGRESSÃO LOGÍSTICA (pacote:caret)**"
   ]
  },
  {
   "cell_type": "code",
   "execution_count": 32,
   "metadata": {},
   "outputs": [],
   "source": [
    "# CARREGANDO BIBLIOTECA\n",
    "suppressPackageStartupMessages({library(caret)})"
   ]
  },
  {
   "cell_type": "code",
   "execution_count": 33,
   "metadata": {},
   "outputs": [],
   "source": [
    "# MODELO\n",
    "modelo.rl <- glm(formula = Aplicativo.Baixado ~ ., data = dados_treino_down_sample, family = \"binomial\" )"
   ]
  },
  {
   "cell_type": "code",
   "execution_count": 34,
   "metadata": {},
   "outputs": [
    {
     "data": {
      "text/plain": [
       "\n",
       "Call:\n",
       "glm(formula = Aplicativo.Baixado ~ ., family = \"binomial\", data = dados_treino_down_sample)\n",
       "\n",
       "Deviance Residuals: \n",
       "    Min       1Q   Median       3Q      Max  \n",
       "-8.4904  -0.8205  -0.1653   0.8127   2.4097  \n",
       "\n",
       "Coefficients:\n",
       "                      Estimate    Std. Error z value            Pr(>|z|)    \n",
       "(Intercept)      -1.5305140195  0.0614078566 -24.924 <0.0000000000000002 ***\n",
       "IP                0.0000090538  0.0000002268  39.916 <0.0000000000000002 ***\n",
       "ID.App            0.0677329410  0.0018328644  36.955 <0.0000000000000002 ***\n",
       "Tipo.Dispositivo -0.0001889478  0.0001056454  -1.789              0.0737 .  \n",
       "ID.OS            -0.0011687494  0.0004859416  -2.405              0.0162 *  \n",
       "ID.Canal.Anuncio -0.0030982494  0.0001642664 -18.861 <0.0000000000000002 ***\n",
       "---\n",
       "Signif. codes:  0 '***' 0.001 '**' 0.01 '*' 0.05 '.' 0.1 ' ' 1\n",
       "\n",
       "(Dispersion parameter for binomial family taken to be 1)\n",
       "\n",
       "    Null deviance: 21507  on 15513  degrees of freedom\n",
       "Residual deviance: 16016  on 15508  degrees of freedom\n",
       "AIC: 16028\n",
       "\n",
       "Number of Fisher Scoring iterations: 25\n"
      ]
     },
     "metadata": {},
     "output_type": "display_data"
    }
   ],
   "source": [
    "# VISUALIZAÇÃO DO MODELO\n",
    "summary(modelo.rl)"
   ]
  },
  {
   "cell_type": "code",
   "execution_count": 35,
   "metadata": {},
   "outputs": [
    {
     "data": {
      "text/html": [
       "<table>\n",
       "<thead><tr><th></th><th scope=col>Overall</th></tr></thead>\n",
       "<tbody>\n",
       "\t<tr><th scope=row>IP</th><td>39.915888</td></tr>\n",
       "\t<tr><th scope=row>ID.App</th><td>36.954692</td></tr>\n",
       "\t<tr><th scope=row>Tipo.Dispositivo</th><td> 1.788509</td></tr>\n",
       "\t<tr><th scope=row>ID.OS</th><td> 2.405123</td></tr>\n",
       "\t<tr><th scope=row>ID.Canal.Anuncio</th><td>18.861126</td></tr>\n",
       "</tbody>\n",
       "</table>\n"
      ],
      "text/latex": [
       "\\begin{tabular}{r|l}\n",
       "  & Overall\\\\\n",
       "\\hline\n",
       "\tIP & 39.915888\\\\\n",
       "\tID.App & 36.954692\\\\\n",
       "\tTipo.Dispositivo &  1.788509\\\\\n",
       "\tID.OS &  2.405123\\\\\n",
       "\tID.Canal.Anuncio & 18.861126\\\\\n",
       "\\end{tabular}\n"
      ],
      "text/markdown": [
       "\n",
       "| <!--/--> | Overall |\n",
       "|---|---|\n",
       "| IP | 39.915888 |\n",
       "| ID.App | 36.954692 |\n",
       "| Tipo.Dispositivo |  1.788509 |\n",
       "| ID.OS |  2.405123 |\n",
       "| ID.Canal.Anuncio | 18.861126 |\n",
       "\n"
      ],
      "text/plain": [
       "                 Overall  \n",
       "IP               39.915888\n",
       "ID.App           36.954692\n",
       "Tipo.Dispositivo  1.788509\n",
       "ID.OS             2.405123\n",
       "ID.Canal.Anuncio 18.861126"
      ]
     },
     "metadata": {},
     "output_type": "display_data"
    }
   ],
   "source": [
    "# FEATURE SELECTION\n",
    "# VERIFICAR AS VARIÁVEIS MAIS IMPORTANTES DO MODELO ATRAVÉS DE OVERALL\n",
    "varImp(modelo.rl) # pacote caret"
   ]
  },
  {
   "cell_type": "code",
   "execution_count": null,
   "metadata": {},
   "outputs": [],
   "source": [
    "# VERIFICAR AS VARIÁVEIS MAIS IMPORTANTES DO MODELO ATRAVÉS DE PLOT\n",
    "# var.importantes.modelo.rl <- varImp(modelo.rl, scale = FALSE)\n",
    "# options(repr.plot.width = 4, repr.plot.height = 4)\n",
    "# plot(varImp(modelo.rl)) # pacote caret"
   ]
  },
  {
   "cell_type": "code",
   "execution_count": 36,
   "metadata": {},
   "outputs": [],
   "source": [
    "# PREVISÃO DO MODELO\n",
    "previsao.modelo.rl <- predict(modelo.rl, dados_teste_final, type = \"response\")"
   ]
  },
  {
   "cell_type": "code",
   "execution_count": 37,
   "metadata": {},
   "outputs": [
    {
     "data": {
      "text/plain": [
       "        Reference\n",
       "Previsto       0       1\n",
       "       0 1085477     868\n",
       "       1  261198    2457"
      ]
     },
     "metadata": {},
     "output_type": "display_data"
    }
   ],
   "source": [
    "# AVALIAÇÃO DO MODELO\n",
    "# MATRIZ DE CONFUSÃO\n",
    "matriz_confusao1 <- table(Previsto = as.factor(round(previsao.modelo.rl)), Reference = dados_teste_final$Aplicativo.Baixado)\n",
    "matriz_confusao1"
   ]
  },
  {
   "cell_type": "code",
   "execution_count": 38,
   "metadata": {},
   "outputs": [
    {
     "data": {
      "text/plain": [
       "Confusion Matrix and Statistics\n",
       "\n",
       "          Reference\n",
       "Prediction       0       1\n",
       "         0 1085477     868\n",
       "         1  261198    2457\n",
       "                                             \n",
       "               Accuracy : 0.8059             \n",
       "                 95% CI : (0.8052, 0.8065)   \n",
       "    No Information Rate : 0.9975             \n",
       "    P-Value [Acc > NIR] : 1                  \n",
       "                                             \n",
       "                  Kappa : 0.0136             \n",
       "                                             \n",
       " Mcnemar's Test P-Value : <0.0000000000000002\n",
       "                                             \n",
       "            Sensitivity : 0.806042           \n",
       "            Specificity : 0.738947           \n",
       "         Pos Pred Value : 0.999201           \n",
       "         Neg Pred Value : 0.009319           \n",
       "             Prevalence : 0.997537           \n",
       "         Detection Rate : 0.804057           \n",
       "   Detection Prevalence : 0.804700           \n",
       "      Balanced Accuracy : 0.772495           \n",
       "                                             \n",
       "       'Positive' Class : 0                  \n",
       "                                             "
      ]
     },
     "metadata": {},
     "output_type": "display_data"
    }
   ],
   "source": [
    "# MATRIZ DE CONFUSÃO (OUTRA FORMA DE MATRIZ COM O PACOTE caret)\n",
    "matriz_confusao1.1 <- confusionMatrix(as.factor(round(previsao.modelo.rl)), dados_teste_final$Aplicativo.Baixado)\n",
    "matriz_confusao1.1"
   ]
  },
  {
   "cell_type": "code",
   "execution_count": null,
   "metadata": {},
   "outputs": [],
   "source": [
    "# MATRIZ DE CONFUSÃO (OUTRA FORMA DE MATRIZ COM PACOTE gmodels)\n",
    "# suppressPackageStartupMessages({library(gmodels)})\n",
    "#matriz_confusao1.2 <- CrossTable(x = as.factor(round(previsao.modelo.rl)), y = dados_teste_final$Aplicativo.Baixado, \n",
    "#                                 prop.chisq = FALSE)\n",
    "#matriz_confusao1.2"
   ]
  },
  {
   "cell_type": "markdown",
   "metadata": {},
   "source": [
    "#### **MÉTRICAS  DO MODELO DE REGRESSÃO LOGÍSTICA**"
   ]
  },
  {
   "cell_type": "code",
   "execution_count": 39,
   "metadata": {},
   "outputs": [],
   "source": [
    "# ACURÁCIA (Accuracy) - MEDE A PRECISÃO DO MODELO DE CLASSIFICAÇÃO. QUANTO MAIOR MELHOR.\n",
    "# TRUE POSITIVO = tp\n",
    "# TRUE NEGATIVO = tn\n",
    "# FALSO POSITIVO = fp\n",
    "# FALSO NEGATIVO = fn\n",
    "# Accuracy: tp + tn/ tp + tn + fp + fn OU Total de resultados corretos/ Total de resultados analisados\n",
    "\n",
    "Acuracia1 <- (matriz_confusao1[1,1] + matriz_confusao1[2,2])/(matriz_confusao1[1,1] + matriz_confusao1[2,2] + \n",
    "                                                              matriz_confusao1[1,2] + matriz_confusao1[2,1])\n",
    "\n",
    "# PRECISÃO (Precision) - PROPORÇÃO DE RESULTADOS VERDADEIROS SOBRE OS POSITIVOS. QUANTO MAIOR MELHOR.\n",
    "# tp/(tp + fp)\n",
    "precisao1 <- matriz_confusao1[1,1]/(matriz_confusao1[1,1] + matriz_confusao1[1,2])\n",
    "\n",
    "# RECUPERAÇÃO (Recall) - FRAÇÃO DE RESULTADOS CORRETOS RETORNADO PELO MODELO. QUANTO MAIOR MELHOR.\n",
    "# tp/(tp + fn)\n",
    "recall1 <- matriz_confusao1[1,1] / (matriz_confusao1[1,1] + matriz_confusao1[2,1])\n",
    "\n",
    "# F1 SCORE - MÉDIA PODERADA ENTRE A PRECISÃO E RECALL. O VALOR IDEAL PARA O F-SCORE É IGUAL A 1.\n",
    "# 2*tp / (2 * tp + fp + fn) OU 2 * precisao * recall/ (precisao + recall)\n",
    "\n",
    "f1_score1 <- 2 * precisao1 * recall1/(precisao1 + recall1)"
   ]
  },
  {
   "cell_type": "code",
   "execution_count": 40,
   "metadata": {},
   "outputs": [
    {
     "name": "stdout",
     "output_type": "stream",
     "text": [
      "Modelo de Regressão Logística\n",
      "\n",
      "Acurácia: 0.8059 \n",
      "Recall: 0.806 \n",
      "Precisão: 0.9992 \n",
      "F1 Score: 0.8923"
     ]
    }
   ],
   "source": [
    "cat(\"Modelo de Regressão Logística\\n\\nAcurácia:\", round(Acuracia1,4),\n",
    "    \"\\nRecall:\", round(recall1,4),\n",
    "    \"\\nPrecisão:\", round(precisao1,4),\n",
    "    \"\\nF1 Score:\", round(f1_score1,4))"
   ]
  },
  {
   "cell_type": "code",
   "execution_count": 41,
   "metadata": {},
   "outputs": [
    {
     "data": {
      "text/html": [
       "0.8059"
      ],
      "text/latex": [
       "0.8059"
      ],
      "text/markdown": [
       "0.8059"
      ],
      "text/plain": [
       "[1] 0.8059"
      ]
     },
     "metadata": {},
     "output_type": "display_data"
    }
   ],
   "source": [
    "# PERCENTUAL DE PREVISÕES CORRETAS - ACURÁCIA DE OUTRO JEITO\n",
    "round(mean(as.factor(round(previsao.modelo.rl)) == dados_teste_final$Aplicativo.Baixado), 4) "
   ]
  },
  {
   "cell_type": "code",
   "execution_count": 42,
   "metadata": {},
   "outputs": [],
   "source": [
    "# CURVA ROC \n",
    "# AUC - QUANTO MAIS A ESQUERDA ESTIVER A CURVA, MAIOR A PRECISÃO DO MODELO\n",
    "# install.packages(\"ROCR\")\n",
    "suppressPackageStartupMessages({library(ROCR)})\n",
    "source(\"plot_utils.R\") "
   ]
  },
  {
   "cell_type": "code",
   "execution_count": 43,
   "metadata": {},
   "outputs": [],
   "source": [
    "previsao1 <- prediction(previsao.modelo.rl, dados_teste_final$Aplicativo.Baixado)"
   ]
  },
  {
   "cell_type": "code",
   "execution_count": 44,
   "metadata": {},
   "outputs": [
    {
     "data": {
      "image/png": "[encoded data removed]",
      "text/plain": [
       "Plot with title \"Curva ROC\""
      ]
     },
     "metadata": {},
     "output_type": "display_data"
    },
    {
     "data": {
      "image/png": "[encoded data removed]",
      "text/plain": [
       "Plot with title \"Curva Precision/Recall\""
      ]
     },
     "metadata": {},
     "output_type": "display_data"
    }
   ],
   "source": [
    "plot.roc.curve(previsao1, title.text = \"Curva ROC\")\n",
    "plot.pr.curve(previsao1, title.text = \"Curva Precision/Recall\")"
   ]
  },
  {
   "cell_type": "code",
   "execution_count": 45,
   "metadata": {},
   "outputs": [
    {
     "data": {
      "image/png": "[encoded data removed]",
      "text/plain": [
       "plot without title"
      ]
     },
     "metadata": {},
     "output_type": "display_data"
    }
   ],
   "source": [
    "# CURVA ROC DE OUTRA FORMA                                        \n",
    "previsao1.1 <- prediction(previsao.modelo.rl, dados_teste_final$Aplicativo.Baixado)\n",
    "previsao1.1 <- performance(previsao1.1, \"tpr\",\"fpr\",)  #Performance com as métricas\n",
    "plot(previsao1.1, col = rainbow(10))"
   ]
  },
  {
   "cell_type": "markdown",
   "metadata": {},
   "source": [
    "### **MODELO 2 - NAIVE BAYES (pacote:e1071)**"
   ]
  },
  {
   "cell_type": "code",
   "execution_count": 46,
   "metadata": {},
   "outputs": [],
   "source": [
    "# CARREGANDO BIBLIOTECA\n",
    "suppressPackageStartupMessages({library(e1071)})"
   ]
  },
  {
   "cell_type": "code",
   "execution_count": 47,
   "metadata": {},
   "outputs": [],
   "source": [
    "# MODELO\n",
    "modelo.naivebayes <- naiveBayes(Aplicativo.Baixado ~ ., data = dados_treino_down_sample)"
   ]
  },
  {
   "cell_type": "code",
   "execution_count": 48,
   "metadata": {},
   "outputs": [
    {
     "data": {
      "text/plain": [
       "          Length Class  Mode     \n",
       "apriori   2      table  numeric  \n",
       "tables    5      -none- list     \n",
       "levels    2      -none- character\n",
       "isnumeric 5      -none- logical  \n",
       "call      4      -none- call     "
      ]
     },
     "metadata": {},
     "output_type": "display_data"
    },
    {
     "name": "stdout",
     "output_type": "stream",
     "text": [
      "List of 5\n",
      " $ apriori  : 'table' int [1:2(1d)] 7757 7757\n",
      "  ..- attr(*, \"dimnames\")=List of 1\n",
      "  .. ..$ Y: chr [1:2] \"0\" \"1\"\n",
      " $ tables   :List of 5\n",
      "  ..$ IP              : num [1:2, 1:2] 90991 164643 69505 104648\n",
      "  .. ..- attr(*, \"dimnames\")=List of 2\n",
      "  .. .. ..$ Y : chr [1:2] \"0\" \"1\"\n",
      "  .. .. ..$ IP: NULL\n",
      "  ..$ ID.App          : num [1:2, 1:2] 12 29.6 17 32.7\n",
      "  .. ..- attr(*, \"dimnames\")=List of 2\n",
      "  .. .. ..$ Y     : chr [1:2] \"0\" \"1\"\n",
      "  .. .. ..$ ID.App: NULL\n",
      "  ..$ Tipo.Dispositivo: num [1:2, 1:2] 22.9 27.9 264.9 192.9\n",
      "  .. ..- attr(*, \"dimnames\")=List of 2\n",
      "  .. .. ..$ Y               : chr [1:2] \"0\" \"1\"\n",
      "  .. .. ..$ Tipo.Dispositivo: NULL\n",
      "  ..$ ID.OS           : num [1:2, 1:2] 22.8 25 55.4 56.8\n",
      "  .. ..- attr(*, \"dimnames\")=List of 2\n",
      "  .. .. ..$ Y    : chr [1:2] \"0\" \"1\"\n",
      "  .. .. ..$ ID.OS: NULL\n",
      "  ..$ ID.Canal.Anuncio: num [1:2, 1:2] 266 205 128 114\n",
      "  .. ..- attr(*, \"dimnames\")=List of 2\n",
      "  .. .. ..$ Y               : chr [1:2] \"0\" \"1\"\n",
      "  .. .. ..$ ID.Canal.Anuncio: NULL\n",
      " $ levels   : chr [1:2] \"0\" \"1\"\n",
      " $ isnumeric: Named logi [1:5] TRUE TRUE TRUE TRUE TRUE\n",
      "  ..- attr(*, \"names\")= chr [1:5] \"IP\" \"ID.App\" \"Tipo.Dispositivo\" \"ID.OS\" ...\n",
      " $ call     : language naiveBayes.default(x = X, y = Y, laplace = laplace)\n",
      " - attr(*, \"class\")= chr \"naiveBayes\"\n"
     ]
    }
   ],
   "source": [
    "# VISUALIZAÇÃO DO MODELO\n",
    "summary(modelo.naivebayes)\n",
    "str(modelo.naivebayes)"
   ]
  },
  {
   "cell_type": "code",
   "execution_count": 49,
   "metadata": {},
   "outputs": [],
   "source": [
    "# PREVISÃO DO MODELO\n",
    "previsao.modelo.naivebayes <- predict(modelo.naivebayes, dados_teste_final)"
   ]
  },
  {
   "cell_type": "code",
   "execution_count": 50,
   "metadata": {},
   "outputs": [
    {
     "data": {
      "text/plain": [
       "        Reference\n",
       "Previsto       0       1\n",
       "       0 1181586    1226\n",
       "       1  165089    2099"
      ]
     },
     "metadata": {},
     "output_type": "display_data"
    }
   ],
   "source": [
    "# MATRIZ DE CONFUSÃO\n",
    "matriz_confusao2 <- table(Previsto = previsao.modelo.naivebayes, Reference = dados_teste_final$Aplicativo.Baixado)\n",
    "matriz_confusao2"
   ]
  },
  {
   "cell_type": "code",
   "execution_count": 51,
   "metadata": {},
   "outputs": [
    {
     "data": {
      "text/html": [
       "<dl class=dl-horizontal>\n",
       "\t<dt>0</dt>\n",
       "\t\t<dd>1182812</dd>\n",
       "\t<dt>1</dt>\n",
       "\t\t<dd>167188</dd>\n",
       "</dl>\n"
      ],
      "text/latex": [
       "\\begin{description*}\n",
       "\\item[0] 1182812\n",
       "\\item[1] 167188\n",
       "\\end{description*}\n"
      ],
      "text/markdown": [
       "0\n",
       ":   11828121\n",
       ":   167188\n",
       "\n"
      ],
      "text/plain": [
       "      0       1 \n",
       "1182812  167188 "
      ]
     },
     "metadata": {},
     "output_type": "display_data"
    }
   ],
   "source": [
    "summary(previsao.modelo.naivebayes)"
   ]
  },
  {
   "cell_type": "code",
   "execution_count": 52,
   "metadata": {},
   "outputs": [
    {
     "data": {
      "text/plain": [
       "Confusion Matrix and Statistics\n",
       "\n",
       "          Reference\n",
       "Prediction       0       1\n",
       "         0 1181586    1226\n",
       "         1  165089    2099\n",
       "                                             \n",
       "               Accuracy : 0.8768             \n",
       "                 95% CI : (0.8762, 0.8774)   \n",
       "    No Information Rate : 0.9975             \n",
       "    P-Value [Acc > NIR] : 1                  \n",
       "                                             \n",
       "                  Kappa : 0.0199             \n",
       "                                             \n",
       " Mcnemar's Test P-Value : <0.0000000000000002\n",
       "                                             \n",
       "            Sensitivity : 0.87741            \n",
       "            Specificity : 0.63128            \n",
       "         Pos Pred Value : 0.99896            \n",
       "         Neg Pred Value : 0.01255            \n",
       "             Prevalence : 0.99754            \n",
       "         Detection Rate : 0.87525            \n",
       "   Detection Prevalence : 0.87616            \n",
       "      Balanced Accuracy : 0.75434            \n",
       "                                             \n",
       "       'Positive' Class : 0                  \n",
       "                                             "
      ]
     },
     "metadata": {},
     "output_type": "display_data"
    }
   ],
   "source": [
    "# MATRIZ DE CONFUSÃO (OUTRO MODO COM O caret)\n",
    "library(caret)\n",
    "matriz_confusao2.1 <- confusionMatrix(previsao.modelo.naivebayes, dados_teste_final$Aplicativo.Baixado)\n",
    "matriz_confusao2.1"
   ]
  },
  {
   "cell_type": "markdown",
   "metadata": {},
   "source": [
    "#### **MÉTRICAS  DO MODELO NAIVE BAYES**"
   ]
  },
  {
   "cell_type": "code",
   "execution_count": 53,
   "metadata": {},
   "outputs": [],
   "source": [
    "# ACURÁCIA\n",
    "# TRUE POSITIVO = tp\n",
    "# TRUE NEGATIVO = tn\n",
    "# FALSO POSITIVO = fp\n",
    "# FALSO NEGATIVO = fn\n",
    "# Accuracy: tp + tn/ tp + tn + fp + fn OU Total de resultados corretos/ Total de resultados analisados\n",
    "\n",
    "Acuracia2 <- (matriz_confusao2[1,1] + matriz_confusao2[2,2])/(matriz_confusao2[1,1] + matriz_confusao2[2,2] + \n",
    "matriz_confusao2[1,2] + matriz_confusao2[2,1])\n",
    "\n",
    "# PRECISÃO\n",
    "# tp/(tp + fp)\n",
    "precisao2 <- matriz_confusao2[1,1]/(matriz_confusao2[1,1] + matriz_confusao2[1,2])\n",
    "\n",
    "# RECUPERAÇÃO \n",
    "# tp/(tp + fn)\n",
    "recall2 <- matriz_confusao2[1,1] / (matriz_confusao2[1,1] + matriz_confusao2[2,1])\n",
    "\n",
    "# F1 SCORE\n",
    "# 2*tp / (2 * tp + fp + fn) OU 2 * precisao * recall/ (precisao + recall)\n",
    "\n",
    "f1_score2 <- 2 * precisao2 * recall2/(precisao2 + recall2)"
   ]
  },
  {
   "cell_type": "code",
   "execution_count": 54,
   "metadata": {},
   "outputs": [
    {
     "name": "stdout",
     "output_type": "stream",
     "text": [
      "Modelo Naive Bayes\n",
      "\n",
      "Acurácia: 0.8768 \n",
      "Recall: 0.8774 \n",
      "Precisão: 0.999 \n",
      "F1 Score: 0.9342"
     ]
    }
   ],
   "source": [
    "cat(\"Modelo Naive Bayes\\n\\nAcurácia:\", round(Acuracia2,4),\n",
    "    \"\\nRecall:\", round(recall2,4),\n",
    "    \"\\nPrecisão:\", round(precisao2,4),\n",
    "    \"\\nF1 Score:\", round(f1_score2,4))"
   ]
  },
  {
   "cell_type": "code",
   "execution_count": 55,
   "metadata": {},
   "outputs": [],
   "source": [
    "# CURVA ROC DE OUTRA FORMA                                        \n",
    "previsao2 <- prediction(as.double(previsao.modelo.naivebayes), dados_teste_final$Aplicativo.Baixado)"
   ]
  },
  {
   "cell_type": "code",
   "execution_count": 56,
   "metadata": {},
   "outputs": [
    {
     "data": {
      "image/png": "[encoded data removed]",
      "text/plain": [
       "Plot with title \"Curva ROC\""
      ]
     },
     "metadata": {},
     "output_type": "display_data"
    },
    {
     "data": {
      "image/png": "[encoded data removed]",
      "text/plain": [
       "Plot with title \"Curva Precision/Recall\""
      ]
     },
     "metadata": {},
     "output_type": "display_data"
    }
   ],
   "source": [
    "plot.roc.curve(previsao2, title.text = \"Curva ROC\")\n",
    "plot.pr.curve(previsao2, title.text = \"Curva Precision/Recall\")"
   ]
  },
  {
   "cell_type": "markdown",
   "metadata": {},
   "source": [
    "### **MODELO 3 - SUPPORT VECTOR MACHINES (pacote:e1071)**"
   ]
  },
  {
   "cell_type": "code",
   "execution_count": 57,
   "metadata": {},
   "outputs": [],
   "source": [
    "# CARREGANDO BIBLIOTECA\n",
    "suppressPackageStartupMessages({library(e1071)})"
   ]
  },
  {
   "cell_type": "code",
   "execution_count": 58,
   "metadata": {},
   "outputs": [],
   "source": [
    "# MODELO\n",
    "modelo.svm.e1071 <- svm(Aplicativo.Baixado ~ ., data = dados_treino_down_sample, type = 'C-classification', kernel = 'radial')"
   ]
  },
  {
   "cell_type": "code",
   "execution_count": 59,
   "metadata": {},
   "outputs": [
    {
     "data": {
      "text/plain": [
       "\n",
       "Call:\n",
       "svm(formula = Aplicativo.Baixado ~ ., data = dados_treino_down_sample, \n",
       "    type = \"C-classification\", kernel = \"radial\")\n",
       "\n",
       "\n",
       "Parameters:\n",
       "   SVM-Type:  C-classification \n",
       " SVM-Kernel:  radial \n",
       "       cost:  1 \n",
       "\n",
       "Number of Support Vectors:  6886\n",
       "\n",
       " ( 3422 3464 )\n",
       "\n",
       "\n",
       "Number of Classes:  2 \n",
       "\n",
       "Levels: \n",
       " 0 1\n",
       "\n",
       "\n"
      ]
     },
     "metadata": {},
     "output_type": "display_data"
    },
    {
     "name": "stdout",
     "output_type": "stream",
     "text": [
      "List of 30\n",
      " $ call           : language svm(formula = Aplicativo.Baixado ~ ., data = dados_treino_down_sample,      type = \"C-classification\", kernel = \"radial\")\n",
      " $ type           : num 0\n",
      " $ kernel         : num 2\n",
      " $ cost           : num 1\n",
      " $ degree         : num 3\n",
      " $ gamma          : num 0.2\n",
      " $ coef0          : num 0\n",
      " $ nu             : num 0.5\n",
      " $ epsilon        : num 0.1\n",
      " $ sparse         : logi FALSE\n",
      " $ scaled         : logi [1:5] TRUE TRUE TRUE TRUE TRUE\n",
      " $ x.scale        :List of 2\n",
      "  ..$ scaled:center: Named num [1:5] 127817.2 20.8 25.4 23.9 235.4\n",
      "  .. ..- attr(*, \"names\")= chr [1:5] \"IP\" \"ID.App\" \"Tipo.Dispositivo\" \"ID.OS\" ...\n",
      "  ..$ scaled:scale : Named num [1:5] 96160 27.5 231.7 56.1 125.1\n",
      "  .. ..- attr(*, \"names\")= chr [1:5] \"IP\" \"ID.App\" \"Tipo.Dispositivo\" \"ID.OS\" ...\n",
      " $ y.scale        : NULL\n",
      " $ nclasses       : int 2\n",
      " $ levels         : chr [1:2] \"0\" \"1\"\n",
      " $ tot.nSV        : int 6886\n",
      " $ nSV            : int [1:2] 3422 3464\n",
      " $ labels         : int [1:2] 1 2\n",
      " $ SV             : num [1:6886, 1:5] 0.062 0.0593 -0.94 -0.0862 1.9342 ...\n",
      "  ..- attr(*, \"dimnames\")=List of 2\n",
      "  .. ..$ : chr [1:6886] \"1\" \"2\" \"8\" \"11\" ...\n",
      "  .. ..$ : chr [1:5] \"IP\" \"ID.App\" \"Tipo.Dispositivo\" \"ID.OS\" ...\n",
      " $ index          : int [1:6886] 1 2 8 11 15 18 22 23 27 29 ...\n",
      " $ rho            : num 0.501\n",
      " $ compprob       : logi FALSE\n",
      " $ probA          : NULL\n",
      " $ probB          : NULL\n",
      " $ sigma          : NULL\n",
      " $ coefs          : num [1:6886, 1] 1 1 1 1 1 1 1 1 1 1 ...\n",
      " $ na.action      : NULL\n",
      " $ fitted         : Factor w/ 2 levels \"0\",\"1\": 1 1 1 1 1 1 1 1 1 1 ...\n",
      "  ..- attr(*, \"names\")= chr [1:15514] \"1\" \"2\" \"3\" \"4\" ...\n",
      " $ decision.values: num [1:15514, 1] 0.641 0.747 1.072 1.105 1.13 ...\n",
      "  ..- attr(*, \"dimnames\")=List of 2\n",
      "  .. ..$ : chr [1:15514] \"1\" \"2\" \"3\" \"4\" ...\n",
      "  .. ..$ : chr \"0/1\"\n",
      " $ terms          :Classes 'terms', 'formula'  language Aplicativo.Baixado ~ IP + ID.App + Tipo.Dispositivo + ID.OS + ID.Canal.Anuncio\n",
      "  .. ..- attr(*, \"variables\")= language list(Aplicativo.Baixado, IP, ID.App, Tipo.Dispositivo, ID.OS, ID.Canal.Anuncio)\n",
      "  .. ..- attr(*, \"factors\")= int [1:6, 1:5] 0 1 0 0 0 0 0 0 1 0 ...\n",
      "  .. .. ..- attr(*, \"dimnames\")=List of 2\n",
      "  .. .. .. ..$ : chr [1:6] \"Aplicativo.Baixado\" \"IP\" \"ID.App\" \"Tipo.Dispositivo\" ...\n",
      "  .. .. .. ..$ : chr [1:5] \"IP\" \"ID.App\" \"Tipo.Dispositivo\" \"ID.OS\" ...\n",
      "  .. ..- attr(*, \"term.labels\")= chr [1:5] \"IP\" \"ID.App\" \"Tipo.Dispositivo\" \"ID.OS\" ...\n",
      "  .. ..- attr(*, \"order\")= int [1:5] 1 1 1 1 1\n",
      "  .. ..- attr(*, \"intercept\")= num 0\n",
      "  .. ..- attr(*, \"response\")= int 1\n",
      "  .. ..- attr(*, \".Environment\")=<environment: R_GlobalEnv> \n",
      "  .. ..- attr(*, \"predvars\")= language list(Aplicativo.Baixado, IP, ID.App, Tipo.Dispositivo, ID.OS, ID.Canal.Anuncio)\n",
      "  .. ..- attr(*, \"dataClasses\")= Named chr [1:6] \"factor\" \"numeric\" \"numeric\" \"numeric\" ...\n",
      "  .. .. ..- attr(*, \"names\")= chr [1:6] \"Aplicativo.Baixado\" \"IP\" \"ID.App\" \"Tipo.Dispositivo\" ...\n",
      " - attr(*, \"class\")= chr [1:2] \"svm.formula\" \"svm\"\n"
     ]
    }
   ],
   "source": [
    "# VISUALIZAÇÃO DO MODELO\n",
    "summary(modelo.svm.e1071)\n",
    "str(modelo.svm.e1071)"
   ]
  },
  {
   "cell_type": "code",
   "execution_count": 60,
   "metadata": {},
   "outputs": [],
   "source": [
    "# PREVISÃO DO MODELO\n",
    "previsao.modelo.svm.e1071 <- predict(modelo.svm.e1071, dados_teste_final) "
   ]
  },
  {
   "cell_type": "code",
   "execution_count": 61,
   "metadata": {},
   "outputs": [
    {
     "data": {
      "text/plain": [
       "        Reference\n",
       "Previsto       0       1\n",
       "       0 1208028     847\n",
       "       1  138647    2478"
      ]
     },
     "metadata": {},
     "output_type": "display_data"
    }
   ],
   "source": [
    "# MATRIZ DE CONFUSÃO\n",
    "matriz_confusao3 <- table(Previsto = previsao.modelo.svm.e1071, Reference = dados_teste_final$Aplicativo.Baixado)\n",
    "matriz_confusao3"
   ]
  },
  {
   "cell_type": "code",
   "execution_count": 62,
   "metadata": {},
   "outputs": [
    {
     "data": {
      "text/plain": [
       "Confusion Matrix and Statistics\n",
       "\n",
       "          Reference\n",
       "Prediction       0       1\n",
       "         0 1208028     847\n",
       "         1  138647    2478\n",
       "                                             \n",
       "               Accuracy : 0.8967             \n",
       "                 95% CI : (0.8962, 0.8972)   \n",
       "    No Information Rate : 0.9975             \n",
       "    P-Value [Acc > NIR] : 1                  \n",
       "                                             \n",
       "                  Kappa : 0.0296             \n",
       "                                             \n",
       " Mcnemar's Test P-Value : <0.0000000000000002\n",
       "                                             \n",
       "            Sensitivity : 0.89704            \n",
       "            Specificity : 0.74526            \n",
       "         Pos Pred Value : 0.99930            \n",
       "         Neg Pred Value : 0.01756            \n",
       "             Prevalence : 0.99754            \n",
       "         Detection Rate : 0.89484            \n",
       "   Detection Prevalence : 0.89546            \n",
       "      Balanced Accuracy : 0.82115            \n",
       "                                             \n",
       "       'Positive' Class : 0                  \n",
       "                                             "
      ]
     },
     "metadata": {},
     "output_type": "display_data"
    }
   ],
   "source": [
    "# MATRIZ DE CONFUSÃO (OUTRO MODO COM O caret)\n",
    "library(caret)\n",
    "matriz_confusao3.1 <- confusionMatrix(previsao.modelo.svm.e1071, dados_teste_final$Aplicativo.Baixado)\n",
    "matriz_confusao3.1"
   ]
  },
  {
   "cell_type": "markdown",
   "metadata": {},
   "source": [
    "#### **MÉTRICAS  DO MODELO SVM e1071**"
   ]
  },
  {
   "cell_type": "code",
   "execution_count": 63,
   "metadata": {},
   "outputs": [],
   "source": [
    "# ACURÁCIA\n",
    "# TRUE POSITIVO = tp\n",
    "# TRUE NEGATIVO = tn\n",
    "# FALSO POSITIVO = fp\n",
    "# FALSO NEGATIVO = fn\n",
    "# Accuracy: tp + tn/ tp + tn + fp + fn OU Total de resultados corretos/ Total de resultados analisados\n",
    "\n",
    "Acuracia3 <- (matriz_confusao3[1,1] + matriz_confusao3[2,2])/(matriz_confusao3[1,1] + matriz_confusao3[2,2] + \n",
    "matriz_confusao3[1,2] + matriz_confusao3[2,1])\n",
    "\n",
    "# PRECISÃO\n",
    "# tp/(tp + fp)\n",
    "precisao3 <- matriz_confusao3[1,1]/(matriz_confusao3[1,1] + matriz_confusao3[1,2])\n",
    "\n",
    "# RECUPERAÇÃO \n",
    "# tp/(tp + fn)\n",
    "recall3 <- matriz_confusao3[1,1] / (matriz_confusao3[1,1] + matriz_confusao3[2,1])\n",
    "\n",
    "# F1 SCORE\n",
    "# 2*tp / (2 * tp + fp + fn) OU 2 * precisao * recall/ (precisao + recall)\n",
    "\n",
    "f1_score3 <- 2 * precisao3 * recall3/(precisao3 + recall3)"
   ]
  },
  {
   "cell_type": "code",
   "execution_count": 64,
   "metadata": {},
   "outputs": [
    {
     "name": "stdout",
     "output_type": "stream",
     "text": [
      "Modelo SVM e1071\n",
      "\n",
      "Acurácia: 0.8967 \n",
      "Recall: 0.897 \n",
      "Precisão: 0.9993 \n",
      "F1 Score: 0.9454"
     ]
    }
   ],
   "source": [
    "cat(\"Modelo SVM e1071\\n\\nAcurácia:\", round(Acuracia3,4),\n",
    "    \"\\nRecall:\", round(recall3,4),\n",
    "    \"\\nPrecisão:\", round(precisao3,4),\n",
    "    \"\\nF1 Score:\", round(f1_score3,4))"
   ]
  },
  {
   "cell_type": "code",
   "execution_count": 65,
   "metadata": {},
   "outputs": [],
   "source": [
    "# CURVA ROC\n",
    "previsao3 <- prediction(as.numeric(previsao.modelo.svm.e1071), dados_teste_final$Aplicativo.Baixado)"
   ]
  },
  {
   "cell_type": "code",
   "execution_count": 66,
   "metadata": {},
   "outputs": [
    {
     "data": {
      "image/png": "[encoded data removed]",
      "text/plain": [
       "Plot with title \"Curva ROC\""
      ]
     },
     "metadata": {},
     "output_type": "display_data"
    },
    {
     "data": {
      "image/png": "[encoded data removed]",
      "text/plain": [
       "Plot with title \"Curva Precision/Recall\""
      ]
     },
     "metadata": {},
     "output_type": "display_data"
    }
   ],
   "source": [
    "plot.roc.curve(previsao3, title.text = \"Curva ROC\")\n",
    "plot.pr.curve(previsao3, title.text = \"Curva Precision/Recall\")"
   ]
  },
  {
   "cell_type": "markdown",
   "metadata": {},
   "source": [
    "### **MODELO 4 - SUPPORT VECTOR MACHINES (pacote:kernlab)**"
   ]
  },
  {
   "cell_type": "code",
   "execution_count": 67,
   "metadata": {},
   "outputs": [],
   "source": [
    "# CARREGANDO BIBLIOTECA\n",
    "suppressPackageStartupMessages({library(kernlab)})"
   ]
  },
  {
   "cell_type": "code",
   "execution_count": 68,
   "metadata": {},
   "outputs": [
    {
     "name": "stdout",
     "output_type": "stream",
     "text": [
      " Setting default kernel parameters  \n"
     ]
    }
   ],
   "source": [
    "# MODELO\n",
    "modelo.svm.kernlab <- ksvm(Aplicativo.Baixado ~., data = dados_treino_down_sample, kernel = \"vanilladot\")"
   ]
  },
  {
   "cell_type": "code",
   "execution_count": 69,
   "metadata": {},
   "outputs": [
    {
     "data": {
      "text/plain": [
       "Length  Class   Mode \n",
       "     1   ksvm     S4 "
      ]
     },
     "metadata": {},
     "output_type": "display_data"
    },
    {
     "name": "stdout",
     "output_type": "stream",
     "text": [
      "Formal class 'ksvm' [package \"kernlab\"] with 24 slots\n",
      "  ..@ param     :List of 1\n",
      "  .. ..$ C: num 1\n",
      "  ..@ scaling   :List of 3\n",
      "  .. ..$ scaled : logi [1:5] TRUE TRUE TRUE TRUE TRUE\n",
      "  .. ..$ x.scale:List of 2\n",
      "  .. .. ..$ scaled:center: Named num [1:5] 127817.2 20.8 25.4 23.9 235.4\n",
      "  .. .. .. ..- attr(*, \"names\")= chr [1:5] \"IP\" \"ID.App\" \"Tipo.Dispositivo\" \"ID.OS\" ...\n",
      "  .. .. ..$ scaled:scale : Named num [1:5] 96160 27.5 231.7 56.1 125.1\n",
      "  .. .. .. ..- attr(*, \"names\")= chr [1:5] \"IP\" \"ID.App\" \"Tipo.Dispositivo\" \"ID.OS\" ...\n",
      "  .. ..$ y.scale: NULL\n",
      "  ..@ coef      :List of 1\n",
      "  .. ..$ : num [1:8805] -1 -1 -1 -1 -1 -1 -1 -1 -1 -1 ...\n",
      "  ..@ alphaindex:List of 1\n",
      "  .. ..$ : int [1:8805] 1 2 3 4 5 6 7 8 10 11 ...\n",
      "  ..@ b         : num -0.248\n",
      "  ..@ obj       : num -8800\n",
      "  ..@ SVindex   : int [1:8805] 1 2 3 4 5 6 7 8 10 11 ...\n",
      "  ..@ nSV       : int 8805\n",
      "  ..@ prior     :List of 1\n",
      "  .. ..$ :List of 2\n",
      "  .. .. ..$ prior1: int 7757\n",
      "  .. .. ..$ prior0: int 7757\n",
      "  ..@ prob.model:List of 1\n",
      "  .. ..$ : NULL\n",
      "  ..@ alpha     :List of 1\n",
      "  .. ..$ : num [1:8805] 1 1 1 1 1 1 1 1 1 1 ...\n",
      "  ..@ type      : chr \"C-svc\"\n",
      "  ..@ kernelf   :Formal class 'vanillakernel' [package \"kernlab\"] with 2 slots\n",
      "  .. .. ..@ .Data:function (x, y = NULL)  \n",
      "  .. .. ..@ kpar : list()\n",
      "  ..@ kpar      : list()\n",
      "  ..@ xmatrix   :List of 1\n",
      "  .. ..$ : num [1:8805, 1:5] 0.062 0.0593 0.4933 -0.2792 -1.0622 ...\n",
      "  .. .. ..- attr(*, \"dimnames\")=List of 2\n",
      "  .. .. .. ..$ : chr [1:8805] \"1\" \"2\" \"3\" \"4\" ...\n",
      "  .. .. .. ..$ : chr [1:5] \"IP\" \"ID.App\" \"Tipo.Dispositivo\" \"ID.OS\" ...\n",
      "  ..@ ymatrix   : int [1:15514] 1 1 1 1 1 1 1 1 1 1 ...\n",
      "  ..@ fitted    : Factor w/ 2 levels \"0\",\"1\": 1 1 1 1 1 1 1 1 1 1 ...\n",
      "  ..@ lev       : chr [1:2] \"0\" \"1\"\n",
      "  ..@ nclass    : int 2\n",
      "  ..@ error     : num 0.23\n",
      "  ..@ cross     : num -1\n",
      "  ..@ n.action  :function (object, ...)  \n",
      "  ..@ terms     :Classes 'terms', 'formula'  language Aplicativo.Baixado ~ IP + ID.App + Tipo.Dispositivo + ID.OS + ID.Canal.Anuncio\n",
      "  .. .. ..- attr(*, \"variables\")= language list(Aplicativo.Baixado, IP, ID.App, Tipo.Dispositivo, ID.OS, ID.Canal.Anuncio)\n",
      "  .. .. ..- attr(*, \"factors\")= int [1:6, 1:5] 0 1 0 0 0 0 0 0 1 0 ...\n",
      "  .. .. .. ..- attr(*, \"dimnames\")=List of 2\n",
      "  .. .. .. .. ..$ : chr [1:6] \"Aplicativo.Baixado\" \"IP\" \"ID.App\" \"Tipo.Dispositivo\" ...\n",
      "  .. .. .. .. ..$ : chr [1:5] \"IP\" \"ID.App\" \"Tipo.Dispositivo\" \"ID.OS\" ...\n",
      "  .. .. ..- attr(*, \"term.labels\")= chr [1:5] \"IP\" \"ID.App\" \"Tipo.Dispositivo\" \"ID.OS\" ...\n",
      "  .. .. ..- attr(*, \"order\")= int [1:5] 1 1 1 1 1\n",
      "  .. .. ..- attr(*, \"intercept\")= num 0\n",
      "  .. .. ..- attr(*, \"response\")= int 1\n",
      "  .. .. ..- attr(*, \".Environment\")=<environment: R_GlobalEnv> \n",
      "  .. .. ..- attr(*, \"predvars\")= language list(Aplicativo.Baixado, IP, ID.App, Tipo.Dispositivo, ID.OS, ID.Canal.Anuncio)\n",
      "  .. .. ..- attr(*, \"dataClasses\")= Named chr [1:6] \"factor\" \"numeric\" \"numeric\" \"numeric\" ...\n",
      "  .. .. .. ..- attr(*, \"names\")= chr [1:6] \"Aplicativo.Baixado\" \"IP\" \"ID.App\" \"Tipo.Dispositivo\" ...\n",
      "  ..@ kcall     : language .local(x = x, data = ..1, kernel = \"vanilladot\")\n"
     ]
    }
   ],
   "source": [
    "# VISUALIZAÇÃO DO MODELO\n",
    "summary(modelo.svm.kernlab)\n",
    "str(modelo.svm.kernlab)"
   ]
  },
  {
   "cell_type": "code",
   "execution_count": 70,
   "metadata": {},
   "outputs": [],
   "source": [
    "# PREVISÃO DO MODELO\n",
    "previsao.modelo.svm.kernlab <- predict(modelo.svm.kernlab, dados_teste_final)"
   ]
  },
  {
   "cell_type": "code",
   "execution_count": 71,
   "metadata": {},
   "outputs": [
    {
     "data": {
      "text/plain": [
       "        Reference\n",
       "Previsto       0       1\n",
       "       0 1102250     913\n",
       "       1  244425    2412"
      ]
     },
     "metadata": {},
     "output_type": "display_data"
    }
   ],
   "source": [
    "# MATRIZ DE CONFUSÃO\n",
    "matriz_confusao4 <- table(Previsto = previsao.modelo.svm.kernlab, Reference = dados_teste_final$Aplicativo.Baixado)\n",
    "matriz_confusao4 "
   ]
  },
  {
   "cell_type": "code",
   "execution_count": 72,
   "metadata": {},
   "outputs": [
    {
     "data": {
      "text/plain": [
       "Confusion Matrix and Statistics\n",
       "\n",
       "          Reference\n",
       "Prediction       0       1\n",
       "         0 1102250     913\n",
       "         1  244425    2412\n",
       "                                             \n",
       "               Accuracy : 0.8183             \n",
       "                 95% CI : (0.8176, 0.8189)   \n",
       "    No Information Rate : 0.9975             \n",
       "    P-Value [Acc > NIR] : 1                  \n",
       "                                             \n",
       "                  Kappa : 0.0145             \n",
       "                                             \n",
       " Mcnemar's Test P-Value : <0.0000000000000002\n",
       "                                             \n",
       "            Sensitivity : 0.818497           \n",
       "            Specificity : 0.725414           \n",
       "         Pos Pred Value : 0.999172           \n",
       "         Neg Pred Value : 0.009772           \n",
       "             Prevalence : 0.997537           \n",
       "         Detection Rate : 0.816481           \n",
       "   Detection Prevalence : 0.817158           \n",
       "      Balanced Accuracy : 0.771955           \n",
       "                                             \n",
       "       'Positive' Class : 0                  \n",
       "                                             "
      ]
     },
     "metadata": {},
     "output_type": "display_data"
    }
   ],
   "source": [
    "# MATRIZ DE CONFUSÃO (OUTRO MODO COM O caret)\n",
    "library(caret)\n",
    "matriz_confusao4.1 <- confusionMatrix(previsao.modelo.svm.kernlab, dados_teste_final$Aplicativo.Baixado)\n",
    "matriz_confusao4.1"
   ]
  },
  {
   "cell_type": "markdown",
   "metadata": {},
   "source": [
    "#### **MÉTRICAS  DO MODELO SVM kernlab**"
   ]
  },
  {
   "cell_type": "code",
   "execution_count": 73,
   "metadata": {},
   "outputs": [],
   "source": [
    "# ACURÁCIA\n",
    "# TRUE POSITIVO = tp\n",
    "# TRUE NEGATIVO = tn\n",
    "# FALSO POSITIVO = fp\n",
    "# FALSO NEGATIVO = fn\n",
    "# Accuracy: tp + tn/ tp + tn + fp + fn OU Total de resultados corretos/ Total de resultados analisados\n",
    "\n",
    "Acuracia4 <- (matriz_confusao4[1,1] + matriz_confusao4[2,2])/(matriz_confusao4[1,1] + matriz_confusao4[2,2] + \n",
    "matriz_confusao4[1,2] + matriz_confusao4[2,1])\n",
    "\n",
    "# PRECISÃO\n",
    "# tp/(tp + fp)\n",
    "precisao4 <- matriz_confusao4[1,1]/(matriz_confusao4[1,1] + matriz_confusao4[1,2])\n",
    "\n",
    "# RECUPERAÇÃO \n",
    "# tp/(tp + fn)\n",
    "recall4 <- matriz_confusao4[1,1] / (matriz_confusao4[1,1] + matriz_confusao4[2,1])\n",
    "\n",
    "# F1 SCORE\n",
    "# 2*tp / (2 * tp + fp + fn) OU 2 * precisao * recall/ (precisao + recall)\n",
    "\n",
    "f1_score4 <- 2 * precisao4 * recall4/(precisao4 + recall4)"
   ]
  },
  {
   "cell_type": "code",
   "execution_count": 74,
   "metadata": {},
   "outputs": [
    {
     "name": "stdout",
     "output_type": "stream",
     "text": [
      "Modelo SVM kernlab\n",
      "\n",
      "Acurácia: 0.8183 \n",
      "Recall: 0.8185 \n",
      "Precisão: 0.9992 \n",
      "F1 Score: 0.8999"
     ]
    }
   ],
   "source": [
    "cat(\"Modelo SVM kernlab\\n\\nAcurácia:\", round(Acuracia4,4),\n",
    "    \"\\nRecall:\", round(recall4,4),\n",
    "    \"\\nPrecisão:\", round(precisao4,4),\n",
    "    \"\\nF1 Score:\", round(f1_score4,4))"
   ]
  },
  {
   "cell_type": "code",
   "execution_count": 75,
   "metadata": {},
   "outputs": [],
   "source": [
    "# CURVA ROC\n",
    "previsao4 <- prediction(as.double(previsao.modelo.svm.kernlab), dados_teste_final$Aplicativo.Baixado)"
   ]
  },
  {
   "cell_type": "code",
   "execution_count": 76,
   "metadata": {},
   "outputs": [
    {
     "data": {
      "image/png": "[encoded data removed]",
      "text/plain": [
       "Plot with title \"Curva ROC\""
      ]
     },
     "metadata": {},
     "output_type": "display_data"
    },
    {
     "data": {
      "image/png": "[encoded data removed]",
      "text/plain": [
       "Plot with title \"Curva Precision/Recall\""
      ]
     },
     "metadata": {},
     "output_type": "display_data"
    }
   ],
   "source": [
    "plot.roc.curve(previsao4, title.text = \"Curva ROC\")\n",
    "plot.pr.curve(previsao4, title.text = \"Curva Precision/Recall\")"
   ]
  },
  {
   "cell_type": "markdown",
   "metadata": {},
   "source": [
    "### **MODELO 5 - KNN (pacote:class)**"
   ]
  },
  {
   "cell_type": "code",
   "execution_count": 77,
   "metadata": {},
   "outputs": [],
   "source": [
    "# CARREGANDO PACOTE\n",
    "suppressPackageStartupMessages({library(class)})"
   ]
  },
  {
   "cell_type": "code",
   "execution_count": 78,
   "metadata": {},
   "outputs": [],
   "source": [
    "# MODELO E PREVISÃO\n",
    "modelo.knn <- knn(train = dados_treino_down_sample, \n",
    "                     test = dados_teste_final,\n",
    "                     cl = dados_treino_down_sample$Aplicativo.Baixado, \n",
    "                     k = 15)"
   ]
  },
  {
   "cell_type": "code",
   "execution_count": 79,
   "metadata": {},
   "outputs": [
    {
     "data": {
      "text/html": [
       "<dl class=dl-horizontal>\n",
       "\t<dt>0</dt>\n",
       "\t\t<dd>1028124</dd>\n",
       "\t<dt>1</dt>\n",
       "\t\t<dd>321876</dd>\n",
       "</dl>\n"
      ],
      "text/latex": [
       "\\begin{description*}\n",
       "\\item[0] 1028124\n",
       "\\item[1] 321876\n",
       "\\end{description*}\n"
      ],
      "text/markdown": [
       "0\n",
       ":   10281241\n",
       ":   321876\n",
       "\n"
      ],
      "text/plain": [
       "      0       1 \n",
       "1028124  321876 "
      ]
     },
     "metadata": {},
     "output_type": "display_data"
    }
   ],
   "source": [
    "# VISUALIZAÇÃO DO MODELO\n",
    "summary(modelo.knn)"
   ]
  },
  {
   "cell_type": "code",
   "execution_count": 80,
   "metadata": {},
   "outputs": [
    {
     "data": {
      "text/plain": [
       "        Reference\n",
       "Previsto       0       1\n",
       "       0 1026881    1243\n",
       "       1  319794    2082"
      ]
     },
     "metadata": {},
     "output_type": "display_data"
    }
   ],
   "source": [
    "# MATRIZ DE CONFUSÃO\n",
    "matriz_confusao5 <- table(Previsto = modelo.knn, Reference = dados_teste_final$Aplicativo.Baixado)\n",
    "matriz_confusao5"
   ]
  },
  {
   "cell_type": "code",
   "execution_count": 81,
   "metadata": {},
   "outputs": [
    {
     "data": {
      "text/plain": [
       "Confusion Matrix and Statistics\n",
       "\n",
       "          Reference\n",
       "Prediction       0       1\n",
       "         0 1026881    1243\n",
       "         1  319794    2082\n",
       "                                             \n",
       "               Accuracy : 0.7622             \n",
       "                 95% CI : (0.7615, 0.7629)   \n",
       "    No Information Rate : 0.9975             \n",
       "    P-Value [Acc > NIR] : 1                  \n",
       "                                             \n",
       "                  Kappa : 0.008              \n",
       "                                             \n",
       " Mcnemar's Test P-Value : <0.0000000000000002\n",
       "                                             \n",
       "            Sensitivity : 0.762531           \n",
       "            Specificity : 0.626165           \n",
       "         Pos Pred Value : 0.998791           \n",
       "         Neg Pred Value : 0.006468           \n",
       "             Prevalence : 0.997537           \n",
       "         Detection Rate : 0.760653           \n",
       "   Detection Prevalence : 0.761573           \n",
       "      Balanced Accuracy : 0.694348           \n",
       "                                             \n",
       "       'Positive' Class : 0                  \n",
       "                                             "
      ]
     },
     "metadata": {},
     "output_type": "display_data"
    }
   ],
   "source": [
    "# MATRIZ DE CONFUSÃO (OUTRO MODO COM O caret)\n",
    "library(caret)\n",
    "matriz_confusao5.1 <- confusionMatrix(modelo.knn, dados_teste_final$Aplicativo.Baixado)\n",
    "matriz_confusao5.1"
   ]
  },
  {
   "cell_type": "markdown",
   "metadata": {},
   "source": [
    "#### **MÉTRICAS  DO MODELO KNN**"
   ]
  },
  {
   "cell_type": "code",
   "execution_count": 82,
   "metadata": {},
   "outputs": [],
   "source": [
    "# ACURÁCIA\n",
    "# TRUE POSITIVO = tp\n",
    "# TRUE NEGATIVO = tn\n",
    "# FALSO POSITIVO = fp\n",
    "# FALSO NEGATIVO = fn\n",
    "# Accuracy: tp + tn/ tp + tn + fp + fn OU Total de resultados corretos/ Total de resultados analisados\n",
    "\n",
    "Acuracia5 <- (matriz_confusao5[1,1] + matriz_confusao5[2,2])/(matriz_confusao5[1,1] + matriz_confusao5[2,2] + \n",
    "matriz_confusao5[1,2] + matriz_confusao5[2,1])\n",
    "\n",
    "# PRECISÃO\n",
    "# tp/(tp + fp)\n",
    "precisao5 <- matriz_confusao5[1,1]/(matriz_confusao5[1,1] + matriz_confusao5[1,2])\n",
    "\n",
    "# RECUPERAÇÃO \n",
    "# tp/(tp + fn)\n",
    "recall5 <- matriz_confusao5[1,1] / (matriz_confusao5[1,1] + matriz_confusao5[2,1])\n",
    "\n",
    "# F1 SCORE\n",
    "# 2*tp / (2 * tp + fp + fn) OU 2 * precisao * recall/ (precisao + recall)\n",
    "\n",
    "f1_score5 <- 2 * precisao4 * recall5/(precisao5 + recall5)"
   ]
  },
  {
   "cell_type": "code",
   "execution_count": 83,
   "metadata": {},
   "outputs": [
    {
     "name": "stdout",
     "output_type": "stream",
     "text": [
      "Modelo KNN\n",
      "\n",
      "Acurácia: 0.7622 \n",
      "Recall: 0.7625 \n",
      "Precisão: 0.9988 \n",
      "F1 Score: 0.8651"
     ]
    }
   ],
   "source": [
    "cat(\"Modelo KNN\\n\\nAcurácia:\", round(Acuracia5,4),\n",
    "    \"\\nRecall:\", round(recall5,4),\n",
    "    \"\\nPrecisão:\", round(precisao5,4),\n",
    "    \"\\nF1 Score:\", round(f1_score5,4))"
   ]
  },
  {
   "cell_type": "code",
   "execution_count": 84,
   "metadata": {},
   "outputs": [],
   "source": [
    "# CURVA ROC\n",
    "previsao5 <- prediction(as.double(modelo.knn), dados_teste_final$Aplicativo.Baixado)"
   ]
  },
  {
   "cell_type": "code",
   "execution_count": 85,
   "metadata": {},
   "outputs": [
    {
     "data": {
      "image/png": "[encoded data removed]",
      "text/plain": [
       "Plot with title \"Curva ROC\""
      ]
     },
     "metadata": {},
     "output_type": "display_data"
    },
    {
     "data": {
      "image/png": "[encoded data removed]",
      "text/plain": [
       "Plot with title \"Curva Precision/Recall\""
      ]
     },
     "metadata": {},
     "output_type": "display_data"
    }
   ],
   "source": [
    "plot.roc.curve(previsao5, title.text = \"Curva ROC\")\n",
    "plot.pr.curve(previsao5, title.text = \"Curva Precision/Recall\")"
   ]
  },
  {
   "cell_type": "markdown",
   "metadata": {},
   "source": [
    "### **MODELO 6 - ÁRVORE DE DECISÃO (pacote:rpart)**"
   ]
  },
  {
   "cell_type": "code",
   "execution_count": 86,
   "metadata": {},
   "outputs": [],
   "source": [
    "# CARREGANDO PACOTE\n",
    "suppressPackageStartupMessages({library(rpart)})"
   ]
  },
  {
   "cell_type": "code",
   "execution_count": 87,
   "metadata": {},
   "outputs": [],
   "source": [
    "# MODELO\n",
    "modelo.arvore.decisao <- rpart(Aplicativo.Baixado ~ . , method = 'class', data = dados_treino_down_sample)"
   ]
  },
  {
   "cell_type": "code",
   "execution_count": 88,
   "metadata": {},
   "outputs": [
    {
     "data": {
      "text/html": [
       "'rpart'"
      ],
      "text/latex": [
       "'rpart'"
      ],
      "text/markdown": [
       "'rpart'"
      ],
      "text/plain": [
       "[1] \"rpart\""
      ]
     },
     "metadata": {},
     "output_type": "display_data"
    }
   ],
   "source": [
    "class(modelo.arvore.decisao)"
   ]
  },
  {
   "cell_type": "code",
   "execution_count": 89,
   "metadata": {},
   "outputs": [
    {
     "name": "stdout",
     "output_type": "stream",
     "text": [
      "\n",
      "Classification tree:\n",
      "rpart(formula = Aplicativo.Baixado ~ ., data = dados_treino_down_sample, \n",
      "    method = \"class\")\n",
      "\n",
      "Variables actually used in tree construction:\n",
      "[1] ID.App           ID.Canal.Anuncio\n",
      "\n",
      "Root node error: 7757/15514 = 0.5\n",
      "\n",
      "n= 15514 \n",
      "\n",
      "        CP nsplit rel error  xerror      xstd\n",
      "1 0.581153      0   1.00000 1.03545 0.0080235\n",
      "2 0.065360      1   0.41885 0.41885 0.0065336\n",
      "3 0.057368      2   0.35349 0.35349 0.0061250\n",
      "4 0.036032      3   0.29612 0.29612 0.0057028\n",
      "5 0.010000      5   0.22406 0.22406 0.0050644\n"
     ]
    }
   ],
   "source": [
    "# EXAMINA O RESULTADO DO MODELO DA ÁRVORE DE DECISÃO printcp()\n",
    "printcp(modelo.arvore.decisao)"
   ]
  },
  {
   "cell_type": "code",
   "execution_count": null,
   "metadata": {},
   "outputs": [],
   "source": [
    "# PLOTA A ÁRVORE DE DECISÃO plot() \n",
    "#plot(modelo.arvore.decisao, uniform = TRUE, main = \"Arvore de Decisao\")\n",
    "\n",
    "# ACRESCENTA TEXTO AOS NÓS text() \n",
    "#text(modelo.arvore.decisao, use.n = TRUE, all = TRUE)"
   ]
  },
  {
   "cell_type": "code",
   "execution_count": 90,
   "metadata": {},
   "outputs": [
    {
     "name": "stdout",
     "output_type": "stream",
     "text": [
      "package 'rpart.plot' successfully unpacked and MD5 sums checked\n",
      "\n",
      "The downloaded binary packages are in\n",
      "\tC:\\Users\\lealj\\AppData\\Local\\Temp\\RtmpCqY879\\downloaded_packages\n"
     ]
    },
    {
     "data": {
      "image/png": "[encoded data removed]",
      "text/plain": [
       "plot without title"
      ]
     },
     "metadata": {},
     "output_type": "display_data"
    }
   ],
   "source": [
    "# OUTRA FORMA DE PLOTAR A ÁRVORE DE DECISÃO - FORMA MAIS AMIGÁVEL\n",
    "suppressPackageStartupMessages({install.packages('rpart.plot')})\n",
    "suppressPackageStartupMessages({library(rpart.plot)})\n",
    "prp(modelo.arvore.decisao)"
   ]
  },
  {
   "cell_type": "code",
   "execution_count": 91,
   "metadata": {},
   "outputs": [],
   "source": [
    "# PREVISÃO DO MODELO\n",
    "previsao.modelo.arvore.decisao <- predict(modelo.arvore.decisao, dados_teste_final, type='class')"
   ]
  },
  {
   "cell_type": "code",
   "execution_count": 92,
   "metadata": {},
   "outputs": [
    {
     "data": {
      "text/plain": [
       "        Reference\n",
       "Previsto       0       1\n",
       "       0 1300162     593\n",
       "       1   46513    2732"
      ]
     },
     "metadata": {},
     "output_type": "display_data"
    }
   ],
   "source": [
    "# MATRIZ DE CONFUSÃO\n",
    "matriz_confusao6 <- table(Previsto = previsao.modelo.arvore.decisao, \n",
    "                          Reference = dados_teste_final$Aplicativo.Baixado)\n",
    "matriz_confusao6"
   ]
  },
  {
   "cell_type": "markdown",
   "metadata": {},
   "source": [
    "#### **MÉTRICAS DO MODELO DE ÁRVORE DE DECISÃO**"
   ]
  },
  {
   "cell_type": "code",
   "execution_count": 93,
   "metadata": {},
   "outputs": [],
   "source": [
    "# ACURÁCIA\n",
    "# TRUE POSITIVO = tp\n",
    "# TRUE NEGATIVO = tn\n",
    "# FALSO POSITIVO = fp\n",
    "# FALSO NEGATIVO = fn\n",
    "# Accuracy: tp + tn/ tp + tn + fp + fn OU Total de resultados corretos/ Total de resultados analisados\n",
    "\n",
    "Acuracia6 <- (matriz_confusao6[1,1] + matriz_confusao6[2,2])/(matriz_confusao6[1,1] + matriz_confusao6[2,2] + \n",
    "matriz_confusao6[1,2] + matriz_confusao6[2,1])\n",
    "\n",
    "# PRECISÃO\n",
    "# tp/(tp + fp)\n",
    "precisao6 <- matriz_confusao6[1,1]/(matriz_confusao6[1,1] + matriz_confusao6[1,2])\n",
    "\n",
    "# RECUPERAÇÃO \n",
    "# tp/(tp + fn)\n",
    "recall6 <- matriz_confusao6[1,1] / (matriz_confusao6[1,1] + matriz_confusao6[2,1])\n",
    "\n",
    "# F1 SCORE\n",
    "# 2*tp / (2 * tp + fp + fn) OU 2 * precisao * recall/ (precisao + recall)\n",
    "\n",
    "f1_score6 <- 2 * precisao6 * recall6/(precisao6 + recall6)"
   ]
  },
  {
   "cell_type": "code",
   "execution_count": 94,
   "metadata": {},
   "outputs": [
    {
     "name": "stdout",
     "output_type": "stream",
     "text": [
      "Modelo Árvore de Decisão\n",
      "\n",
      "Acurácia: 0.9651 \n",
      "Recall: 0.9655 \n",
      "Precisão: 0.9995 \n",
      "F1 Score: 0.9822"
     ]
    }
   ],
   "source": [
    "cat(\"Modelo Árvore de Decisão\\n\\nAcurácia:\", round(Acuracia6,4),\n",
    "    \"\\nRecall:\", round(recall6,4),\n",
    "    \"\\nPrecisão:\", round(precisao6,4),\n",
    "    \"\\nF1 Score:\", round(f1_score6,4))"
   ]
  },
  {
   "cell_type": "code",
   "execution_count": 95,
   "metadata": {},
   "outputs": [],
   "source": [
    "# CURVA ROC\n",
    "previsao6 <- prediction(as.double(previsao.modelo.arvore.decisao), dados_teste_final$Aplicativo.Baixado)"
   ]
  },
  {
   "cell_type": "code",
   "execution_count": 96,
   "metadata": {},
   "outputs": [
    {
     "data": {
      "image/png": "[encoded data removed]",
      "text/plain": [
       "Plot with title \"Curva ROC\""
      ]
     },
     "metadata": {},
     "output_type": "display_data"
    },
    {
     "data": {
      "image/png": "[encoded data removed]",
      "text/plain": [
       "Plot with title \"Curva Precision/Recall\""
      ]
     },
     "metadata": {},
     "output_type": "display_data"
    }
   ],
   "source": [
    "plot.roc.curve(previsao6, title.text = \"Curva ROC\")\n",
    "plot.pr.curve(previsao6, title.text = \"Curva Precision/Recall\")"
   ]
  },
  {
   "cell_type": "markdown",
   "metadata": {},
   "source": [
    "### **MODELO 7 - RANDOM FOREST (pacote:rpart)**"
   ]
  },
  {
   "cell_type": "code",
   "execution_count": 97,
   "metadata": {},
   "outputs": [],
   "source": [
    "# CARREGANDO O PACOTE\n",
    "suppressPackageStartupMessages({library(rpart)})"
   ]
  },
  {
   "cell_type": "code",
   "execution_count": 98,
   "metadata": {},
   "outputs": [],
   "source": [
    "# MODELO\n",
    "modelo.randomforest.rpart = rpart(Aplicativo.Baixado ~ ., data = dados_treino_down_sample, control = rpart.control(cp = .0005)) "
   ]
  },
  {
   "cell_type": "code",
   "execution_count": 99,
   "metadata": {},
   "outputs": [
    {
     "name": "stdout",
     "output_type": "stream",
     "text": [
      "Call:\n",
      "rpart(formula = Aplicativo.Baixado ~ ., data = dados_treino_down_sample, \n",
      "    control = rpart.control(cp = 0.0005))\n",
      "  n= 15514 \n",
      "\n",
      "             CP nsplit rel error    xerror        xstd\n",
      "1  0.5811525074      0 1.0000000 1.0214000 0.008026730\n",
      "2  0.0653603197      1 0.4188475 0.4188475 0.006533606\n",
      "3  0.0573675390      2 0.3534872 0.3534872 0.006125020\n",
      "4  0.0360319711      3 0.2961196 0.2961196 0.005702841\n",
      "5  0.0043186799      5 0.2240557 0.2240557 0.005064432\n",
      "6  0.0029650638      7 0.2154183 0.2158051 0.004981844\n",
      "7  0.0028361480      8 0.2124533 0.2137424 0.004960843\n",
      "8  0.0018416545     11 0.2039448 0.2047183 0.004867240\n",
      "9  0.0013536161     18 0.1910532 0.1955653 0.004769299\n",
      "10 0.0012891582     20 0.1883460 0.1927291 0.004738310\n",
      "11 0.0010313265     21 0.1870569 0.1915689 0.004725542\n",
      "12 0.0008701818     23 0.1849942 0.1913111 0.004722697\n",
      "13 0.0007734949     27 0.1815135 0.1898930 0.004707006\n",
      "14 0.0007090370     29 0.1799665 0.1897641 0.004705575\n",
      "15 0.0006445791     36 0.1749388 0.1884749 0.004691234\n",
      "16 0.0005801212     40 0.1723604 0.1882171 0.004688357\n",
      "17 0.0005156633     42 0.1712002 0.1870569 0.004675381\n",
      "18 0.0005000000     46 0.1691376 0.1869279 0.004673936\n",
      "\n",
      "Variable importance\n",
      "          ID.App ID.Canal.Anuncio Tipo.Dispositivo               IP \n",
      "              51               23               10                9 \n",
      "           ID.OS \n",
      "               7 \n",
      "\n",
      "Node number 1: 15514 observations,    complexity param=0.5811525\n",
      "  predicted class=0  expected loss=0.5  P(node) =1\n",
      "    class counts:  7757  7757\n",
      "   probabilities: 0.500 0.500 \n",
      "  left son=2 (9070 obs) right son=3 (6444 obs)\n",
      "  Primary splits:\n",
      "      ID.App           < 18.5     to the left,  improve=2697.1110, (0 missing)\n",
      "      IP               < 126697   to the left,  improve=1203.6490, (0 missing)\n",
      "      Tipo.Dispositivo < 0.5      to the right, improve= 922.0575, (0 missing)\n",
      "      ID.Canal.Anuncio < 214      to the right, improve= 678.9025, (0 missing)\n",
      "      ID.OS            < 20.5     to the left,  improve= 421.8062, (0 missing)\n",
      "  Surrogate splits:\n",
      "      Tipo.Dispositivo < 0.5      to the right, agree=0.698, adj=0.273, (0 split)\n",
      "      ID.Canal.Anuncio < 106      to the right, agree=0.656, adj=0.172, (0 split)\n",
      "      IP               < 201807   to the left,  agree=0.627, adj=0.102, (0 split)\n",
      "      ID.OS            < 0.5      to the right, agree=0.624, adj=0.096, (0 split)\n",
      "\n",
      "Node number 2: 9070 observations,    complexity param=0.06536032\n",
      "  predicted class=0  expected loss=0.2514884  P(node) =0.5846332\n",
      "    class counts:  6789  2281\n",
      "   probabilities: 0.749 0.251 \n",
      "  left son=4 (7335 obs) right son=5 (1735 obs)\n",
      "  Primary splits:\n",
      "      ID.Canal.Anuncio < 114.5    to the right, improve=668.18580, (0 missing)\n",
      "      IP               < 127320   to the left,  improve=536.84360, (0 missing)\n",
      "      ID.App           < 11.5     to the right, improve=256.26650, (0 missing)\n",
      "      ID.OS            < 26.5     to the left,  improve=202.45720, (0 missing)\n",
      "      Tipo.Dispositivo < 1.5      to the right, improve= 27.00307, (0 missing)\n",
      "  Surrogate splits:\n",
      "      ID.OS            < 42.5     to the left,  agree=0.821, adj=0.064, (0 split)\n",
      "      IP               < 265485.5 to the left,  agree=0.820, adj=0.058, (0 split)\n",
      "      Tipo.Dispositivo < 38.5     to the left,  agree=0.813, adj=0.020, (0 split)\n",
      "      ID.App           < 0.5      to the right, agree=0.811, adj=0.013, (0 split)\n",
      "\n",
      "Node number 3: 6444 observations,    complexity param=0.03603197\n",
      "  predicted class=1  expected loss=0.1502173  P(node) =0.4153668\n",
      "    class counts:   968  5476\n",
      "   probabilities: 0.150 0.850 \n",
      "  left son=6 (4181 obs) right son=7 (2263 obs)\n",
      "  Primary splits:\n",
      "      ID.App           < 19.5     to the right, improve=127.49640, (0 missing)\n",
      "      IP               < 127001   to the left,  improve=109.36380, (0 missing)\n",
      "      Tipo.Dispositivo < 0.5      to the right, improve= 79.79864, (0 missing)\n",
      "      ID.Canal.Anuncio < 452      to the right, improve= 75.87148, (0 missing)\n",
      "      ID.OS            < 20.5     to the left,  improve= 35.28831, (0 missing)\n",
      "  Surrogate splits:\n",
      "      Tipo.Dispositivo < 0.5      to the right, agree=0.866, adj=0.618, (0 split)\n",
      "      ID.OS            < 20.5     to the left,  agree=0.770, adj=0.344, (0 split)\n",
      "      IP               < 335083   to the left,  agree=0.654, adj=0.015, (0 split)\n",
      "      ID.Canal.Anuncio < 206.5    to the left,  agree=0.653, adj=0.011, (0 split)\n",
      "\n",
      "Node number 4: 7335 observations,    complexity param=0.001841655\n",
      "  predicted class=0  expected loss=0.1581459  P(node) =0.4727988\n",
      "    class counts:  6175  1160\n",
      "   probabilities: 0.842 0.158 \n",
      "  left son=8 (6754 obs) right son=9 (581 obs)\n",
      "  Primary splits:\n",
      "      IP               < 213529   to the left,  improve=73.396630, (0 missing)\n",
      "      ID.App           < 11.5     to the right, improve=45.995630, (0 missing)\n",
      "      Tipo.Dispositivo < 1.5      to the right, improve= 9.671961, (0 missing)\n",
      "      ID.OS            < 22.5     to the right, improve= 9.080433, (0 missing)\n",
      "      ID.Canal.Anuncio < 281      to the left,  improve= 5.649363, (0 missing)\n",
      "\n",
      "Node number 5: 1735 observations,    complexity param=0.05736754\n",
      "  predicted class=1  expected loss=0.3538905  P(node) =0.1118345\n",
      "    class counts:   614  1121\n",
      "   probabilities: 0.354 0.646 \n",
      "  left son=10 (737 obs) right son=11 (998 obs)\n",
      "  Primary splits:\n",
      "      ID.Canal.Anuncio < 112      to the left,  improve=514.32790, (0 missing)\n",
      "      ID.App           < 11       to the right, improve=348.96560, (0 missing)\n",
      "      IP               < 127355.5 to the left,  improve=342.33240, (0 missing)\n",
      "      ID.OS            < 25.5     to the left,  improve=147.16890, (0 missing)\n",
      "      Tipo.Dispositivo < 2794     to the right, improve= 23.76108, (0 missing)\n",
      "  Surrogate splits:\n",
      "      IP               < 127997   to the left,  agree=0.844, adj=0.632, (0 split)\n",
      "      ID.App           < 11       to the right, agree=0.838, adj=0.619, (0 split)\n",
      "      ID.OS            < 25.5     to the left,  agree=0.748, adj=0.406, (0 split)\n",
      "      Tipo.Dispositivo < 1.5      to the right, agree=0.603, adj=0.066, (0 split)\n",
      "\n",
      "Node number 6: 4181 observations,    complexity param=0.03603197\n",
      "  predicted class=1  expected loss=0.2233915  P(node) =0.2694985\n",
      "    class counts:   934  3247\n",
      "   probabilities: 0.223 0.777 \n",
      "  left son=12 (899 obs) right son=13 (3282 obs)\n",
      "  Primary splits:\n",
      "      ID.App           < 28.5     to the left,  improve=790.607700, (0 missing)\n",
      "      ID.Canal.Anuncio < 103      to the right, improve=175.721900, (0 missing)\n",
      "      IP               < 127791   to the left,  improve=105.222600, (0 missing)\n",
      "      Tipo.Dispositivo < 1705     to the right, improve= 21.686410, (0 missing)\n",
      "      ID.OS            < 433.5    to the right, improve=  6.042653, (0 missing)\n",
      "  Surrogate splits:\n",
      "      ID.Canal.Anuncio < 473      to the right, agree=0.809, adj=0.113, (0 split)\n",
      "\n",
      "Node number 7: 2263 observations\n",
      "  predicted class=1  expected loss=0.0150243  P(node) =0.1458682\n",
      "    class counts:    34  2229\n",
      "   probabilities: 0.015 0.985 \n",
      "\n",
      "Node number 8: 6754 observations,    complexity param=0.001841655\n",
      "  predicted class=0  expected loss=0.1374001  P(node) =0.4353487\n",
      "    class counts:  5826   928\n",
      "   probabilities: 0.863 0.137 \n",
      "  left son=16 (2681 obs) right son=17 (4073 obs)\n",
      "  Primary splits:\n",
      "      ID.App           < 7        to the left,  improve=40.244480, (0 missing)\n",
      "      ID.OS            < 22.5     to the right, improve=11.916200, (0 missing)\n",
      "      IP               < 123855   to the left,  improve=10.237530, (0 missing)\n",
      "      Tipo.Dispositivo < 1.5      to the right, improve= 6.639577, (0 missing)\n",
      "      ID.Canal.Anuncio < 244.5    to the right, improve= 5.629316, (0 missing)\n",
      "  Surrogate splits:\n",
      "      ID.Canal.Anuncio < 119      to the left,  agree=0.612, adj=0.022, (0 split)\n",
      "\n",
      "Node number 9: 581 observations,    complexity param=0.001841655\n",
      "  predicted class=0  expected loss=0.3993115  P(node) =0.03745005\n",
      "    class counts:   349   232\n",
      "   probabilities: 0.601 0.399 \n",
      "  left son=18 (222 obs) right son=19 (359 obs)\n",
      "  Primary splits:\n",
      "      ID.App           < 11.5     to the right, improve=8.857119, (0 missing)\n",
      "      Tipo.Dispositivo < 1.5      to the right, improve=4.060501, (0 missing)\n",
      "      ID.OS            < 18.5     to the left,  improve=2.934748, (0 missing)\n",
      "      ID.Canal.Anuncio < 281      to the left,  improve=2.724273, (0 missing)\n",
      "      IP               < 233670.5 to the right, improve=2.241066, (0 missing)\n",
      "  Surrogate splits:\n",
      "      ID.Canal.Anuncio < 121.5    to the left,  agree=0.644, adj=0.068, (0 split)\n",
      "      ID.OS            < 62.5     to the right, agree=0.621, adj=0.009, (0 split)\n",
      "\n",
      "Node number 10: 737 observations,    complexity param=0.002965064\n",
      "  predicted class=0  expected loss=0.1981004  P(node) =0.04750548\n",
      "    class counts:   591   146\n",
      "   probabilities: 0.802 0.198 \n",
      "  left son=20 (714 obs) right son=21 (23 obs)\n",
      "  Primary splits:\n",
      "      ID.App           < 0.5      to the right, improve=30.532830, (0 missing)\n",
      "      IP               < 208534   to the left,  improve=25.566650, (0 missing)\n",
      "      Tipo.Dispositivo < 0.5      to the right, improve=18.353850, (0 missing)\n",
      "      ID.Canal.Anuncio < 23       to the left,  improve= 8.793075, (0 missing)\n",
      "      ID.OS            < 12.5     to the left,  improve= 1.254925, (0 missing)\n",
      "  Surrogate splits:\n",
      "      Tipo.Dispositivo < 0.5      to the right, agree=0.988, adj=0.609, (0 split)\n",
      "      ID.OS            < 807      to the left,  agree=0.970, adj=0.043, (0 split)\n",
      "\n",
      "Node number 11: 998 observations,    complexity param=0.0007734949\n",
      "  predicted class=1  expected loss=0.02304609  P(node) =0.06432899\n",
      "    class counts:    23   975\n",
      "   probabilities: 0.023 0.977 \n",
      "  left son=22 (12 obs) right son=23 (986 obs)\n",
      "  Primary splits:\n",
      "      ID.App           < 12       to the right, improve=12.837450000, (0 missing)\n",
      "      IP               < 119512.5 to the left,  improve= 3.769287000, (0 missing)\n",
      "      ID.OS            < 25.5     to the left,  improve= 1.482074000, (0 missing)\n",
      "      ID.Canal.Anuncio < 113.5    to the left,  improve= 0.008566628, (0 missing)\n",
      "\n",
      "Node number 12: 899 observations,    complexity param=0.002836148\n",
      "  predicted class=0  expected loss=0.189099  P(node) =0.05794766\n",
      "    class counts:   729   170\n",
      "   probabilities: 0.811 0.189 \n",
      "  left son=24 (691 obs) right son=25 (208 obs)\n",
      "  Primary splits:\n",
      "      ID.Canal.Anuncio < 264      to the left,  improve=57.280580, (0 missing)\n",
      "      ID.App           < 20.5     to the right, improve=32.600660, (0 missing)\n",
      "      IP               < 195905.5 to the left,  improve=11.552590, (0 missing)\n",
      "      ID.OS            < 31.5     to the left,  improve=10.136060, (0 missing)\n",
      "      Tipo.Dispositivo < 1.5      to the right, improve= 4.189753, (0 missing)\n",
      "  Surrogate splits:\n",
      "      IP < 291587   to the left,  agree=0.771, adj=0.01, (0 split)\n",
      "\n",
      "Node number 13: 3282 observations,    complexity param=0.00431868\n",
      "  predicted class=1  expected loss=0.06246191  P(node) =0.2115509\n",
      "    class counts:   205  3077\n",
      "   probabilities: 0.062 0.938 \n",
      "  left son=26 (360 obs) right son=27 (2922 obs)\n",
      "  Primary splits:\n",
      "      ID.Canal.Anuncio < 345      to the right, improve=86.171360, (0 missing)\n",
      "      Tipo.Dispositivo < 1705     to the right, improve=33.674940, (0 missing)\n",
      "      ID.App           < 45.5     to the right, improve=18.075480, (0 missing)\n",
      "      ID.OS            < 433.5    to the right, improve=16.131870, (0 missing)\n",
      "      IP               < 132979   to the left,  improve= 9.163313, (0 missing)\n",
      "  Surrogate splits:\n",
      "      Tipo.Dispositivo < 2562.5   to the right, agree=0.895, adj=0.044, (0 split)\n",
      "      ID.App           < 482.5    to the right, agree=0.891, adj=0.006, (0 split)\n",
      "\n",
      "Node number 16: 2681 observations\n",
      "  predicted class=0  expected loss=0.07012309  P(node) =0.1728117\n",
      "    class counts:  2493   188\n",
      "   probabilities: 0.930 0.070 \n",
      "\n",
      "Node number 17: 4073 observations,    complexity param=0.001841655\n",
      "  predicted class=0  expected loss=0.1816843  P(node) =0.2625371\n",
      "    class counts:  3333   740\n",
      "   probabilities: 0.818 0.182 \n",
      "  left son=34 (2583 obs) right son=35 (1490 obs)\n",
      "  Primary splits:\n",
      "      ID.App           < 11.5     to the right, improve=177.134000, (0 missing)\n",
      "      ID.OS            < 25.5     to the right, improve= 13.201080, (0 missing)\n",
      "      ID.Canal.Anuncio < 244.5    to the right, improve=  8.526389, (0 missing)\n",
      "      Tipo.Dispositivo < 1.5      to the right, improve=  6.380606, (0 missing)\n",
      "      IP               < 122716   to the left,  improve=  3.085535, (0 missing)\n",
      "  Surrogate splits:\n",
      "      ID.Canal.Anuncio < 244.5    to the right, agree=0.639, adj=0.012, (0 split)\n",
      "\n",
      "Node number 18: 222 observations,    complexity param=0.001289158\n",
      "  predicted class=0  expected loss=0.2882883  P(node) =0.01430966\n",
      "    class counts:   158    64\n",
      "   probabilities: 0.712 0.288 \n",
      "  left son=36 (166 obs) right son=37 (56 obs)\n",
      "  Primary splits:\n",
      "      ID.App           < 15.5     to the left,  improve=13.570270, (0 missing)\n",
      "      ID.Canal.Anuncio < 125.5    to the right, improve= 3.010980, (0 missing)\n",
      "      ID.OS            < 8.5      to the right, improve= 2.573157, (0 missing)\n",
      "      Tipo.Dispositivo < 1.5      to the right, improve= 1.379473, (0 missing)\n",
      "      IP               < 233612   to the right, improve= 1.224256, (0 missing)\n",
      "  Surrogate splits:\n",
      "      ID.Canal.Anuncio < 122      to the right, agree=0.815, adj=0.268, (0 split)\n",
      "\n",
      "Node number 19: 359 observations,    complexity param=0.001841655\n",
      "  predicted class=0  expected loss=0.4679666  P(node) =0.02314039\n",
      "    class counts:   191   168\n",
      "   probabilities: 0.532 0.468 \n",
      "  left son=38 (234 obs) right son=39 (125 obs)\n",
      "  Primary splits:\n",
      "      ID.App           < 8.5      to the left,  improve=12.431540, (0 missing)\n",
      "      IP               < 225863   to the right, improve= 3.204703, (0 missing)\n",
      "      ID.OS            < 18.5     to the left,  improve= 2.927501, (0 missing)\n",
      "      ID.Canal.Anuncio < 281      to the left,  improve= 2.843281, (0 missing)\n",
      "      Tipo.Dispositivo < 1.5      to the right, improve= 2.351168, (0 missing)\n",
      "  Surrogate splits:\n",
      "      ID.Canal.Anuncio < 134.5    to the right, agree=0.674, adj=0.064, (0 split)\n",
      "      IP               < 353646   to the left,  agree=0.657, adj=0.016, (0 split)\n",
      "\n",
      "Node number 20: 714 observations\n",
      "  predicted class=0  expected loss=0.1722689  P(node) =0.04602295\n",
      "    class counts:   591   123\n",
      "   probabilities: 0.828 0.172 \n",
      "\n",
      "Node number 21: 23 observations\n",
      "  predicted class=1  expected loss=0  P(node) =0.001482532\n",
      "    class counts:     0    23\n",
      "   probabilities: 0.000 1.000 \n",
      "\n",
      "Node number 22: 12 observations\n",
      "  predicted class=0  expected loss=0.25  P(node) =0.0007734949\n",
      "    class counts:     9     3\n",
      "   probabilities: 0.750 0.250 \n",
      "\n",
      "Node number 23: 986 observations\n",
      "  predicted class=1  expected loss=0.01419878  P(node) =0.0635555\n",
      "    class counts:    14   972\n",
      "   probabilities: 0.014 0.986 \n",
      "\n",
      "Node number 24: 691 observations\n",
      "  predicted class=0  expected loss=0.09117221  P(node) =0.04454042\n",
      "    class counts:   628    63\n",
      "   probabilities: 0.909 0.091 \n",
      "\n",
      "Node number 25: 208 observations,    complexity param=0.002836148\n",
      "  predicted class=1  expected loss=0.4855769  P(node) =0.01340725\n",
      "    class counts:   101   107\n",
      "   probabilities: 0.486 0.514 \n",
      "  left son=50 (173 obs) right son=51 (35 obs)\n",
      "  Primary splits:\n",
      "      ID.App           < 26.5     to the left,  improve=17.577540, (0 missing)\n",
      "      ID.OS            < 31.5     to the left,  improve=14.249660, (0 missing)\n",
      "      IP               < 134695.5 to the left,  improve=11.666930, (0 missing)\n",
      "      ID.Canal.Anuncio < 273      to the left,  improve= 6.416934, (0 missing)\n",
      "  Surrogate splits:\n",
      "      ID.OS < 31.5     to the left,  agree=0.942, adj=0.657, (0 split)\n",
      "      IP    < 163229.5 to the left,  agree=0.880, adj=0.286, (0 split)\n",
      "\n",
      "Node number 26: 360 observations,    complexity param=0.00431868\n",
      "  predicted class=1  expected loss=0.3888889  P(node) =0.02320485\n",
      "    class counts:   140   220\n",
      "   probabilities: 0.389 0.611 \n",
      "  left son=52 (153 obs) right son=53 (207 obs)\n",
      "  Primary splits:\n",
      "      ID.App           < 45.5     to the right, improve=57.97670, (0 missing)\n",
      "      IP               < 125782   to the left,  improve=45.80748, (0 missing)\n",
      "      ID.Canal.Anuncio < 408.5    to the left,  improve=21.23993, (0 missing)\n",
      "      Tipo.Dispositivo < 1552.5   to the right, improve=15.81699, (0 missing)\n",
      "      ID.OS            < 390.5    to the right, improve=15.81699, (0 missing)\n",
      "  Surrogate splits:\n",
      "      IP               < 143781   to the left,  agree=0.742, adj=0.392, (0 split)\n",
      "      ID.Canal.Anuncio < 420      to the right, agree=0.731, adj=0.366, (0 split)\n",
      "      ID.OS            < 22.5     to the left,  agree=0.639, adj=0.150, (0 split)\n",
      "      Tipo.Dispositivo < 0.5      to the left,  agree=0.617, adj=0.098, (0 split)\n",
      "\n",
      "Node number 27: 2922 observations\n",
      "  predicted class=1  expected loss=0.02224504  P(node) =0.188346\n",
      "    class counts:    65  2857\n",
      "   probabilities: 0.022 0.978 \n",
      "\n",
      "Node number 34: 2583 observations\n",
      "  predicted class=0  expected loss=0.06968641  P(node) =0.1664948\n",
      "    class counts:  2403   180\n",
      "   probabilities: 0.930 0.070 \n",
      "\n",
      "Node number 35: 1490 observations,    complexity param=0.001841655\n",
      "  predicted class=0  expected loss=0.3758389  P(node) =0.09604228\n",
      "    class counts:   930   560\n",
      "   probabilities: 0.624 0.376 \n",
      "  left son=70 (1166 obs) right son=71 (324 obs)\n",
      "  Primary splits:\n",
      "      ID.App           < 9.5      to the left,  improve=22.348900, (0 missing)\n",
      "      Tipo.Dispositivo < 1.5      to the right, improve=14.667860, (0 missing)\n",
      "      ID.OS            < 25.5     to the right, improve=11.632340, (0 missing)\n",
      "      ID.Canal.Anuncio < 138.5    to the left,  improve= 6.375495, (0 missing)\n",
      "      IP               < 109492   to the right, improve= 1.230025, (0 missing)\n",
      "  Surrogate splits:\n",
      "      ID.Canal.Anuncio < 124.5    to the right, agree=0.802, adj=0.090, (0 split)\n",
      "      IP               < 211258.5 to the left,  agree=0.785, adj=0.009, (0 split)\n",
      "\n",
      "Node number 36: 166 observations\n",
      "  predicted class=0  expected loss=0.186747  P(node) =0.01070001\n",
      "    class counts:   135    31\n",
      "   probabilities: 0.813 0.187 \n",
      "\n",
      "Node number 37: 56 observations,    complexity param=0.0005156633\n",
      "  predicted class=1  expected loss=0.4107143  P(node) =0.003609643\n",
      "    class counts:    23    33\n",
      "   probabilities: 0.411 0.589 \n",
      "  left son=74 (38 obs) right son=75 (18 obs)\n",
      "  Primary splits:\n",
      "      ID.App           < 17.5     to the right, improve=4.762114, (0 missing)\n",
      "      ID.Canal.Anuncio < 188.5    to the left,  improve=2.229365, (0 missing)\n",
      "      ID.OS            < 14       to the left,  improve=1.627769, (0 missing)\n",
      "      IP               < 257312   to the right, improve=1.607143, (0 missing)\n",
      "  Surrogate splits:\n",
      "      ID.Canal.Anuncio < 119.5    to the right, agree=0.732, adj=0.167, (0 split)\n",
      "      IP               < 345180.5 to the left,  agree=0.696, adj=0.056, (0 split)\n",
      "\n",
      "Node number 38: 234 observations,    complexity param=0.0007734949\n",
      "  predicted class=0  expected loss=0.3717949  P(node) =0.01508315\n",
      "    class counts:   147    87\n",
      "   probabilities: 0.628 0.372 \n",
      "  left son=76 (204 obs) right son=77 (30 obs)\n",
      "  Primary splits:\n",
      "      ID.OS            < 7        to the right, improve=3.584163, (0 missing)\n",
      "      IP               < 225780.5 to the right, improve=2.461538, (0 missing)\n",
      "      ID.App           < 2.5      to the left,  improve=2.104868, (0 missing)\n",
      "      ID.Canal.Anuncio < 478.5    to the left,  improve=1.627692, (0 missing)\n",
      "  Surrogate splits:\n",
      "      ID.Canal.Anuncio < 478.5    to the left,  agree=0.876, adj=0.033, (0 split)\n",
      "\n",
      "Node number 39: 125 observations,    complexity param=0.0006445791\n",
      "  predicted class=1  expected loss=0.352  P(node) =0.008057239\n",
      "    class counts:    44    81\n",
      "   probabilities: 0.352 0.648 \n",
      "  left son=78 (57 obs) right son=79 (68 obs)\n",
      "  Primary splits:\n",
      "      ID.OS            < 18.5     to the left,  improve=3.102947, (0 missing)\n",
      "      ID.Canal.Anuncio < 248.5    to the left,  improve=2.862961, (0 missing)\n",
      "      IP               < 235257.5 to the right, improve=1.368624, (0 missing)\n",
      "      ID.App           < 9.5      to the left,  improve=1.076701, (0 missing)\n",
      "  Surrogate splits:\n",
      "      IP               < 224675.5 to the left,  agree=0.632, adj=0.193, (0 split)\n",
      "      ID.Canal.Anuncio < 331      to the left,  agree=0.608, adj=0.140, (0 split)\n",
      "      ID.App           < 9.5      to the right, agree=0.552, adj=0.018, (0 split)\n",
      "\n",
      "Node number 50: 173 observations,    complexity param=0.002836148\n",
      "  predicted class=0  expected loss=0.4219653  P(node) =0.01115122\n",
      "    class counts:   100    73\n",
      "   probabilities: 0.578 0.422 \n",
      "  left son=100 (104 obs) right son=101 (69 obs)\n",
      "  Primary splits:\n",
      "      ID.App           < 21.5     to the right, improve=23.0920600, (0 missing)\n",
      "      ID.Canal.Anuncio < 477.5    to the left,  improve=16.0348400, (0 missing)\n",
      "      IP               < 88557    to the right, improve= 1.3262710, (0 missing)\n",
      "      ID.OS            < 11.5     to the left,  improve= 0.8353575, (0 missing)\n",
      "  Surrogate splits:\n",
      "      ID.Canal.Anuncio < 477.5    to the left,  agree=0.954, adj=0.884, (0 split)\n",
      "      IP               < 195998.5 to the left,  agree=0.618, adj=0.043, (0 split)\n",
      "\n",
      "Node number 51: 35 observations\n",
      "  predicted class=1  expected loss=0.02857143  P(node) =0.002256027\n",
      "    class counts:     1    34\n",
      "   probabilities: 0.029 0.971 \n",
      "\n",
      "Node number 52: 153 observations,    complexity param=0.001353616\n",
      "  predicted class=0  expected loss=0.2810458  P(node) =0.00986206\n",
      "    class counts:   110    43\n",
      "   probabilities: 0.719 0.281 \n",
      "  left son=104 (110 obs) right son=105 (43 obs)\n",
      "  Primary splits:\n",
      "      ID.App           < 101.5    to the left,  improve=9.184399, (0 missing)\n",
      "      ID.Canal.Anuncio < 455      to the right, improve=6.909860, (0 missing)\n",
      "      IP               < 209524   to the left,  improve=6.487942, (0 missing)\n",
      "      ID.OS            < 31       to the right, improve=5.049590, (0 missing)\n",
      "      Tipo.Dispositivo < 1552.5   to the right, improve=2.627167, (0 missing)\n",
      "  Surrogate splits:\n",
      "      ID.Canal.Anuncio < 356.5    to the right, agree=0.810, adj=0.326, (0 split)\n",
      "      ID.OS            < 49.5     to the left,  agree=0.797, adj=0.279, (0 split)\n",
      "      Tipo.Dispositivo < 0.5      to the right, agree=0.778, adj=0.209, (0 split)\n",
      "      IP               < 320376.5 to the left,  agree=0.745, adj=0.093, (0 split)\n",
      "\n",
      "Node number 53: 207 observations,    complexity param=0.001031327\n",
      "  predicted class=1  expected loss=0.1449275  P(node) =0.01334279\n",
      "    class counts:    30   177\n",
      "   probabilities: 0.145 0.855 \n",
      "  left son=106 (53 obs) right son=107 (154 obs)\n",
      "  Primary splits:\n",
      "      ID.Canal.Anuncio < 393.5    to the left,  improve=25.266610, (0 missing)\n",
      "      ID.App           < 44.5     to the left,  improve=24.031620, (0 missing)\n",
      "      IP               < 125782   to the left,  improve=10.399670, (0 missing)\n",
      "      ID.OS            < 136      to the right, improve= 4.697205, (0 missing)\n",
      "  Surrogate splits:\n",
      "      ID.App           < 44.5     to the left,  agree=0.990, adj=0.962, (0 split)\n",
      "      IP               < 107389.5 to the left,  agree=0.889, adj=0.566, (0 split)\n",
      "      Tipo.Dispositivo < 1772.5   to the right, agree=0.768, adj=0.094, (0 split)\n",
      "      ID.OS            < 461      to the right, agree=0.768, adj=0.094, (0 split)\n",
      "\n",
      "Node number 70: 1166 observations,    complexity param=0.0008701818\n",
      "  predicted class=0  expected loss=0.3301887  P(node) =0.07515792\n",
      "    class counts:   781   385\n",
      "   probabilities: 0.670 0.330 \n",
      "  left son=140 (58 obs) right son=141 (1108 obs)\n",
      "  Primary splits:\n",
      "      Tipo.Dispositivo < 1.5      to the right, improve=11.955260, (0 missing)\n",
      "      ID.OS            < 9.5      to the left,  improve=11.276390, (0 missing)\n",
      "      ID.App           < 8.5      to the right, improve=10.477470, (0 missing)\n",
      "      ID.Canal.Anuncio < 362.5    to the right, improve= 2.771315, (0 missing)\n",
      "      IP               < 123854   to the left,  improve= 1.987079, (0 missing)\n",
      "  Surrogate splits:\n",
      "      ID.OS < 61       to the right, agree=0.952, adj=0.034, (0 split)\n",
      "\n",
      "Node number 71: 324 observations,    complexity param=0.001841655\n",
      "  predicted class=1  expected loss=0.4598765  P(node) =0.02088436\n",
      "    class counts:   149   175\n",
      "   probabilities: 0.460 0.540 \n",
      "  left son=142 (229 obs) right son=143 (95 obs)\n",
      "  Primary splits:\n",
      "      ID.App           < 10.5     to the right, improve=22.835350, (0 missing)\n",
      "      ID.Canal.Anuncio < 188      to the left,  improve=12.742500, (0 missing)\n",
      "      IP               < 93304    to the right, improve= 4.346986, (0 missing)\n",
      "      ID.OS            < 34.5     to the right, improve= 2.592209, (0 missing)\n",
      "  Surrogate splits:\n",
      "      ID.Canal.Anuncio < 368.5    to the left,  agree=0.735, adj=0.095, (0 split)\n",
      "\n",
      "Node number 74: 38 observations\n",
      "  predicted class=0  expected loss=0.4473684  P(node) =0.002449401\n",
      "    class counts:    21    17\n",
      "   probabilities: 0.553 0.447 \n",
      "\n",
      "Node number 75: 18 observations\n",
      "  predicted class=1  expected loss=0.1111111  P(node) =0.001160242\n",
      "    class counts:     2    16\n",
      "   probabilities: 0.111 0.889 \n",
      "\n",
      "Node number 76: 204 observations,    complexity param=0.0006445791\n",
      "  predicted class=0  expected loss=0.3382353  P(node) =0.01314941\n",
      "    class counts:   135    69\n",
      "   probabilities: 0.662 0.338 \n",
      "  left son=152 (177 obs) right son=153 (27 obs)\n",
      "  Primary splits:\n",
      "      ID.OS            < 36.5     to the left,  improve=4.026605, (0 missing)\n",
      "      IP               < 291067.5 to the left,  improve=2.299067, (0 missing)\n",
      "      ID.Canal.Anuncio < 422.5    to the right, improve=2.206548, (0 missing)\n",
      "      ID.App           < 2.5      to the left,  improve=1.072802, (0 missing)\n",
      "  Surrogate splits:\n",
      "      IP < 217800.5 to the right, agree=0.873, adj=0.037, (0 split)\n",
      "\n",
      "Node number 77: 30 observations\n",
      "  predicted class=1  expected loss=0.4  P(node) =0.001933737\n",
      "    class counts:    12    18\n",
      "   probabilities: 0.400 0.600 \n",
      "\n",
      "Node number 78: 57 observations,    complexity param=0.0006445791\n",
      "  predicted class=1  expected loss=0.4736842  P(node) =0.003674101\n",
      "    class counts:    27    30\n",
      "   probabilities: 0.474 0.526 \n",
      "  left son=156 (40 obs) right son=157 (17 obs)\n",
      "  Primary splits:\n",
      "      ID.App           < 9.5      to the left,  improve=6.1416410, (0 missing)\n",
      "      ID.Canal.Anuncio < 322      to the left,  improve=1.6331740, (0 missing)\n",
      "      ID.OS            < 17.5     to the right, improve=1.4210530, (0 missing)\n",
      "      IP               < 219729.5 to the right, improve=0.5639098, (0 missing)\n",
      "  Surrogate splits:\n",
      "      IP < 358955   to the left,  agree=0.754, adj=0.176, (0 split)\n",
      "\n",
      "Node number 79: 68 observations\n",
      "  predicted class=1  expected loss=0.25  P(node) =0.004383138\n",
      "    class counts:    17    51\n",
      "   probabilities: 0.250 0.750 \n",
      "\n",
      "Node number 100: 104 observations\n",
      "  predicted class=0  expected loss=0.2115385  P(node) =0.006703623\n",
      "    class counts:    82    22\n",
      "   probabilities: 0.788 0.212 \n",
      "\n",
      "Node number 101: 69 observations\n",
      "  predicted class=1  expected loss=0.2608696  P(node) =0.004447596\n",
      "    class counts:    18    51\n",
      "   probabilities: 0.261 0.739 \n",
      "\n",
      "Node number 104: 110 observations,    complexity param=0.0005156633\n",
      "  predicted class=0  expected loss=0.1727273  P(node) =0.00709037\n",
      "    class counts:    91    19\n",
      "   probabilities: 0.827 0.173 \n",
      "  left son=208 (87 obs) right son=209 (23 obs)\n",
      "  Primary splits:\n",
      "      ID.App           < 55.5     to the right, improve=7.084540, (0 missing)\n",
      "      ID.Canal.Anuncio < 456      to the right, improve=2.238221, (0 missing)\n",
      "      ID.OS            < 22.5     to the right, improve=1.548723, (0 missing)\n",
      "      IP               < 252232.5 to the left,  improve=0.978666, (0 missing)\n",
      "  Surrogate splits:\n",
      "      ID.Canal.Anuncio < 476.5    to the left,  agree=0.845, adj=0.261, (0 split)\n",
      "      IP               < 279296   to the left,  agree=0.818, adj=0.130, (0 split)\n",
      "      Tipo.Dispositivo < 0.5      to the right, agree=0.818, adj=0.130, (0 split)\n",
      "      ID.OS            < 0.5      to the right, agree=0.809, adj=0.087, (0 split)\n",
      "\n",
      "Node number 105: 43 observations,    complexity param=0.001353616\n",
      "  predicted class=1  expected loss=0.4418605  P(node) =0.00277169\n",
      "    class counts:    19    24\n",
      "   probabilities: 0.442 0.558 \n",
      "  left son=210 (18 obs) right son=211 (25 obs)\n",
      "  Primary splits:\n",
      "      ID.OS            < 34       to the right, improve=15.640410, (0 missing)\n",
      "      ID.Canal.Anuncio < 349.5    to the left,  improve=12.759090, (0 missing)\n",
      "      Tipo.Dispositivo < 1552.5   to the right, improve= 9.209302, (0 missing)\n",
      "      ID.App           < 147      to the right, improve= 4.385493, (0 missing)\n",
      "      IP               < 135300   to the left,  improve= 3.960434, (0 missing)\n",
      "  Surrogate splits:\n",
      "      ID.Canal.Anuncio < 349.5    to the left,  agree=0.907, adj=0.778, (0 split)\n",
      "      Tipo.Dispositivo < 1552.5   to the right, agree=0.837, adj=0.611, (0 split)\n",
      "      IP               < 117089.5 to the left,  agree=0.721, adj=0.333, (0 split)\n",
      "      ID.App           < 206      to the right, agree=0.698, adj=0.278, (0 split)\n",
      "\n",
      "Node number 106: 53 observations,    complexity param=0.001031327\n",
      "  predicted class=0  expected loss=0.4339623  P(node) =0.003416269\n",
      "    class counts:    30    23\n",
      "   probabilities: 0.566 0.434 \n",
      "  left son=212 (44 obs) right son=213 (9 obs)\n",
      "  Primary splits:\n",
      "      ID.App           < 30.5     to the right, improve=6.946827, (0 missing)\n",
      "      IP               < 30581    to the right, improve=2.888668, (0 missing)\n",
      "      ID.Canal.Anuncio < 360      to the right, improve=1.660446, (0 missing)\n",
      "      ID.OS            < 22.5     to the right, improve=1.171069, (0 missing)\n",
      "  Surrogate splits:\n",
      "      ID.Canal.Anuncio < 360      to the right, agree=0.906, adj=0.444, (0 split)\n",
      "\n",
      "Node number 107: 154 observations\n",
      "  predicted class=1  expected loss=0  P(node) =0.009926518\n",
      "    class counts:     0   154\n",
      "   probabilities: 0.000 1.000 \n",
      "\n",
      "Node number 140: 58 observations\n",
      "  predicted class=0  expected loss=0.01724138  P(node) =0.003738559\n",
      "    class counts:    57     1\n",
      "   probabilities: 0.983 0.017 \n",
      "\n",
      "Node number 141: 1108 observations,    complexity param=0.0008701818\n",
      "  predicted class=0  expected loss=0.3465704  P(node) =0.07141936\n",
      "    class counts:   724   384\n",
      "   probabilities: 0.653 0.347 \n",
      "  left son=282 (866 obs) right son=283 (242 obs)\n",
      "  Primary splits:\n",
      "      ID.App           < 8.5      to the right, improve=10.246930, (0 missing)\n",
      "      ID.OS            < 22.5     to the right, improve= 8.711128, (0 missing)\n",
      "      ID.Canal.Anuncio < 362.5    to the right, improve= 2.470214, (0 missing)\n",
      "      IP               < 123854   to the left,  improve= 1.884684, (0 missing)\n",
      "  Surrogate splits:\n",
      "      ID.Canal.Anuncio < 180      to the right, agree=0.853, adj=0.326, (0 split)\n",
      "      IP               < 209043   to the left,  agree=0.782, adj=0.004, (0 split)\n",
      "\n",
      "Node number 142: 229 observations,    complexity param=0.000709037\n",
      "  predicted class=0  expected loss=0.419214  P(node) =0.01476086\n",
      "    class counts:   133    96\n",
      "   probabilities: 0.581 0.419 \n",
      "  left son=284 (82 obs) right son=285 (147 obs)\n",
      "  Primary splits:\n",
      "      IP               < 95232    to the right, improve=4.090310, (0 missing)\n",
      "      ID.Canal.Anuncio < 196      to the left,  improve=3.892447, (0 missing)\n",
      "      ID.OS            < 34.5     to the right, improve=1.778594, (0 missing)\n",
      "  Surrogate splits:\n",
      "      ID.OS < 29.5     to the right, agree=0.664, adj=0.061, (0 split)\n",
      "\n",
      "Node number 143: 95 observations\n",
      "  predicted class=1  expected loss=0.1684211  P(node) =0.006123501\n",
      "    class counts:    16    79\n",
      "   probabilities: 0.168 0.832 \n",
      "\n",
      "Node number 152: 177 observations\n",
      "  predicted class=0  expected loss=0.299435  P(node) =0.01140905\n",
      "    class counts:   124    53\n",
      "   probabilities: 0.701 0.299 \n",
      "\n",
      "Node number 153: 27 observations,    complexity param=0.0006445791\n",
      "  predicted class=1  expected loss=0.4074074  P(node) =0.001740364\n",
      "    class counts:    11    16\n",
      "   probabilities: 0.407 0.593 \n",
      "  left son=306 (15 obs) right son=307 (12 obs)\n",
      "  Primary splits:\n",
      "      ID.OS            < 40.5     to the right, improve=4.5370370, (0 missing)\n",
      "      ID.Canal.Anuncio < 408.5    to the right, improve=2.7193900, (0 missing)\n",
      "      IP               < 254731.5 to the right, improve=0.1469271, (0 missing)\n",
      "  Surrogate splits:\n",
      "      ID.Canal.Anuncio < 404.5    to the right, agree=0.741, adj=0.417, (0 split)\n",
      "      IP               < 216923   to the right, agree=0.593, adj=0.083, (0 split)\n",
      "\n",
      "Node number 156: 40 observations\n",
      "  predicted class=0  expected loss=0.375  P(node) =0.002578316\n",
      "    class counts:    25    15\n",
      "   probabilities: 0.625 0.375 \n",
      "\n",
      "Node number 157: 17 observations\n",
      "  predicted class=1  expected loss=0.1176471  P(node) =0.001095784\n",
      "    class counts:     2    15\n",
      "   probabilities: 0.118 0.882 \n",
      "\n",
      "Node number 208: 87 observations\n",
      "  predicted class=0  expected loss=0.08045977  P(node) =0.005607838\n",
      "    class counts:    80     7\n",
      "   probabilities: 0.920 0.080 \n",
      "\n",
      "Node number 209: 23 observations,    complexity param=0.0005156633\n",
      "  predicted class=1  expected loss=0.4782609  P(node) =0.001482532\n",
      "    class counts:    11    12\n",
      "   probabilities: 0.478 0.522 \n",
      "  left son=418 (9 obs) right son=419 (14 obs)\n",
      "  Primary splits:\n",
      "      ID.App           < 49.5     to the left,  improve=4.986197, (0 missing)\n",
      "      IP               < 81572.5  to the left,  improve=1.811594, (0 missing)\n",
      "      ID.OS            < 13.5     to the left,  improve=1.811594, (0 missing)\n",
      "      ID.Canal.Anuncio < 429.5    to the right, improve=0.621118, (0 missing)\n",
      "  Surrogate splits:\n",
      "      ID.OS            < 13.5     to the left,  agree=0.870, adj=0.667, (0 split)\n",
      "      ID.Canal.Anuncio < 468.5    to the right, agree=0.870, adj=0.667, (0 split)\n",
      "      Tipo.Dispositivo < 0.5      to the left,  agree=0.739, adj=0.333, (0 split)\n",
      "      IP               < 37123.5  to the left,  agree=0.696, adj=0.222, (0 split)\n",
      "\n",
      "Node number 210: 18 observations\n",
      "  predicted class=0  expected loss=0.05555556  P(node) =0.001160242\n",
      "    class counts:    17     1\n",
      "   probabilities: 0.944 0.056 \n",
      "\n",
      "Node number 211: 25 observations\n",
      "  predicted class=1  expected loss=0.08  P(node) =0.001611448\n",
      "    class counts:     2    23\n",
      "   probabilities: 0.080 0.920 \n",
      "\n",
      "Node number 212: 44 observations\n",
      "  predicted class=0  expected loss=0.3181818  P(node) =0.002836148\n",
      "    class counts:    30    14\n",
      "   probabilities: 0.682 0.318 \n",
      "\n",
      "Node number 213: 9 observations\n",
      "  predicted class=1  expected loss=0  P(node) =0.0005801212\n",
      "    class counts:     0     9\n",
      "   probabilities: 0.000 1.000 \n",
      "\n",
      "Node number 282: 866 observations\n",
      "  predicted class=0  expected loss=0.3106236  P(node) =0.05582055\n",
      "    class counts:   597   269\n",
      "   probabilities: 0.689 0.311 \n",
      "\n",
      "Node number 283: 242 observations,    complexity param=0.0008701818\n",
      "  predicted class=0  expected loss=0.4752066  P(node) =0.01559881\n",
      "    class counts:   127   115\n",
      "   probabilities: 0.525 0.475 \n",
      "  left son=566 (31 obs) right son=567 (211 obs)\n",
      "  Primary splits:\n",
      "      ID.OS            < 12.5     to the left,  improve=8.521467, (0 missing)\n",
      "      ID.Canal.Anuncio < 142.5    to the right, improve=3.030470, (0 missing)\n",
      "      IP               < 69932.5  to the right, improve=2.192736, (0 missing)\n",
      "\n",
      "Node number 284: 82 observations\n",
      "  predicted class=0  expected loss=0.2926829  P(node) =0.005285549\n",
      "    class counts:    58    24\n",
      "   probabilities: 0.707 0.293 \n",
      "\n",
      "Node number 285: 147 observations,    complexity param=0.000709037\n",
      "  predicted class=0  expected loss=0.4897959  P(node) =0.009475313\n",
      "    class counts:    75    72\n",
      "   probabilities: 0.510 0.490 \n",
      "  left son=570 (44 obs) right son=571 (103 obs)\n",
      "  Primary splits:\n",
      "      ID.Canal.Anuncio < 196      to the left,  improve=2.784039, (0 missing)\n",
      "      IP               < 90739.5  to the left,  improve=2.709989, (0 missing)\n",
      "      ID.OS            < 19.5     to the right, improve=1.844065, (0 missing)\n",
      "  Surrogate splits:\n",
      "      ID.OS < 21       to the right, agree=0.707, adj=0.023, (0 split)\n",
      "\n",
      "Node number 306: 15 observations\n",
      "  predicted class=0  expected loss=0.3333333  P(node) =0.0009668686\n",
      "    class counts:    10     5\n",
      "   probabilities: 0.667 0.333 \n",
      "\n",
      "Node number 307: 12 observations\n",
      "  predicted class=1  expected loss=0.08333333  P(node) =0.0007734949\n",
      "    class counts:     1    11\n",
      "   probabilities: 0.083 0.917 \n",
      "\n",
      "Node number 418: 9 observations\n",
      "  predicted class=0  expected loss=0.1111111  P(node) =0.0005801212\n",
      "    class counts:     8     1\n",
      "   probabilities: 0.889 0.111 \n",
      "\n",
      "Node number 419: 14 observations\n",
      "  predicted class=1  expected loss=0.2142857  P(node) =0.0009024107\n",
      "    class counts:     3    11\n",
      "   probabilities: 0.214 0.786 \n",
      "\n",
      "Node number 566: 31 observations\n",
      "  predicted class=0  expected loss=0.1290323  P(node) =0.001998195\n",
      "    class counts:    27     4\n",
      "   probabilities: 0.871 0.129 \n",
      "\n",
      "Node number 567: 211 observations,    complexity param=0.0008701818\n",
      "  predicted class=1  expected loss=0.4739336  P(node) =0.01360062\n",
      "    class counts:   100   111\n",
      "   probabilities: 0.474 0.526 \n",
      "  left son=1134 (32 obs) right son=1135 (179 obs)\n",
      "  Primary splits:\n",
      "      ID.OS            < 19.5     to the right, improve=5.749583, (0 missing)\n",
      "      IP               < 69932.5  to the right, improve=2.507967, (0 missing)\n",
      "      ID.Canal.Anuncio < 142.5    to the right, improve=1.799477, (0 missing)\n",
      "\n",
      "Node number 570: 44 observations\n",
      "  predicted class=0  expected loss=0.3409091  P(node) =0.002836148\n",
      "    class counts:    29    15\n",
      "   probabilities: 0.659 0.341 \n",
      "\n",
      "Node number 571: 103 observations,    complexity param=0.000709037\n",
      "  predicted class=1  expected loss=0.4466019  P(node) =0.006639165\n",
      "    class counts:    46    57\n",
      "   probabilities: 0.447 0.553 \n",
      "  left son=1142 (70 obs) right son=1143 (33 obs)\n",
      "  Primary splits:\n",
      "      IP               < 72922    to the left,  improve=2.9359980, (0 missing)\n",
      "      ID.Canal.Anuncio < 484      to the left,  improve=1.5680100, (0 missing)\n",
      "      ID.OS            < 11.5     to the right, improve=0.7446372, (0 missing)\n",
      "  Surrogate splits:\n",
      "      ID.OS < 9        to the right, agree=0.699, adj=0.061, (0 split)\n",
      "\n",
      "Node number 1134: 32 observations\n",
      "  predicted class=0  expected loss=0.25  P(node) =0.002062653\n",
      "    class counts:    24     8\n",
      "   probabilities: 0.750 0.250 \n",
      "\n",
      "Node number 1135: 179 observations,    complexity param=0.000709037\n",
      "  predicted class=1  expected loss=0.424581  P(node) =0.01153797\n",
      "    class counts:    76   103\n",
      "   probabilities: 0.425 0.575 \n",
      "  left son=2270 (106 obs) right son=2271 (73 obs)\n",
      "  Primary splits:\n",
      "      ID.OS            < 13.5     to the right, improve=1.662447, (0 missing)\n",
      "      IP               < 36840    to the right, improve=1.547933, (0 missing)\n",
      "      ID.Canal.Anuncio < 202      to the left,  improve=1.068421, (0 missing)\n",
      "  Surrogate splits:\n",
      "      IP               < 170360   to the left,  agree=0.609, adj=0.041, (0 split)\n",
      "      ID.Canal.Anuncio < 202      to the left,  agree=0.603, adj=0.027, (0 split)\n",
      "\n",
      "Node number 1142: 70 observations,    complexity param=0.000709037\n",
      "  predicted class=0  expected loss=0.4714286  P(node) =0.004512054\n",
      "    class counts:    37    33\n",
      "   probabilities: 0.529 0.471 \n",
      "  left son=2284 (55 obs) right son=2285 (15 obs)\n",
      "  Primary splits:\n",
      "      ID.Canal.Anuncio < 269      to the right, improve=2.6190480, (0 missing)\n",
      "      IP               < 34583.5  to the right, improve=1.4000000, (0 missing)\n",
      "      ID.OS            < 18.5     to the right, improve=0.1714286, (0 missing)\n",
      "  Surrogate splits:\n",
      "      ID.OS < 21       to the left,  agree=0.8, adj=0.067, (0 split)\n",
      "\n",
      "Node number 1143: 33 observations\n",
      "  predicted class=1  expected loss=0.2727273  P(node) =0.002127111\n",
      "    class counts:     9    24\n",
      "   probabilities: 0.273 0.727 \n",
      "\n",
      "Node number 2270: 106 observations,    complexity param=0.000709037\n",
      "  predicted class=1  expected loss=0.4811321  P(node) =0.006832538\n",
      "    class counts:    51    55\n",
      "   probabilities: 0.481 0.519 \n",
      "  left son=4540 (25 obs) right son=4541 (81 obs)\n",
      "  Primary splits:\n",
      "      ID.OS            < 17.5     to the left,  improve=3.733417, (0 missing)\n",
      "      IP               < 34497.5  to the right, improve=1.836000, (0 missing)\n",
      "      ID.Canal.Anuncio < 142.5    to the right, improve=1.793215, (0 missing)\n",
      "\n",
      "Node number 2271: 73 observations,    complexity param=0.0005156633\n",
      "  predicted class=1  expected loss=0.3424658  P(node) =0.004705427\n",
      "    class counts:    25    48\n",
      "   probabilities: 0.342 0.658 \n",
      "  left son=4542 (8 obs) right son=4543 (65 obs)\n",
      "  Primary splits:\n",
      "      IP               < 14622.5  to the left,  improve=2.98440500, (0 missing)\n",
      "      ID.Canal.Anuncio < 142.5    to the left,  improve=0.07671233, (0 missing)\n",
      "\n",
      "Node number 2284: 55 observations,    complexity param=0.000709037\n",
      "  predicted class=0  expected loss=0.4  P(node) =0.003545185\n",
      "    class counts:    33    22\n",
      "   probabilities: 0.600 0.400 \n",
      "  left son=4568 (41 obs) right son=4569 (14 obs)\n",
      "  Primary splits:\n",
      "      ID.Canal.Anuncio < 484      to the left,  improve=3.7101050, (0 missing)\n",
      "      IP               < 34630.5  to the right, improve=1.3200000, (0 missing)\n",
      "      ID.OS            < 13.5     to the right, improve=0.2897849, (0 missing)\n",
      "\n",
      "Node number 2285: 15 observations\n",
      "  predicted class=1  expected loss=0.2666667  P(node) =0.0009668686\n",
      "    class counts:     4    11\n",
      "   probabilities: 0.267 0.733 \n",
      "\n",
      "Node number 4540: 25 observations\n",
      "  predicted class=0  expected loss=0.28  P(node) =0.001611448\n",
      "    class counts:    18     7\n",
      "   probabilities: 0.720 0.280 \n",
      "\n",
      "Node number 4541: 81 observations,    complexity param=0.0005801212\n",
      "  predicted class=1  expected loss=0.4074074  P(node) =0.005221091\n",
      "    class counts:    33    48\n",
      "   probabilities: 0.407 0.593 \n",
      "  left son=9082 (46 obs) right son=9083 (35 obs)\n",
      "  Primary splits:\n",
      "      IP               < 69932.5  to the right, improve=2.783161, (0 missing)\n",
      "      ID.Canal.Anuncio < 142.5    to the right, improve=1.632850, (0 missing)\n",
      "      ID.OS            < 18.5     to the left,  improve=0.152207, (0 missing)\n",
      "\n",
      "Node number 4542: 8 observations\n",
      "  predicted class=0  expected loss=0.25  P(node) =0.0005156633\n",
      "    class counts:     6     2\n",
      "   probabilities: 0.750 0.250 \n",
      "\n",
      "Node number 4543: 65 observations\n",
      "  predicted class=1  expected loss=0.2923077  P(node) =0.004189764\n",
      "    class counts:    19    46\n",
      "   probabilities: 0.292 0.708 \n",
      "\n",
      "Node number 4568: 41 observations\n",
      "  predicted class=0  expected loss=0.2926829  P(node) =0.002642774\n",
      "    class counts:    29    12\n",
      "   probabilities: 0.707 0.293 \n",
      "\n",
      "Node number 4569: 14 observations\n",
      "  predicted class=1  expected loss=0.2857143  P(node) =0.0009024107\n",
      "    class counts:     4    10\n",
      "   probabilities: 0.286 0.714 \n",
      "\n",
      "Node number 9082: 46 observations,    complexity param=0.0005801212\n",
      "  predicted class=0  expected loss=0.4782609  P(node) =0.002965064\n",
      "    class counts:    24    22\n",
      "   probabilities: 0.522 0.478 \n",
      "  left son=18164 (11 obs) right son=18165 (35 obs)\n",
      "  Primary splits:\n",
      "      IP               < 86879    to the left,  improve=4.338340, (0 missing)\n",
      "      ID.Canal.Anuncio < 142.5    to the right, improve=1.430206, (0 missing)\n",
      "\n",
      "Node number 9083: 35 observations\n",
      "  predicted class=1  expected loss=0.2571429  P(node) =0.002256027\n",
      "    class counts:     9    26\n",
      "   probabilities: 0.257 0.743 \n",
      "\n",
      "Node number 18164: 11 observations\n",
      "  predicted class=0  expected loss=0.09090909  P(node) =0.000709037\n",
      "    class counts:    10     1\n",
      "   probabilities: 0.909 0.091 \n",
      "\n",
      "Node number 18165: 35 observations\n",
      "  predicted class=1  expected loss=0.4  P(node) =0.002256027\n",
      "    class counts:    14    21\n",
      "   probabilities: 0.400 0.600 \n",
      "\n"
     ]
    },
    {
     "name": "stdout",
     "output_type": "stream",
     "text": [
      "List of 14\n",
      " $ frame              :'data.frame':\t93 obs. of  9 variables:\n",
      "  ..$ var       : Factor w/ 6 levels \"<leaf>\",\"ID.App\",..: 2 3 5 2 1 2 1 2 6 1 ...\n",
      "  ..$ n         : int [1:93] 15514 9070 7335 6754 2681 4073 2583 1490 1166 58 ...\n",
      "  ..$ wt        : num [1:93] 15514 9070 7335 6754 2681 ...\n",
      "  ..$ dev       : num [1:93] 7757 2281 1160 928 188 ...\n",
      "  ..$ yval      : num [1:93] 1 1 1 1 1 1 1 1 1 1 ...\n",
      "  ..$ complexity: num [1:93] 0.58115 0.06536 0.00184 0.00184 0 ...\n",
      "  ..$ ncompete  : int [1:93] 4 4 4 4 0 4 0 4 4 0 ...\n",
      "  ..$ nsurrogate: int [1:93] 4 4 0 1 0 1 0 2 1 0 ...\n",
      "  ..$ yval2     : num [1:93, 1:6] 1 1 1 1 1 1 1 1 1 1 ...\n",
      "  .. ..- attr(*, \"dimnames\")=List of 2\n",
      "  .. .. ..$ : NULL\n",
      "  .. .. ..$ : chr [1:6] \"\" \"\" \"\" \"\" ...\n",
      " $ where              : Named int [1:15514] 7 5 7 7 62 5 62 62 5 7 ...\n",
      "  ..- attr(*, \"names\")= chr [1:15514] \"1\" \"2\" \"3\" \"4\" ...\n",
      " $ call               : language rpart(formula = Aplicativo.Baixado ~ ., data = dados_treino_down_sample,      control = rpart.control(cp = 0.0005))\n",
      " $ terms              :Classes 'terms', 'formula'  language Aplicativo.Baixado ~ IP + ID.App + Tipo.Dispositivo + ID.OS + ID.Canal.Anuncio\n",
      "  .. ..- attr(*, \"variables\")= language list(Aplicativo.Baixado, IP, ID.App, Tipo.Dispositivo, ID.OS, ID.Canal.Anuncio)\n",
      "  .. ..- attr(*, \"factors\")= int [1:6, 1:5] 0 1 0 0 0 0 0 0 1 0 ...\n",
      "  .. .. ..- attr(*, \"dimnames\")=List of 2\n",
      "  .. .. .. ..$ : chr [1:6] \"Aplicativo.Baixado\" \"IP\" \"ID.App\" \"Tipo.Dispositivo\" ...\n",
      "  .. .. .. ..$ : chr [1:5] \"IP\" \"ID.App\" \"Tipo.Dispositivo\" \"ID.OS\" ...\n",
      "  .. ..- attr(*, \"term.labels\")= chr [1:5] \"IP\" \"ID.App\" \"Tipo.Dispositivo\" \"ID.OS\" ...\n",
      "  .. ..- attr(*, \"order\")= int [1:5] 1 1 1 1 1\n",
      "  .. ..- attr(*, \"intercept\")= int 1\n",
      "  .. ..- attr(*, \"response\")= int 1\n",
      "  .. ..- attr(*, \".Environment\")=<environment: R_GlobalEnv> \n",
      "  .. ..- attr(*, \"predvars\")= language list(Aplicativo.Baixado, IP, ID.App, Tipo.Dispositivo, ID.OS, ID.Canal.Anuncio)\n",
      "  .. ..- attr(*, \"dataClasses\")= Named chr [1:6] \"factor\" \"numeric\" \"numeric\" \"numeric\" ...\n",
      "  .. .. ..- attr(*, \"names\")= chr [1:6] \"Aplicativo.Baixado\" \"IP\" \"ID.App\" \"Tipo.Dispositivo\" ...\n",
      " $ cptable            : num [1:18, 1:5] 0.58115 0.06536 0.05737 0.03603 0.00432 ...\n",
      "  ..- attr(*, \"dimnames\")=List of 2\n",
      "  .. ..$ : chr [1:18] \"1\" \"2\" \"3\" \"4\" ...\n",
      "  .. ..$ : chr [1:5] \"CP\" \"nsplit\" \"rel error\" \"xerror\" ...\n",
      " $ method             : chr \"class\"\n",
      " $ parms              :List of 3\n",
      "  ..$ prior: num [1:2(1d)] 0.5 0.5\n",
      "  .. ..- attr(*, \"dimnames\")=List of 1\n",
      "  .. .. ..$ : chr [1:2] \"1\" \"2\"\n",
      "  ..$ loss : num [1:2, 1:2] 0 1 1 0\n",
      "  ..$ split: num 1\n",
      " $ control            :List of 9\n",
      "  ..$ minsplit      : int 20\n",
      "  ..$ minbucket     : num 7\n",
      "  ..$ cp            : num 0.0005\n",
      "  ..$ maxcompete    : int 4\n",
      "  ..$ maxsurrogate  : int 5\n",
      "  ..$ usesurrogate  : int 2\n",
      "  ..$ surrogatestyle: int 0\n",
      "  ..$ maxdepth      : int 30\n",
      "  ..$ xval          : int 10\n",
      " $ functions          :List of 3\n",
      "  ..$ summary:function (yval, dev, wt, ylevel, digits)  \n",
      "  ..$ print  :function (yval, ylevel, digits)  \n",
      "  ..$ text   :function (yval, dev, wt, ylevel, digits, n, use.n)  \n",
      " $ numresp            : int 4\n",
      " $ splits             : num [1:268, 1:5] 15514 15514 15514 15514 15514 ...\n",
      "  ..- attr(*, \"dimnames\")=List of 2\n",
      "  .. ..$ : chr [1:268] \"ID.App\" \"IP\" \"Tipo.Dispositivo\" \"ID.Canal.Anuncio\" ...\n",
      "  .. ..$ : chr [1:5] \"count\" \"ncat\" \"improve\" \"index\" ...\n",
      " $ variable.importance: Named num [1:5] 4460 2000 920 787 636\n",
      "  ..- attr(*, \"names\")= chr [1:5] \"ID.App\" \"ID.Canal.Anuncio\" \"Tipo.Dispositivo\" \"IP\" ...\n",
      " $ y                  : int [1:15514] 1 1 1 1 1 1 1 1 1 1 ...\n",
      " $ ordered            : Named logi [1:5] FALSE FALSE FALSE FALSE FALSE\n",
      "  ..- attr(*, \"names\")= chr [1:5] \"IP\" \"ID.App\" \"Tipo.Dispositivo\" \"ID.OS\" ...\n",
      " - attr(*, \"xlevels\")= Named list()\n",
      " - attr(*, \"ylevels\")= chr [1:2] \"0\" \"1\"\n",
      " - attr(*, \"class\")= chr \"rpart\"\n"
     ]
    }
   ],
   "source": [
    "# VISUALIZAÇÃO DO MODELO\n",
    "summary(modelo.randomforest.rpart)\n",
    "str(modelo.randomforest.rpart)"
   ]
  },
  {
   "cell_type": "code",
   "execution_count": 100,
   "metadata": {},
   "outputs": [],
   "source": [
    "# PREVISAO DO MODELO\n",
    "previsao.modelo.randomforest.rpart = predict(modelo.randomforest.rpart, dados_teste_final, type='class')"
   ]
  },
  {
   "cell_type": "code",
   "execution_count": 101,
   "metadata": {
    "scrolled": true
   },
   "outputs": [
    {
     "data": {
      "text/plain": [
       "        Reference\n",
       "Previsto       0       1\n",
       "       0 1295345     465\n",
       "       1   51330    2860"
      ]
     },
     "metadata": {},
     "output_type": "display_data"
    }
   ],
   "source": [
    "# MATRIZ DE CONFUSÃO\n",
    "matriz_confusao7 <- table(Previsto = previsao.modelo.randomforest.rpart, Reference = dados_teste_final$Aplicativo.Baixado)\n",
    "matriz_confusao7"
   ]
  },
  {
   "cell_type": "code",
   "execution_count": 102,
   "metadata": {},
   "outputs": [
    {
     "data": {
      "text/plain": [
       "Confusion Matrix and Statistics\n",
       "\n",
       "          Reference\n",
       "Prediction       0       1\n",
       "         0 1295345     465\n",
       "         1   51330    2860\n",
       "                                             \n",
       "               Accuracy : 0.9616             \n",
       "                 95% CI : (0.9613, 0.962)    \n",
       "    No Information Rate : 0.9975             \n",
       "    P-Value [Acc > NIR] : 1                  \n",
       "                                             \n",
       "                  Kappa : 0.0953             \n",
       "                                             \n",
       " Mcnemar's Test P-Value : <0.0000000000000002\n",
       "                                             \n",
       "            Sensitivity : 0.96188            \n",
       "            Specificity : 0.86015            \n",
       "         Pos Pred Value : 0.99964            \n",
       "         Neg Pred Value : 0.05278            \n",
       "             Prevalence : 0.99754            \n",
       "         Detection Rate : 0.95951            \n",
       "   Detection Prevalence : 0.95986            \n",
       "      Balanced Accuracy : 0.91102            \n",
       "                                             \n",
       "       'Positive' Class : 0                  \n",
       "                                             "
      ]
     },
     "metadata": {},
     "output_type": "display_data"
    }
   ],
   "source": [
    "# MATRIZ DE CONFUSÃO\n",
    "matriz_confusao7.1 <- confusionMatrix(previsao.modelo.randomforest.rpart, dados_teste_final$Aplicativo.Baixado)\n",
    "matriz_confusao7.1"
   ]
  },
  {
   "cell_type": "markdown",
   "metadata": {},
   "source": [
    "#### **MÉTRICAS DO MODELO RANDOM FOREST rpart**"
   ]
  },
  {
   "cell_type": "code",
   "execution_count": 103,
   "metadata": {},
   "outputs": [],
   "source": [
    "# ACURÁCIA\n",
    "# TRUE POSITIVO = tp\n",
    "# TRUE NEGATIVO = tn\n",
    "# FALSO POSITIVO = fp\n",
    "# FALSO NEGATIVO = fn\n",
    "# Accuracy: tp + tn/ tp + tn + fp + fn OU Total de resultados corretos/ Total de resultados analisados\n",
    "\n",
    "Acuracia7 <- (matriz_confusao7[1,1] + matriz_confusao7[2,2])/(matriz_confusao7[1,1] + matriz_confusao7[2,2] + \n",
    "matriz_confusao7[1,2] + matriz_confusao7[2,1])\n",
    "\n",
    "# PRECISÃO\n",
    "# tp/(tp + fp)\n",
    "precisao7 <- matriz_confusao7[1,1]/(matriz_confusao7[1,1] + matriz_confusao7[1,2])\n",
    "\n",
    "# RECUPERAÇÃO \n",
    "# tp/(tp + fn)\n",
    "recall7 <- matriz_confusao7[1,1] / (matriz_confusao7[1,1] + matriz_confusao7[2,1])\n",
    "\n",
    "# F1 SCORE\n",
    "# 2*tp / (2 * tp + fp + fn) OU 2 * precisao * recall/ (precisao + recall)\n",
    "\n",
    "f1_score7 <- 2 * precisao7 * recall7/(precisao7 + recall7)"
   ]
  },
  {
   "cell_type": "code",
   "execution_count": 104,
   "metadata": {},
   "outputs": [
    {
     "name": "stdout",
     "output_type": "stream",
     "text": [
      "Modelo Random Forest rpart\n",
      "\n",
      "Acurácia: 0.9616 \n",
      "Recall: 0.9619 \n",
      "Precisão: 0.9996 \n",
      "F1 Score: 0.9804"
     ]
    }
   ],
   "source": [
    "cat(\"Modelo Random Forest rpart\\n\\nAcurácia:\", round(Acuracia7,4),\n",
    "    \"\\nRecall:\", round(recall7,4),\n",
    "    \"\\nPrecisão:\", round(precisao7,4),\n",
    "    \"\\nF1 Score:\", round(f1_score7,4))"
   ]
  },
  {
   "cell_type": "code",
   "execution_count": 105,
   "metadata": {},
   "outputs": [],
   "source": [
    "# CURVA ROC\n",
    "previsao7 <- prediction(as.numeric(previsao.modelo.randomforest.rpart), dados_teste_final$Aplicativo.Baixado)"
   ]
  },
  {
   "cell_type": "code",
   "execution_count": 106,
   "metadata": {},
   "outputs": [
    {
     "data": {
      "image/png": "[encoded data removed]",
      "text/plain": [
       "Plot with title \"Curva ROC\""
      ]
     },
     "metadata": {},
     "output_type": "display_data"
    },
    {
     "data": {
      "image/png": "[encoded data removed]",
      "text/plain": [
       "Plot with title \"Curva Precision/Recall\""
      ]
     },
     "metadata": {},
     "output_type": "display_data"
    }
   ],
   "source": [
    "plot.roc.curve(previsao7, title.text = \"Curva ROC\")\n",
    "plot.pr.curve(previsao7, title.text = \"Curva Precision/Recall\")"
   ]
  },
  {
   "cell_type": "markdown",
   "metadata": {},
   "source": [
    "### **MODELO 8 - RANDOM FOREST (pacote: randomForest)**"
   ]
  },
  {
   "cell_type": "code",
   "execution_count": 107,
   "metadata": {},
   "outputs": [],
   "source": [
    "# CARREGANDO O PACOTE\n",
    "suppressPackageStartupMessages({library(randomForest)})"
   ]
  },
  {
   "cell_type": "code",
   "execution_count": null,
   "metadata": {},
   "outputs": [],
   "source": [
    "# MODELO\n",
    "#modelo.randomforest.randomForest <- randomForest(Aplicativo.Baixado ~ ., \n",
    "#                                                 data = dados_treino_down_sample,  ntree = 500, nodesize = 10)      "
   ]
  },
  {
   "cell_type": "code",
   "execution_count": null,
   "metadata": {},
   "outputs": [],
   "source": [
    "# VISUALIZANDO O MODELO\n",
    "#print(modelo.randomforest.randomForest)"
   ]
  },
  {
   "cell_type": "code",
   "execution_count": null,
   "metadata": {},
   "outputs": [],
   "source": [
    "# SALVANDO O MODELO TREINADO\n",
    "#saveRDS(modelo.randomforest.randomForest, \"modelo.randomforest.randomForest.rds\")"
   ]
  },
  {
   "cell_type": "code",
   "execution_count": 108,
   "metadata": {},
   "outputs": [],
   "source": [
    "# CARREGANDO O MODELO TREINADO\n",
    "modelo.randomforest.randomForest <- readRDS(\"modelo.randomforest.randomForest.rds\")"
   ]
  },
  {
   "cell_type": "code",
   "execution_count": 109,
   "metadata": {},
   "outputs": [
    {
     "name": "stdout",
     "output_type": "stream",
     "text": [
      "\n",
      "Call:\n",
      " randomForest(formula = Aplicativo.Baixado ~ ., data = dados_treino_down_sample,      ntree = 500, nodesize = 10) \n",
      "               Type of random forest: classification\n",
      "                     Number of trees: 500\n",
      "No. of variables tried at each split: 2\n",
      "\n",
      "        OOB estimate of  error rate: 8.96%\n",
      "Confusion matrix:\n",
      "     0    1 class.error\n",
      "0 7415  342  0.04408921\n",
      "1 1048 6709  0.13510378\n"
     ]
    }
   ],
   "source": [
    "# VISUALIZANDO O MODELO\n",
    "print(modelo.randomforest.randomForest)"
   ]
  },
  {
   "cell_type": "code",
   "execution_count": 110,
   "metadata": {},
   "outputs": [],
   "source": [
    "# PREVISAO DO MODELO\n",
    "previsao.modelo.randomforest.randomForest = predict(modelo.randomforest.randomForest, dados_teste_final)"
   ]
  },
  {
   "cell_type": "code",
   "execution_count": 111,
   "metadata": {},
   "outputs": [
    {
     "data": {
      "text/plain": [
       "        Reference\n",
       "Previsto       0       1\n",
       "       0 1289129     435\n",
       "       1   57546    2890"
      ]
     },
     "metadata": {},
     "output_type": "display_data"
    }
   ],
   "source": [
    "# MATRIZ DE CONFUSÃO\n",
    "matriz_confusao8 <- table(Previsto = previsao.modelo.randomforest.randomForest,\n",
    "                          Reference = dados_teste_final$Aplicativo.Baixado)\n",
    "matriz_confusao8"
   ]
  },
  {
   "cell_type": "code",
   "execution_count": 112,
   "metadata": {},
   "outputs": [
    {
     "data": {
      "text/plain": [
       "Confusion Matrix and Statistics\n",
       "\n",
       "          Reference\n",
       "Prediction       0       1\n",
       "         0 1289129     435\n",
       "         1   57546    2890\n",
       "                                             \n",
       "               Accuracy : 0.9571             \n",
       "                 95% CI : (0.9567, 0.9574)   \n",
       "    No Information Rate : 0.9975             \n",
       "    P-Value [Acc > NIR] : 1                  \n",
       "                                             \n",
       "                  Kappa : 0.0864             \n",
       "                                             \n",
       " Mcnemar's Test P-Value : <0.0000000000000002\n",
       "                                             \n",
       "            Sensitivity : 0.95727            \n",
       "            Specificity : 0.86917            \n",
       "         Pos Pred Value : 0.99966            \n",
       "         Neg Pred Value : 0.04782            \n",
       "             Prevalence : 0.99754            \n",
       "         Detection Rate : 0.95491            \n",
       "   Detection Prevalence : 0.95523            \n",
       "      Balanced Accuracy : 0.91322            \n",
       "                                             \n",
       "       'Positive' Class : 0                  \n",
       "                                             "
      ]
     },
     "metadata": {},
     "output_type": "display_data"
    }
   ],
   "source": [
    "# MATRIZ DE CONFUSÃO\n",
    "matriz_confusao8.1 <- confusionMatrix(previsao.modelo.randomforest.randomForest,\n",
    "                                      dados_teste_final$Aplicativo.Baixado)\n",
    "matriz_confusao8.1"
   ]
  },
  {
   "cell_type": "markdown",
   "metadata": {},
   "source": [
    "#### **MÉTRICAS  DO MODELO RANDOM FOREST randomForest**"
   ]
  },
  {
   "cell_type": "code",
   "execution_count": 113,
   "metadata": {},
   "outputs": [],
   "source": [
    "# ACURÁCIA\n",
    "# TRUE POSITIVO = tp\n",
    "# TRUE NEGATIVO = tn\n",
    "# FALSO POSITIVO = fp\n",
    "# FALSO NEGATIVO = fn\n",
    "# Accuracy: tp + tn/ tp + tn + fp + fn OU Total de resultados corretos/ Total de resultados analisados\n",
    "\n",
    "Acuracia8 <- (matriz_confusao8[1,1] + matriz_confusao8[2,2])/(matriz_confusao8[1,1] + matriz_confusao8[2,2] + \n",
    "matriz_confusao8[1,2] + matriz_confusao8[2,1])\n",
    "\n",
    "# PRECISÃO\n",
    "# tp/(tp + fp)\n",
    "precisao8 <- matriz_confusao8[1,1]/(matriz_confusao8[1,1] + matriz_confusao8[1,2])\n",
    "\n",
    "# RECUPERAÇÃO \n",
    "# tp/(tp + fn)\n",
    "recall8 <- matriz_confusao8[1,1] / (matriz_confusao8[1,1] + matriz_confusao8[2,1])\n",
    "\n",
    "# F1 SCORE\n",
    "# 2*tp / (2 * tp + fp + fn) OU 2 * precisao * recall/ (precisao + recall)\n",
    "\n",
    "f1_score8 <- 2 * precisao8 * recall8/(precisao8 + recall8)"
   ]
  },
  {
   "cell_type": "code",
   "execution_count": 114,
   "metadata": {},
   "outputs": [
    {
     "name": "stdout",
     "output_type": "stream",
     "text": [
      "Modelo Random Forest rpart\n",
      "\n",
      "Acurácia: 0.9571 \n",
      "Recall: 0.9573 \n",
      "Precisão: 0.9997 \n",
      "F1 Score: 0.978"
     ]
    }
   ],
   "source": [
    "cat(\"Modelo Random Forest rpart\\n\\nAcurácia:\", round(Acuracia8,4),\n",
    "    \"\\nRecall:\", round(recall8,4),\n",
    "    \"\\nPrecisão:\", round(precisao8,4),\n",
    "    \"\\nF1 Score:\", round(f1_score8,4))"
   ]
  },
  {
   "cell_type": "code",
   "execution_count": 115,
   "metadata": {},
   "outputs": [],
   "source": [
    "# CURVA ROC\n",
    "previsao8 <- prediction(as.numeric(previsao.modelo.randomforest.randomForest), dados_teste_final$Aplicativo.Baixado)"
   ]
  },
  {
   "cell_type": "code",
   "execution_count": 116,
   "metadata": {},
   "outputs": [
    {
     "data": {
      "image/png": "[encoded data removed]",
      "text/plain": [
       "Plot with title \"Curva ROC\""
      ]
     },
     "metadata": {},
     "output_type": "display_data"
    },
    {
     "data": {
      "image/png": "[encoded data removed]",
      "text/plain": [
       "Plot with title \"Curva Precision/Recall\""
      ]
     },
     "metadata": {},
     "output_type": "display_data"
    }
   ],
   "source": [
    "plot.roc.curve(previsao8, title.text = \"Curva ROC\")\n",
    "plot.pr.curve(previsao8, title.text = \"Curva Precision/Recall\")"
   ]
  },
  {
   "cell_type": "markdown",
   "metadata": {},
   "source": [
    "                               TABELA COMPARATIVA DOS RESULTADOS DOS MODELOS"
   ]
  },
  {
   "cell_type": "code",
   "execution_count": 117,
   "metadata": {},
   "outputs": [
    {
     "data": {
      "text/html": [
       "<table>\n",
       "<thead><tr><th></th><th scope=col>Modelo</th><th scope=col>Pacote</th><th scope=col>TP</th><th scope=col>TN</th><th scope=col>FP</th><th scope=col>FN</th><th scope=col>Acuracia</th><th scope=col>Precisao</th><th scope=col>Recall</th><th scope=col>f1_score</th></tr></thead>\n",
       "<tbody>\n",
       "\t<tr><th scope=row>6</th><td>Decision tree      </td><td>rpart              </td><td>1300162            </td><td>2732               </td><td> 593               </td><td> 46513             </td><td>0.9651067          </td><td>0.9995441          </td><td>0.9654609          </td><td>0.9822069          </td></tr>\n",
       "\t<tr><th scope=row>7</th><td>Random Forest      </td><td>rpart              </td><td>1295345            </td><td>2860               </td><td> 465               </td><td> 51330             </td><td>0.9616333          </td><td>0.9996412          </td><td>0.9618839          </td><td>0.9803991          </td></tr>\n",
       "\t<tr><th scope=row>8</th><td>Random Forest      </td><td>randomForest       </td><td>1289129            </td><td>2890               </td><td> 435               </td><td> 57546             </td><td>0.9570511          </td><td>0.9996627          </td><td>0.9572681          </td><td>0.9780062          </td></tr>\n",
       "\t<tr><th scope=row>3</th><td>SVM                </td><td>e1071              </td><td>1208028            </td><td>2478               </td><td> 847               </td><td>138647             </td><td>0.8966711          </td><td>0.9992993          </td><td>0.8970449          </td><td>0.9454153          </td></tr>\n",
       "\t<tr><th scope=row>2</th><td>Naive Bayes        </td><td>e1071              </td><td>1181586            </td><td>2099               </td><td>1226               </td><td>165089             </td><td>0.8768037          </td><td>0.9989635          </td><td>0.8774099          </td><td>0.9342495          </td></tr>\n",
       "\t<tr><th scope=row>4</th><td>SVM                </td><td>kernlab            </td><td>1102250            </td><td>2412               </td><td> 913               </td><td>244425             </td><td>0.8182681          </td><td>0.9991724          </td><td>0.8184974          </td><td>0.8998554          </td></tr>\n",
       "\t<tr><th scope=row>1</th><td>Regressao Logistica</td><td>caret              </td><td>1085477            </td><td>2457               </td><td> 868               </td><td>261198             </td><td>0.8058770          </td><td>0.9992010          </td><td>0.8060423          </td><td>0.8922878          </td></tr>\n",
       "\t<tr><th scope=row>5</th><td>KNN                </td><td>class              </td><td>1026881            </td><td>2082               </td><td>1243               </td><td>319794             </td><td>0.7621948          </td><td>0.9987910          </td><td>0.7625307          </td><td>0.8651453          </td></tr>\n",
       "</tbody>\n",
       "</table>\n"
      ],
      "text/latex": [
       "\\begin{tabular}{r|llllllllll}\n",
       "  & Modelo & Pacote & TP & TN & FP & FN & Acuracia & Precisao & Recall & f1\\_score\\\\\n",
       "\\hline\n",
       "\t6 & Decision tree       & rpart               & 1300162             & 2732                &  593                &  46513              & 0.9651067           & 0.9995441           & 0.9654609           & 0.9822069          \\\\\n",
       "\t7 & Random Forest       & rpart               & 1295345             & 2860                &  465                &  51330              & 0.9616333           & 0.9996412           & 0.9618839           & 0.9803991          \\\\\n",
       "\t8 & Random Forest       & randomForest        & 1289129             & 2890                &  435                &  57546              & 0.9570511           & 0.9996627           & 0.9572681           & 0.9780062          \\\\\n",
       "\t3 & SVM                 & e1071               & 1208028             & 2478                &  847                & 138647              & 0.8966711           & 0.9992993           & 0.8970449           & 0.9454153          \\\\\n",
       "\t2 & Naive Bayes         & e1071               & 1181586             & 2099                & 1226                & 165089              & 0.8768037           & 0.9989635           & 0.8774099           & 0.9342495          \\\\\n",
       "\t4 & SVM                 & kernlab             & 1102250             & 2412                &  913                & 244425              & 0.8182681           & 0.9991724           & 0.8184974           & 0.8998554          \\\\\n",
       "\t1 & Regressao Logistica & caret               & 1085477             & 2457                &  868                & 261198              & 0.8058770           & 0.9992010           & 0.8060423           & 0.8922878          \\\\\n",
       "\t5 & KNN                 & class               & 1026881             & 2082                & 1243                & 319794              & 0.7621948           & 0.9987910           & 0.7625307           & 0.8651453          \\\\\n",
       "\\end{tabular}\n"
      ],
      "text/markdown": [
       "\n",
       "| <!--/--> | Modelo | Pacote | TP | TN | FP | FN | Acuracia | Precisao | Recall | f1_score |\n",
       "|---|---|---|---|---|---|---|---|---|---|---|\n",
       "| 6 | Decision tree       | rpart               | 1300162             | 2732                |  593                |  46513              | 0.9651067           | 0.9995441           | 0.9654609           | 0.9822069           |\n",
       "| 7 | Random Forest       | rpart               | 1295345             | 2860                |  465                |  51330              | 0.9616333           | 0.9996412           | 0.9618839           | 0.9803991           |\n",
       "| 8 | Random Forest       | randomForest        | 1289129             | 2890                |  435                |  57546              | 0.9570511           | 0.9996627           | 0.9572681           | 0.9780062           |\n",
       "| 3 | SVM                 | e1071               | 1208028             | 2478                |  847                | 138647              | 0.8966711           | 0.9992993           | 0.8970449           | 0.9454153           |\n",
       "| 2 | Naive Bayes         | e1071               | 1181586             | 2099                | 1226                | 165089              | 0.8768037           | 0.9989635           | 0.8774099           | 0.9342495           |\n",
       "| 4 | SVM                 | kernlab             | 1102250             | 2412                |  913                | 244425              | 0.8182681           | 0.9991724           | 0.8184974           | 0.8998554           |\n",
       "| 1 | Regressao Logistica | caret               | 1085477             | 2457                |  868                | 261198              | 0.8058770           | 0.9992010           | 0.8060423           | 0.8922878           |\n",
       "| 5 | KNN                 | class               | 1026881             | 2082                | 1243                | 319794              | 0.7621948           | 0.9987910           | 0.7625307           | 0.8651453           |\n",
       "\n"
      ],
      "text/plain": [
       "  Modelo              Pacote       TP      TN   FP   FN     Acuracia  Precisao \n",
       "6 Decision tree       rpart        1300162 2732  593  46513 0.9651067 0.9995441\n",
       "7 Random Forest       rpart        1295345 2860  465  51330 0.9616333 0.9996412\n",
       "8 Random Forest       randomForest 1289129 2890  435  57546 0.9570511 0.9996627\n",
       "3 SVM                 e1071        1208028 2478  847 138647 0.8966711 0.9992993\n",
       "2 Naive Bayes         e1071        1181586 2099 1226 165089 0.8768037 0.9989635\n",
       "4 SVM                 kernlab      1102250 2412  913 244425 0.8182681 0.9991724\n",
       "1 Regressao Logistica caret        1085477 2457  868 261198 0.8058770 0.9992010\n",
       "5 KNN                 class        1026881 2082 1243 319794 0.7621948 0.9987910\n",
       "  Recall    f1_score \n",
       "6 0.9654609 0.9822069\n",
       "7 0.9618839 0.9803991\n",
       "8 0.9572681 0.9780062\n",
       "3 0.8970449 0.9454153\n",
       "2 0.8774099 0.9342495\n",
       "4 0.8184974 0.8998554\n",
       "1 0.8060423 0.8922878\n",
       "5 0.7625307 0.8651453"
      ]
     },
     "metadata": {},
     "output_type": "display_data"
    }
   ],
   "source": [
    "Modelo = c('Regressao Logistica','Naive Bayes','SVM','SVM','KNN','Decision tree','Random Forest','Random Forest')\n",
    "Pacote = c('caret', 'e1071', 'e1071', 'kernlab', 'class', 'rpart', 'rpart', 'randomForest')\n",
    "TP = c(matriz_confusao1[1,1], matriz_confusao2[1,1], matriz_confusao3[1,1], matriz_confusao4[1,1], matriz_confusao5[1,1],\n",
    "      matriz_confusao6[1,1], matriz_confusao7[1,1], matriz_confusao8[1,1])\n",
    "\n",
    "TN = c(matriz_confusao1[2,2], matriz_confusao2[2,2], matriz_confusao3[2,2], matriz_confusao4[2,2], matriz_confusao5[2,2],\n",
    "      matriz_confusao6[2,2], matriz_confusao7[2,2], matriz_confusao8[2,2])\n",
    "\n",
    "FP = c(matriz_confusao1[1,2], matriz_confusao2[1,2], matriz_confusao3[1,2], matriz_confusao4[1,2], matriz_confusao5[1,2],\n",
    "      matriz_confusao6[1,2], matriz_confusao7[1,2], matriz_confusao8[1,2])\n",
    "\n",
    "FN = c(matriz_confusao1[2,1], matriz_confusao2[2,1], matriz_confusao3[2,1], matriz_confusao4[2,1], matriz_confusao5[2,1],\n",
    "      matriz_confusao6[2,1], matriz_confusao7[2,1], matriz_confusao8[2,1])\n",
    "\n",
    "Acuracia = c(Acuracia1, Acuracia2, Acuracia3, Acuracia4, Acuracia5, Acuracia6, Acuracia7, Acuracia8)\n",
    "Precisao = c(precisao1, precisao2, precisao3, precisao4, precisao5, precisao6, precisao7, precisao8)\n",
    "Recall = c(recall1, recall2, recall3, recall4, recall5, recall6, recall7, recall8)\n",
    "f1_score = c(f1_score1, f1_score2, f1_score3, f1_score4, f1_score5, f1_score6, f1_score7, f1_score8)\n",
    "\n",
    "Tabela = data.frame(Modelo, Pacote, TP, TN, FP, FN, Acuracia, Precisao, Recall, f1_score)\n",
    "Tabela[order(Tabela$Acuracia, Tabela$TP, decreasing = T),]"
   ]
  },
  {
   "cell_type": "code",
   "execution_count": null,
   "metadata": {},
   "outputs": [],
   "source": [
    "# TP = APLICATIVO NÃO FOI BAIXADO E O CLASSIFICOU COMO NÃO BAIXADO (ACERTO)\n",
    "# TN = APLICATIVO FOI BAIXADO E O MODELO CLASSIFICOU COMO BAIXADO (ACERTOU)\n",
    "# FP = APLICATIVO FOI BAIXADO E O MODELO CLASSIFICOU COMO NÃO BAIXADO (ERROU)\n",
    "# FN = APLICATIVO NÃO FOI BAIXADO E O MODELO CLASSIFICOU COMO BAIXADO (ERROU)"
   ]
  },
  {
   "cell_type": "markdown",
   "metadata": {},
   "source": [
    "A Decision Tree obteve a maior acurácia e o número de True Positivo (TP) maior que todos os outros modelos e a terceira maior AUC, com 0.89. embora a Decision Tree tenha a maior acurácia e a maior quantidade de True Positivos, os dois modelos Random Forest (7 e 8) obtiveram valores parecidos (precisão, recall e f1 score), porém com a AUC superior ao Decision Tree, com 0.91 cada. também obtiveram um número de Falsos Positivos (FP) menor.\n",
    "\n",
    "Penso que com o número de Falsos Positivos menor (FP), a empresa poderia estar colocando em sua lista negra **menos** IPs de cliques que baixaram o aplicativo, mas que foram classificados como cliques que não baixaram.\n",
    "\n",
    "\n",
    "EX. FP (aplicativo foi baixado e o modelo classificou como não baixado)\n",
    "\n",
    "Decision tree - rpart\n",
    "593/3325 = 17,83%\n",
    "\n",
    "Random Forest - rpart \n",
    "465/3325 = 13,98%\n",
    "(O modelo 7 foi o que escolhi, pois teve uma das melhores acurácias e o segundo menor FP e FN)\n",
    "\n",
    "Random Forest - randomForest \n",
    "435/3325 = 13,08%\n"
   ]
  }
 ],
 "metadata": {
  "kernelspec": {
   "display_name": "R",
   "language": "R",
   "name": "ir"
  },
  "language_info": {
   "codemirror_mode": "r",
   "file_extension": ".r",
   "mimetype": "text/x-r-source",
   "name": "R",
   "pygments_lexer": "r",
   "version": "3.6.1"
  }
 },
 "nbformat": 4,
 "nbformat_minor": 4
}
