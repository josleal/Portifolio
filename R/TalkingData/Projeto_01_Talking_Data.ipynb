{
 "cells": [
  {
   "cell_type": "markdown",
   "metadata": {},
   "source": [
    "## PROJETO 01: DETECÇÃO DE FRAUDES NO TRÁFEGO DE CLIQUES EM PROPAGANDAS DE APLICAÇÕES MOBILE\n",
    "\n",
    "![<caption>](TalkingData.jpeg)\n",
    "\n",
    "A TalkingData (https://www.talkingdata.com), a maior plataforma de big data independente da china, cobre mais de 70% dos dispositivos móveis ativos em todo o país. eles lidam com 3 bilhões de cliques por dia, dos quais 90% são potencialmente fraudulentos. sua abordagem atual para impedir fraudes de cliques para desenvolvedores de aplicativos é medir a jornada do clique de um usuário em todo o portifólio e sinalizar endereços ip produzem muitos cliques, mas nunca acabam instalando aplicativos. com esses informações, eles criaram uma lista negra de ips e uma lista negra de dispositivos. embora bem-sucedidos, eles querem estar sempre um passo à frente dos fraudadores e pretedem desenvolver ainda mais a solução. Então, neste projeto, o objetivo é construir um modelo de aprendizado de máquina para determinar se um clique é fraudulento ou não.\n",
    "\n",
    "    \n",
    "#### DICIONÁRIO DE DADOS:\n",
    "\n",
    "1 - **File descriptions:**\n",
    "    \n",
    "**train_sample.csv** - 100.000 linhas selecionadas aleatoriamente de dados de treinamento, para inspecionar os dados antes de baixar o conjunto completo.\n",
    "\n",
    "**test.csv** - conjunto de teste.\n",
    "\n",
    "**sampleSubmission.csv** - um arquivo de envio de amostra no formato correto.\n",
    "\n",
    "**test_supplement.csv** - Este é um conjunto de teste maior que foi lançado acidentalmente no ínicio da competição. Não é necessário usar esses dados, mas é permitido fazê-lo. Os dados de teste oficiais são um subconjunto desses dados.\n",
    "\n",
    "**train.csv** - conjunto de treinamento\n",
    "\n",
    "2 - Variáveis do arquivo **train.csv**:\n",
    "\n",
    "**ip** - IP - Endereço de clique\n",
    "\n",
    "**app** - ID.App - ID de aplicativo para marketing\n",
    "\n",
    "**device** - Tipo.Dispositivo - Identificação do tipo de dispositivo do telefone celular do usuário\n",
    "\n",
    "**os** - ID.OS - ID versão do OS\n",
    "\n",
    "**channel** - ID.Canal.Anuncio - ID do canal do editor de anúncio\n",
    "\n",
    "**click_time** - Click.Horario - Hora do click (UTC)\n",
    "\n",
    "**attributed_time** - Hora.Download - Hora do download do aplicativo.\n",
    "\n",
    "**is_attributed** - Aplicativo.Baixado (variável Target) - Indica se o aplicativo foi baixado (0 = Não baixado, 1 = Baixado)"
   ]
  },
  {
   "cell_type": "markdown",
   "metadata": {},
   "source": [
    "#### **DIRETÓRIO DE TRABALHO E CARREGAMENTO DE BIBLIOTECAS**"
   ]
  },
  {
   "cell_type": "code",
   "execution_count": 1,
   "metadata": {},
   "outputs": [
    {
     "data": {
      "text/html": [
       "'C:/FCD/DataScienceAcademy/BigDataRAzure/Projeto1'"
      ],
      "text/latex": [
       "'C:/FCD/DataScienceAcademy/BigDataRAzure/Projeto1'"
      ],
      "text/markdown": [
       "'C:/FCD/DataScienceAcademy/BigDataRAzure/Projeto1'"
      ],
      "text/plain": [
       "[1] \"C:/FCD/DataScienceAcademy/BigDataRAzure/Projeto1\""
      ]
     },
     "metadata": {},
     "output_type": "display_data"
    }
   ],
   "source": [
    "# DIRETÓRIO DE TRABALHO\n",
    "setwd('C:/FCD/DataScienceAcademy/BigDataRAzure/Projeto1')\n",
    "getwd()"
   ]
  },
  {
   "cell_type": "code",
   "execution_count": 2,
   "metadata": {},
   "outputs": [],
   "source": [
    "# DESATIVAR MENSAGENS DE WARNINGS (warn = -1) E ATIVAR (warn = 0)\n",
    "options(warn = -1)\n",
    "# DESATIVA NOTAÇÃO CIENTÍFICA\n",
    "options(scipen = 999)\n",
    "# PARA TAMANHO DOS GRÁFICOS\n",
    "options(jupyter.plot_scale = 1)"
   ]
  },
  {
   "cell_type": "code",
   "execution_count": 3,
   "metadata": {},
   "outputs": [],
   "source": [
    "# CARREGANDO BIBLIOTECAS \n",
    "suppressPackageStartupMessages({\n",
    "library(dplyr)\n",
    "library(data.table)\n",
    "library(tidyr)\n",
    "library(stringr)\n",
    "library(readr)\n",
    "library(ggplot2)\n",
    "library(gridExtra)\n",
    "library(lubridate)\n",
    "library(scales)\n",
    "library(caTools)\n",
    "library(themis)\n",
    "library(janitor)\n",
    "library(caret)\n",
    "library(e1071)\n",
    "library(ROCR)\n",
    "library(kernlab)\n",
    "library(class)\n",
    "library(rpart)\n",
    "library(rpart.plot)\n",
    "library(randomForest)})"
   ]
  },
  {
   "cell_type": "markdown",
   "metadata": {},
   "source": [
    "### **1 - PRÉ-PROCESSAMENTO DE DADOS**"
   ]
  },
  {
   "cell_type": "code",
   "execution_count": null,
   "metadata": {},
   "outputs": [],
   "source": [
    "# CARREGANDO train_csv\n",
    "#treino_csv <- fread('train.csv')"
   ]
  },
  {
   "cell_type": "code",
   "execution_count": null,
   "metadata": {},
   "outputs": [],
   "source": [
    "# RENOMEANDO DATASET\n",
    "#names(treino_csv) <- c(\"IP\", \"ID.App\", \"Tipo.Dispositivo\", \"ID.OS\", \"ID.Canal.Anuncio\", \n",
    "#                       \"Click.Horario\", \"Hora.Download\", \"Aplicativo.Baixado\")"
   ]
  },
  {
   "cell_type": "code",
   "execution_count": null,
   "metadata": {},
   "outputs": [],
   "source": [
    "# COLETANDO AMOSTRA\n",
    "#df_Talking_Data <- sample_n(treino_csv, size = 4500000)"
   ]
  },
  {
   "cell_type": "code",
   "execution_count": null,
   "metadata": {},
   "outputs": [],
   "source": [
    "# SALVANDO O DATASET\n",
    "#write_csv(df_Talking_Data, 'df_Talking_Data.csv')"
   ]
  },
  {
   "cell_type": "code",
   "execution_count": 4,
   "metadata": {},
   "outputs": [
    {
     "name": "stdout",
     "output_type": "stream",
     "text": [
      "Rows: 4,500,000\n",
      "Columns: 8\n",
      "$ IP                 <int> 101863, 288158, 58404, 34222, 40631, 134018, 81613,~\n",
      "$ ID.App             <int> 3, 18, 2, 28, 2, 3, 3, 3, 3, 12, 28, 9, 18, 14, 3, ~\n",
      "$ Tipo.Dispositivo   <int> 1, 1, 1, 1, 1, 1, 1, 1, 1, 1, 1, 1, 1, 1, 1, 1, 1, ~\n",
      "$ ID.OS              <int> 13, 19, 17, 19, 19, 19, 14, 15, 13, 9, 13, 13, 37, ~\n",
      "$ ID.Canal.Anuncio   <int> 137, 121, 237, 135, 236, 280, 280, 280, 280, 19, 13~\n",
      "$ Click.Horario      <chr> \"2017-11-07T08:50:35Z\", \"2017-11-09T01:14:54Z\", \"20~\n",
      "$ Hora.Download      <chr> NA, NA, NA, NA, NA, NA, NA, NA, NA, NA, NA, NA, NA,~\n",
      "$ Aplicativo.Baixado <int> 0, 0, 0, 0, 0, 0, 0, 0, 0, 0, 0, 0, 0, 0, 0, 0, 0, ~\n"
     ]
    }
   ],
   "source": [
    "# CARREGANDO df_Talking_Data\n",
    "df_Talking_Data <- fread('df_Talking_Data.csv'); glimpse(df_Talking_Data)"
   ]
  },
  {
   "cell_type": "code",
   "execution_count": 5,
   "metadata": {},
   "outputs": [
    {
     "name": "stdout",
     "output_type": "stream",
     "text": [
      "Rows: 4,500,000\n",
      "Columns: 8\n",
      "$ IP                 <int> 101863, 288158, 58404, 34222, 40631, 134018, 81613,~\n",
      "$ ID.App             <int> 3, 18, 2, 28, 2, 3, 3, 3, 3, 12, 28, 9, 18, 14, 3, ~\n",
      "$ Tipo.Dispositivo   <int> 1, 1, 1, 1, 1, 1, 1, 1, 1, 1, 1, 1, 1, 1, 1, 1, 1, ~\n",
      "$ ID.OS              <int> 13, 19, 17, 19, 19, 19, 14, 15, 13, 9, 13, 13, 37, ~\n",
      "$ ID.Canal.Anuncio   <int> 137, 121, 237, 135, 236, 280, 280, 280, 280, 19, 13~\n",
      "$ Click.Horario      <dttm> 2017-11-07 08:50:35, 2017-11-09 01:14:54, 2017-11-~\n",
      "$ Hora.Download      <dttm> NA, NA, NA, NA, NA, NA, NA, NA, NA, NA, NA, NA, NA~\n",
      "$ Aplicativo.Baixado <int> 0, 0, 0, 0, 0, 0, 0, 0, 0, 0, 0, 0, 0, 0, 0, 0, 0, ~\n"
     ]
    }
   ],
   "source": [
    "df_Talking_Data$Click.Horario <- as_datetime(df_Talking_Data$Click.Horario)\n",
    "df_Talking_Data$Hora.Download <- as_datetime(df_Talking_Data$Hora.Download); glimpse(df_Talking_Data)"
   ]
  },
  {
   "cell_type": "code",
   "execution_count": 6,
   "metadata": {
    "slideshow": {
     "slide_type": "-"
    }
   },
   "outputs": [
    {
     "data": {
      "image/png": "[encoded data removed]",
      "text/plain": [
       "plot without title"
      ]
     },
     "metadata": {},
     "output_type": "display_data"
    }
   ],
   "source": [
    "# QUANTIDADE DE CLASSES\n",
    "g0 <- ggplot(df_Talking_Data, aes(x = as.factor(Aplicativo.Baixado))) +\n",
    "geom_bar(stat = 'count') +\n",
    "coord_cartesian(ylim = c(0, 4500000)) +\n",
    "labs(title = \"Aplicativo baixado x Não baixado\",x = 'Classes', y = 'Frequência')\n",
    "\n",
    "options(repr.plot.width = 4, repr.plot.height = 4)\n",
    "g0"
   ]
  },
  {
   "cell_type": "code",
   "execution_count": 7,
   "metadata": {},
   "outputs": [],
   "source": [
    "total.obs <- nrow(df_Talking_Data)\n",
    "baixado <- nrow(df_Talking_Data[df_Talking_Data$Aplicativo.Baixado == 1,])\n",
    "nao.baixado <- nrow(df_Talking_Data[df_Talking_Data$Aplicativo.Baixado == 0,])"
   ]
  },
  {
   "cell_type": "code",
   "execution_count": 8,
   "metadata": {},
   "outputs": [
    {
     "name": "stdout",
     "output_type": "stream",
     "text": [
      "classe 0 (não baixado)\n",
      "Percentual: 99.75\n",
      "\n",
      "classe 1 (baixado)\n",
      "Percentual: 0.25"
     ]
    }
   ],
   "source": [
    "percentual.nao.baixado <- nao.baixado/total.obs \n",
    "percentual.baixado <- baixado/total.obs; \n",
    "cat(\"classe 0 (não baixado)\\nPercentual:\", round(percentual.nao.baixado*100, 2))\n",
    "cat(\"\\n\\nclasse 1 (baixado)\\nPercentual:\",round(percentual.baixado*100, 2))"
   ]
  },
  {
   "cell_type": "code",
   "execution_count": 9,
   "metadata": {},
   "outputs": [],
   "source": [
    "## SLICE DATASET - APLICATIVO NÃO BAIXADO\n",
    "df_nao_baixado <- df_Talking_Data[df_Talking_Data$Aplicativo.Baixado == 0,]\n",
    "df_nao_baixado$Aplicativo.Baixado <- as.factor(df_nao_baixado$Aplicativo.Baixado)"
   ]
  },
  {
   "cell_type": "code",
   "execution_count": 10,
   "metadata": {},
   "outputs": [],
   "source": [
    "# FUNÇÃO PARA PLOTAGEM DO GRÁFICO DE BARRAS\n",
    "grafico.barras <- function(x, xlab, title){\n",
    "    ggplot(x[1:15,], aes(x = reorder(Var1, Freq), y = Freq)) +\n",
    "        geom_bar(stat = \"identity\") + labs(x = xlab, y = \"Frequência\", title = title) +\n",
    "        theme_minimal() +\n",
    "        theme(text = element_text(size = 8)) +\n",
    "        coord_flip()\n",
    "}"
   ]
  },
  {
   "cell_type": "code",
   "execution_count": 11,
   "metadata": {},
   "outputs": [],
   "source": [
    "# IP DE ENDEREÇO DE CLIQUE - ID\n",
    "ip <- data.frame(table(df_nao_baixado$IP))\n",
    "ip <- ip[order(ip$Freq, decreasing = T),]\n",
    "\n",
    "# 15 IPS DE ENDEREÇO DE CLIQUES (IP) LIGADOS A CLIQUES QUE NÃO BAIXARAM O APLICATIVO\n",
    "g1 = grafico.barras(ip, 'IP', 'IP dos cliques sem download')"
   ]
  },
  {
   "cell_type": "code",
   "execution_count": 12,
   "metadata": {},
   "outputs": [],
   "source": [
    "# ID DE APLICATIVO PARA MARKETING - ID.App\n",
    "id.aplicativo <- data.frame(table(df_nao_baixado$ID.App))\n",
    "id.aplicativo <- id.aplicativo[order(id.aplicativo$Freq, decreasing = T),]\n",
    "\n",
    "# 15 IDS DE APLICATIVOS (ID.App) LIGADOS A CLIQUES QUE NÃO BAIXARAM O APLICATIVO\n",
    "g2 = grafico.barras(id.aplicativo, 'ID do aplicativo', 'ID do aplicativo de marketing e cliques sem download')"
   ]
  },
  {
   "cell_type": "code",
   "execution_count": 13,
   "metadata": {},
   "outputs": [],
   "source": [
    "# IDENTIFICAÇÃO DO TIPO DISPOSITIVO - Tipo.Dispositivo\n",
    "identificacao.dispositivo <- data.frame(table(df_nao_baixado$Tipo.Dispositivo))\n",
    "identificacao.dispositivo <- identificacao.dispositivo[order(identificacao.dispositivo$Freq, decreasing = T),]\n",
    "\n",
    "# 15 TIPOS DE DISPOSITIVOS (Tipo.Dispositivo) LIGADOS A CLIQUES QUE NÃO BAIXARAM O APLICATIVO\n",
    "g3 = grafico.barras(identificacao.dispositivo, 'Tipo do dispositivo', 'Tipo dispositivo e cliques sem download')"
   ]
  },
  {
   "cell_type": "code",
   "execution_count": 14,
   "metadata": {},
   "outputs": [],
   "source": [
    "# ID VERSÃO DO SISTEMA OPERACIONAL DO CELULAR DO USUÁRIO - ID.OS\n",
    "id.sistema.operacional <- data.frame(table(df_nao_baixado$ID.OS))\n",
    "id.sistema.operacional <- id.sistema.operacional[order(id.sistema.operacional$Freq, decreasing = T),]\n",
    "\n",
    "# 15 IDS VERSÃO DO SISTEMA OPERACIONAL DO CELULAR DO USUÁRIO (ID.OS) LIGADOS A CLIQUES QUE NÃO BAIXARAM O APLICATIVO\n",
    "g4 <- grafico.barras(id.sistema.operacional, 'ID do OS', 'ID do OS do usuário e cliques sem download ')"
   ]
  },
  {
   "cell_type": "code",
   "execution_count": 15,
   "metadata": {},
   "outputs": [],
   "source": [
    "# ID DO CANAL DE ANÚNCIOS - ID.Canal.Anuncio\n",
    "id.canal <- data.frame(table(df_nao_baixado$ID.Canal.Anuncio))\n",
    "id.canal <- id.canal [order(id.canal$Freq, decreasing = T),]\n",
    "\n",
    "# 15 IDS DE APLICATIVOS (ID.App) LIGADOS A CLIQUES QUE NÃO BAIXARAM O APLICATIVO\n",
    "g5 <- grafico.barras(id.canal, \"ID Canal Anúncios\", 'Canal e cliques sem download')"
   ]
  },
  {
   "cell_type": "code",
   "execution_count": 16,
   "metadata": {},
   "outputs": [
    {
     "data": {
      "image/png": "[encoded data removed]",
      "text/plain": [
       "plot without title"
      ]
     },
     "metadata": {},
     "output_type": "display_data"
    }
   ],
   "source": [
    "options(repr.plot.width = 7, repr.plot.height = 7)\n",
    "grid.arrange(g1, g2, g3, g4, g5)"
   ]
  },
  {
   "cell_type": "markdown",
   "metadata": {},
   "source": [
    "O tipo de dispositivo 1 é o que mais está associado à cliques sem downloads. Os IDs do sistema operacional 19 e 13 são os mais associados à cliques sem downloads. Já o canal mais vulnerável a cliques sem downloads é o 280."
   ]
  },
  {
   "cell_type": "code",
   "execution_count": 17,
   "metadata": {},
   "outputs": [
    {
     "name": "stdout",
     "output_type": "stream",
     "text": [
      "De: 2017-11-06 14:48:55\n",
      "Até: 2017-11-09 16:00:00"
     ]
    }
   ],
   "source": [
    "# PERÍODO DE CLIQUES NO DATASET - DATA E HORÁRIO\n",
    "# dif_dia <- as.duration(fim-inicio); dif_dia -> outra forma de ver a diferença de dias\n",
    "inicio <- min(df_Talking_Data$Click.Horario); cat(sprintf(\"De: %s\",inicio))\n",
    "fim <- max(df_Talking_Data$Click.Horario); cat(sprintf(\"\\nAté: %s\",fim))"
   ]
  },
  {
   "cell_type": "code",
   "execution_count": 18,
   "metadata": {},
   "outputs": [
    {
     "data": {
      "text/plain": [
       "Time difference of 3.049363 days"
      ]
     },
     "metadata": {},
     "output_type": "display_data"
    }
   ],
   "source": [
    "# DIFERENÇA EM DIAS\n",
    "diferenca_dia <- fim - inicio; diferenca_dia"
   ]
  },
  {
   "cell_type": "code",
   "execution_count": 19,
   "metadata": {},
   "outputs": [
    {
     "data": {
      "text/html": [
       "<table>\n",
       "<thead><tr><th scope=col>Var1</th><th scope=col>Freq</th></tr></thead>\n",
       "<tbody>\n",
       "\t<tr><td>2017-11-06 14:48:55</td><td>1                  </td></tr>\n",
       "\t<tr><td>2017-11-06 15:39:18</td><td>1                  </td></tr>\n",
       "\t<tr><td>2017-11-06 15:43:36</td><td>1                  </td></tr>\n",
       "</tbody>\n",
       "</table>\n"
      ],
      "text/latex": [
       "\\begin{tabular}{r|ll}\n",
       " Var1 & Freq\\\\\n",
       "\\hline\n",
       "\t 2017-11-06 14:48:55 & 1                  \\\\\n",
       "\t 2017-11-06 15:39:18 & 1                  \\\\\n",
       "\t 2017-11-06 15:43:36 & 1                  \\\\\n",
       "\\end{tabular}\n"
      ],
      "text/markdown": [
       "\n",
       "| Var1 | Freq |\n",
       "|---|---|\n",
       "| 2017-11-06 14:48:55 | 1                   |\n",
       "| 2017-11-06 15:39:18 | 1                   |\n",
       "| 2017-11-06 15:43:36 | 1                   |\n",
       "\n"
      ],
      "text/plain": [
       "  Var1                Freq\n",
       "1 2017-11-06 14:48:55 1   \n",
       "2 2017-11-06 15:39:18 1   \n",
       "3 2017-11-06 15:43:36 1   "
      ]
     },
     "metadata": {},
     "output_type": "display_data"
    }
   ],
   "source": [
    "# TABELA COM A FREQUENCIA DE CLIQUES SEM DOWNLOAD EM DETERMINADO HORÁRIO \n",
    "df <- data.frame(table(df_nao_baixado$Click.Horario)); head(df,3)"
   ]
  },
  {
   "cell_type": "code",
   "execution_count": 20,
   "metadata": {},
   "outputs": [
    {
     "data": {
      "text/html": [
       "<table>\n",
       "<thead><tr><th scope=col>Data</th><th scope=col>Data.Horario</th><th scope=col>Dia.Hora</th><th scope=col>Freq.Cliques</th></tr></thead>\n",
       "<tbody>\n",
       "\t<tr><td>2017-11-06         </td><td>2017-11-06 14:48:55</td><td>2017-11-06 14:00:00</td><td>1                  </td></tr>\n",
       "\t<tr><td>2017-11-06         </td><td>2017-11-06 15:39:18</td><td>2017-11-06 15:00:00</td><td>1                  </td></tr>\n",
       "\t<tr><td>2017-11-06         </td><td>2017-11-06 15:43:36</td><td>2017-11-06 15:00:00</td><td>1                  </td></tr>\n",
       "</tbody>\n",
       "</table>\n"
      ],
      "text/latex": [
       "\\begin{tabular}{r|llll}\n",
       " Data & Data.Horario & Dia.Hora & Freq.Cliques\\\\\n",
       "\\hline\n",
       "\t 2017-11-06          & 2017-11-06 14:48:55 & 2017-11-06 14:00:00 & 1                  \\\\\n",
       "\t 2017-11-06          & 2017-11-06 15:39:18 & 2017-11-06 15:00:00 & 1                  \\\\\n",
       "\t 2017-11-06          & 2017-11-06 15:43:36 & 2017-11-06 15:00:00 & 1                  \\\\\n",
       "\\end{tabular}\n"
      ],
      "text/markdown": [
       "\n",
       "| Data | Data.Horario | Dia.Hora | Freq.Cliques |\n",
       "|---|---|---|---|\n",
       "| 2017-11-06          | 2017-11-06 14:48:55 | 2017-11-06 14:00:00 | 1                   |\n",
       "| 2017-11-06          | 2017-11-06 15:39:18 | 2017-11-06 15:00:00 | 1                   |\n",
       "| 2017-11-06          | 2017-11-06 15:43:36 | 2017-11-06 15:00:00 | 1                   |\n",
       "\n"
      ],
      "text/plain": [
       "  Data       Data.Horario        Dia.Hora            Freq.Cliques\n",
       "1 2017-11-06 2017-11-06 14:48:55 2017-11-06 14:00:00 1           \n",
       "2 2017-11-06 2017-11-06 15:39:18 2017-11-06 15:00:00 1           \n",
       "3 2017-11-06 2017-11-06 15:43:36 2017-11-06 15:00:00 1           "
      ]
     },
     "metadata": {},
     "output_type": "display_data"
    }
   ],
   "source": [
    "# ACRESCENTANDO DATA E DIA E HORA (SEM CONTAR MINUTOS E SEGUNDOS)\n",
    "df <- df %>%\n",
    "    mutate(Data = make_date(year(df$Var1), month(df$Var1), day(df$Var1)),\n",
    "           Data.Horario = df$Var1,\n",
    "           Freq.Cliques = df$Freq,\n",
    "           Dia.Hora = make_datetime(year(df$Var1), month(df$Var1), day(df$Var1), hour(df$Var1)))\n",
    "df <- select(df, Data, Data.Horario, Dia.Hora, Freq.Cliques); head(df,3)"
   ]
  },
  {
   "cell_type": "code",
   "execution_count": 21,
   "metadata": {},
   "outputs": [
    {
     "data": {
      "text/html": [
       "<table>\n",
       "<thead><tr><th scope=col>Data</th><th scope=col>Dia.Hora</th><th scope=col>Freq.Cliques</th></tr></thead>\n",
       "<tbody>\n",
       "\t<tr><td>2017-11-06         </td><td>2017-11-06 14:00:00</td><td>    1              </td></tr>\n",
       "\t<tr><td>2017-11-06         </td><td>2017-11-06 15:00:00</td><td>   11              </td></tr>\n",
       "\t<tr><td>2017-11-06         </td><td>2017-11-06 16:00:00</td><td>55935              </td></tr>\n",
       "</tbody>\n",
       "</table>\n"
      ],
      "text/latex": [
       "\\begin{tabular}{r|lll}\n",
       " Data & Dia.Hora & Freq.Cliques\\\\\n",
       "\\hline\n",
       "\t 2017-11-06          & 2017-11-06 14:00:00 &     1              \\\\\n",
       "\t 2017-11-06          & 2017-11-06 15:00:00 &    11              \\\\\n",
       "\t 2017-11-06          & 2017-11-06 16:00:00 & 55935              \\\\\n",
       "\\end{tabular}\n"
      ],
      "text/markdown": [
       "\n",
       "| Data | Dia.Hora | Freq.Cliques |\n",
       "|---|---|---|\n",
       "| 2017-11-06          | 2017-11-06 14:00:00 |     1               |\n",
       "| 2017-11-06          | 2017-11-06 15:00:00 |    11               |\n",
       "| 2017-11-06          | 2017-11-06 16:00:00 | 55935               |\n",
       "\n"
      ],
      "text/plain": [
       "  Data       Dia.Hora            Freq.Cliques\n",
       "1 2017-11-06 2017-11-06 14:00:00     1       \n",
       "2 2017-11-06 2017-11-06 15:00:00    11       \n",
       "3 2017-11-06 2017-11-06 16:00:00 55935       "
      ]
     },
     "metadata": {},
     "output_type": "display_data"
    }
   ],
   "source": [
    "# AGRUPAMENTO POR DIA E HORA\n",
    "df2 <- df %>%\n",
    "     group_by(Data,Dia.Hora) %>%\n",
    "     summarise(Freq.Cliques = sum(Freq.Cliques), .groups = \"keep\"); head(df2,3)"
   ]
  },
  {
   "cell_type": "code",
   "execution_count": 22,
   "metadata": {},
   "outputs": [
    {
     "data": {
      "image/png": "[encoded data removed]",
      "text/plain": [
       "plot without title"
      ]
     },
     "metadata": {},
     "output_type": "display_data"
    }
   ],
   "source": [
    "g6 <- ggplot(df2, aes(x = Dia.Hora , y = Freq.Cliques)) +\n",
    "geom_line(size = 0.7,colour = 'gold') +                    \n",
    "geom_point(size = 1.3, colour = 'black') +\n",
    "scale_x_datetime(labels = date_format(format = '%Hh', tz = \"UTC\"), date_breaks = \"3 hours\") +\n",
    "coord_cartesian(ylim = c(0, 100000)) +\n",
    "labs(x = 'Horas', y = 'Frequência de Cliques', title = 'Cliques sem download 06/11/2017 a 09/11/2017')\n",
    "\n",
    "options(repr.plot.width = 7, repr.plot.height = 4.5)\n",
    "g6"
   ]
  },
  {
   "cell_type": "markdown",
   "metadata": {},
   "source": [
    "No gráfico precebe-se que os picos ocorrem de 00h00 às 14h00. Há um enorme crescimento de cliques sem download no período de 21h00 às 00h00 nos dias 6, 7 e 8 e uma queda enorme no período de 15h00 às 20h00 nos dias 6 e 7 e de 15h00 às 16h00 no dia 9."
   ]
  },
  {
   "cell_type": "code",
   "execution_count": 23,
   "metadata": {},
   "outputs": [],
   "source": [
    "# ESTATÍSTICA DE CLIQUES SEM DOWNLOAD POR HORA - DIA 06/11/2017 DE 14h48 ÀS 23h59\n",
    "dia06 <- df2[df2$Data == as.Date('2017-11-06'),]\n",
    "# ESTATÍSTICA DE CLIQUES FRAUDULENTOS POR HORA - DIA 07/11/2017 DE 00h ÀS 23h59\n",
    "dia07 <- df2[df2$Data == as.Date('2017-11-07'),]\n",
    "# ESTATÍSTICA DE CLIQUES FRAUDULENTOS POR HORA - DIA 08/11/2017 DE 00h ÀS 23h59\n",
    "dia08 <- df2[df2$Data == as.Date('2017-11-08'),]\n",
    "# ESTATÍSTICA DE CLIQUES FRAUDULENTOS POR HORA - DIA 09/11/2017 DE 00h ÀS 16h00\n",
    "dia09 <- df2[df2$Data == as.Date('2017-11-09'),]"
   ]
  },
  {
   "cell_type": "code",
   "execution_count": 24,
   "metadata": {},
   "outputs": [
    {
     "name": "stdout",
     "output_type": "stream",
     "text": [
      "Estatísticas cliques sem download:\n",
      "\n",
      "Dia 06-11-2017 das 14h48 às 23h59\n",
      "\n",
      "Média de cliques/hora: 22618.9 \n",
      "Média de cliques/minuto: 376.9817\n",
      "\n",
      "Dia 07-11-2017 das 00h às 23h59 \n",
      "\n",
      "Média de cliques/hora: 60213.33 \n",
      "Média de cliques/minuto: 1003.556\n",
      "\n",
      "Dia 08-11-2017 das 00h às 23h59 \n",
      "\n",
      "Média de cliques/hora: 63750.04 \n",
      "Média de cliques/minuto: 1062.501\n",
      "\n",
      "Dia 09-11-2017 das 00h às 16h00 \n",
      "\n",
      "Média de cliques/hora: 75741.65 \n",
      "Média de cliques/minuto: 1262.361"
     ]
    }
   ],
   "source": [
    "cat(\"Estatísticas cliques sem download:\\n\\nDia 06-11-2017 das 14h48 às 23h59\\n\\nMédia de cliques/hora:\",\n",
    "    mean(dia06$Freq.Cliques),\"\\nMédia de cliques/minuto:\", mean(dia06$Freq.Cliques)/60)\n",
    "\n",
    "cat(\"\\n\\nDia 07-11-2017 das 00h às 23h59 \\n\\nMédia de cliques/hora:\", mean(dia07$Freq.Cliques),\n",
    "\"\\nMédia de cliques/minuto:\", mean(dia07$Freq.Cliques)/60)\n",
    "\n",
    "cat(\"\\n\\nDia 08-11-2017 das 00h às 23h59 \\n\\nMédia de cliques/hora:\", mean(dia08$Freq.Cliques),\n",
    "\"\\nMédia de cliques/minuto:\", mean(dia08$Freq.Cliques)/60)\n",
    "\n",
    "cat(\"\\n\\nDia 09-11-2017 das 00h às 16h00 \\n\\nMédia de cliques/hora:\", mean(dia09$Freq.Cliques),\n",
    "\"\\nMédia de cliques/minuto:\", mean(dia09$Freq.Cliques)/60)"
   ]
  },
  {
   "cell_type": "markdown",
   "metadata": {},
   "source": [
    "No dia 09/11 houve a maior média de cliques por hora. Em 16 horas, a média obtida foi de 75741.65 cliques, o que superou as médias dos dias 07/11 e 08/11 em 24 horas."
   ]
  },
  {
   "cell_type": "code",
   "execution_count": 25,
   "metadata": {},
   "outputs": [
    {
     "data": {
      "text/html": [
       "<table>\n",
       "<thead><tr><th scope=col>Hora</th><th scope=col>Horario.Mais.Cliques</th></tr></thead>\n",
       "<tbody>\n",
       "\t<tr><td>00    </td><td>252433</td></tr>\n",
       "\t<tr><td>01    </td><td>230007</td></tr>\n",
       "\t<tr><td>02    </td><td>237182</td></tr>\n",
       "\t<tr><td>03    </td><td>236996</td></tr>\n",
       "\t<tr><td>04    </td><td>273690</td></tr>\n",
       "</tbody>\n",
       "</table>\n"
      ],
      "text/latex": [
       "\\begin{tabular}{r|ll}\n",
       " Hora & Horario.Mais.Cliques\\\\\n",
       "\\hline\n",
       "\t 00     & 252433\\\\\n",
       "\t 01     & 230007\\\\\n",
       "\t 02     & 237182\\\\\n",
       "\t 03     & 236996\\\\\n",
       "\t 04     & 273690\\\\\n",
       "\\end{tabular}\n"
      ],
      "text/markdown": [
       "\n",
       "| Hora | Horario.Mais.Cliques |\n",
       "|---|---|\n",
       "| 00     | 252433 |\n",
       "| 01     | 230007 |\n",
       "| 02     | 237182 |\n",
       "| 03     | 236996 |\n",
       "| 04     | 273690 |\n",
       "\n"
      ],
      "text/plain": [
       "  Hora Horario.Mais.Cliques\n",
       "1 00   252433              \n",
       "2 01   230007              \n",
       "3 02   237182              \n",
       "4 03   236996              \n",
       "5 04   273690              "
      ]
     },
     "metadata": {},
     "output_type": "display_data"
    }
   ],
   "source": [
    "# AGRUPAMENTO POR HORA PARA SABER EM QUAL HORÁRIO SE TEM MAIS CLIQUES SEM DOWNLOADS\n",
    "df3 <- df %>%\n",
    "    separate (col = Dia.Hora, c (\"Dia\", \"Hora\"), sep = ' ', remove = TRUE)\n",
    "\n",
    "df4 <- df3 %>%\n",
    "             group_by(Hora) %>%\n",
    "             summarise(Horario.Mais.Cliques = sum(Freq.Cliques))\n",
    "\n",
    "df4 <- df4 %>%\n",
    "     separate(col = Hora, c (\"Hora\", \"s\", \"m\"), sep = ':', remove = TRUE) %>%\n",
    "     select(Hora, Horario.Mais.Cliques)\n",
    "\n",
    "head(df4, 5)"
   ]
  },
  {
   "cell_type": "code",
   "execution_count": 26,
   "metadata": {},
   "outputs": [
    {
     "data": {
      "image/png": "[encoded data removed]",
      "text/plain": [
       "plot without title"
      ]
     },
     "metadata": {},
     "output_type": "display_data"
    }
   ],
   "source": [
    "# HORÁRIOS COM MAIOR VOLUME DE CLIQUES NOS TRÊS DIAS\n",
    "g7 <- ggplot(df4, aes(x = Hora, y = Horario.Mais.Cliques)) +                 \n",
    "     geom_bar(stat=\"identity\") +\n",
    "     labs(x = 'Horário', y = 'Frequência total de Cliques', title = 'Volume total de cliques sem download em cada hora')\n",
    "\n",
    "options(repr.plot.width = 5, repr.plot.height = 4)\n",
    "g7"
   ]
  },
  {
   "cell_type": "markdown",
   "metadata": {},
   "source": [
    "Nos horários de 00h00 a 15h00 é quando mais se tem cliques sem download."
   ]
  },
  {
   "cell_type": "code",
   "execution_count": 27,
   "metadata": {},
   "outputs": [
    {
     "name": "stdout",
     "output_type": "stream",
     "text": [
      "Rows: 4,500,000\n",
      "Columns: 8\n",
      "$ IP                 <int> 101863, 288158, 58404, 34222, 40631, 134018, 81613,~\n",
      "$ ID.App             <int> 3, 18, 2, 28, 2, 3, 3, 3, 3, 12, 28, 9, 18, 14, 3, ~\n",
      "$ Tipo.Dispositivo   <int> 1, 1, 1, 1, 1, 1, 1, 1, 1, 1, 1, 1, 1, 1, 1, 1, 1, ~\n",
      "$ ID.OS              <int> 13, 19, 17, 19, 19, 19, 14, 15, 13, 9, 13, 13, 37, ~\n",
      "$ ID.Canal.Anuncio   <int> 137, 121, 237, 135, 236, 280, 280, 280, 280, 19, 13~\n",
      "$ Click.Horario      <dttm> 2017-11-07 08:50:35, 2017-11-09 01:14:54, 2017-11-~\n",
      "$ Hora.Download      <dttm> NA, NA, NA, NA, NA, NA, NA, NA, NA, NA, NA, NA, NA~\n",
      "$ Aplicativo.Baixado <fct> 0, 0, 0, 0, 0, 0, 0, 0, 0, 0, 0, 0, 0, 0, 0, 0, 0, ~\n"
     ]
    }
   ],
   "source": [
    "df_Talking_Data$Aplicativo.Baixado <- as.factor(df_Talking_Data$Aplicativo.Baixado)\n",
    "glimpse(df_Talking_Data)"
   ]
  },
  {
   "cell_type": "markdown",
   "metadata": {},
   "source": [
    "#### **SEPARANDO DADOS DE TREINO E TESTE**"
   ]
  },
  {
   "cell_type": "code",
   "execution_count": null,
   "metadata": {},
   "outputs": [],
   "source": [
    "#split <- sample.split(df_Talking_Data$Aplicativo.Baixado, SplitRatio = 0.7)\n",
    "#dados_treino <- subset(df_Talking_Data, split == TRUE)\n",
    "#dados_teste <- subset(df_Talking_Data, split == FALSE )"
   ]
  },
  {
   "cell_type": "code",
   "execution_count": null,
   "metadata": {},
   "outputs": [],
   "source": [
    "# DADOS TREINO 70%\n",
    "#glimpse(dados_treino)"
   ]
  },
  {
   "cell_type": "code",
   "execution_count": null,
   "metadata": {},
   "outputs": [],
   "source": [
    "# DADOS TESTE 30%\n",
    "#glimpse(dados_teste)"
   ]
  },
  {
   "cell_type": "markdown",
   "metadata": {},
   "source": [
    "#### **BALANCEAMENTO DE CLASSES DOS DADOS DE TREINO**"
   ]
  },
  {
   "cell_type": "code",
   "execution_count": null,
   "metadata": {},
   "outputs": [],
   "source": [
    "#tabyl(dados_treino$Aplicativo.Baixado)"
   ]
  },
  {
   "cell_type": "code",
   "execution_count": null,
   "metadata": {},
   "outputs": [],
   "source": [
    "# BALANCEAMENTO NOS DADOS DE TREINO (DOWNSAMPLE)\n",
    "#dados_treino_down_sample <- recipe (Aplicativo.Baixado~., dados_treino) %>%\n",
    "#step_downsample(Aplicativo.Baixado) %>%\n",
    "#prep() %>%\n",
    "#juice() "
   ]
  },
  {
   "cell_type": "code",
   "execution_count": null,
   "metadata": {},
   "outputs": [],
   "source": [
    "#tabyl(dados_treino_down_sample$Aplicativo.Baixado)"
   ]
  },
  {
   "cell_type": "code",
   "execution_count": null,
   "metadata": {},
   "outputs": [],
   "source": [
    "# REMOVENDO AS VARIÁVEIS Click.Horario e Hora.Download DO DATASET DE TREINO BALANCEADO\n",
    "#dados_treino_down_sample <- select(dados_treino_down_sample, -Click.Horario, -Hora.Download)\n",
    "# DADOS TREINO BALANCEADO\n",
    "#glimpse(dados_treino_down_sample)"
   ]
  },
  {
   "cell_type": "code",
   "execution_count": null,
   "metadata": {},
   "outputs": [],
   "source": [
    "# REMOVENDO AS VARIÁVEIS Click.Horario e Hora.Download DO DATASET DE TESTE\n",
    "#dados_teste_final <- select(dados_teste, -Click.Horario, -Hora.Download)\n",
    "# DADOS TREINO BALANCEADO\n",
    "#glimpse(dados_teste_final)"
   ]
  },
  {
   "cell_type": "code",
   "execution_count": null,
   "metadata": {},
   "outputs": [],
   "source": [
    "# SALVANDO DADOS DE TREINO (dados_treino_down_sample) E TESTE (dados_teste_final)\n",
    "#write_csv(dados_treino_down_sample, \"dados_treino_down_sample.csv\")\n",
    "#write_csv(dados_teste_final, \"dados_teste_final.csv\")"
   ]
  },
  {
   "cell_type": "code",
   "execution_count": 28,
   "metadata": {},
   "outputs": [
    {
     "name": "stdout",
     "output_type": "stream",
     "text": [
      "Rows: 15,514\n",
      "Columns: 6\n",
      "$ IP                 <int> 133783, 133522, 175250, 100971, 25679, 140869, 7558~\n",
      "$ ID.App             <int> 12, 1, 12, 14, 18, 3, 18, 15, 2, 14, 18, 3, 15, 12,~\n",
      "$ Tipo.Dispositivo   <int> 1, 2, 1, 1, 1, 1, 1, 1, 1, 1, 1, 2, 1, 1, 1, 1, 1, ~\n",
      "$ ID.OS              <int> 20, 9, 13, 19, 13, 1, 19, 13, 17, 3, 13, 16, 13, 13~\n",
      "$ ID.Canal.Anuncio   <int> 245, 125, 497, 489, 107, 280, 107, 3, 469, 134, 107~\n",
      "$ Aplicativo.Baixado <fct> 0, 0, 0, 0, 0, 0, 0, 0, 0, 0, 0, 0, 0, 0, 0, 0, 0, ~\n"
     ]
    }
   ],
   "source": [
    "# CARREGANDO DADOS DE TREINO\n",
    "dados_treino_down_sample <- fread(\"dados_treino_down_sample.csv\")\n",
    "dados_treino_down_sample <- as.data.frame(dados_treino_down_sample)\n",
    "dados_treino_down_sample$Aplicativo.Baixado <- as.factor(dados_treino_down_sample$Aplicativo.Baixado)\n",
    "glimpse(dados_treino_down_sample)"
   ]
  },
  {
   "cell_type": "code",
   "execution_count": 29,
   "metadata": {},
   "outputs": [
    {
     "name": "stdout",
     "output_type": "stream",
     "text": [
      "Rows: 1,350,000\n",
      "Columns: 6\n",
      "$ IP                 <int> 81613, 48383, 74013, 114759, 40213, 120282, 5178, 8~\n",
      "$ ID.App             <int> 3, 3, 9, 3, 18, 12, 3, 3, 3, 2, 2, 14, 18, 18, 1, 2~\n",
      "$ Tipo.Dispositivo   <int> 1, 1, 1, 1, 1, 1, 1, 1, 1, 1, 1, 1, 1, 1, 1, 1, 1, ~\n",
      "$ ID.OS              <int> 14, 15, 13, 20, 6, 18, 20, 25, 41, 19, 22, 19, 17, ~\n",
      "$ ID.Canal.Anuncio   <int> 280, 280, 134, 137, 134, 265, 442, 280, 280, 122, 2~\n",
      "$ Aplicativo.Baixado <fct> 0, 0, 0, 0, 0, 0, 0, 0, 0, 0, 0, 0, 0, 0, 0, 0, 0, ~\n"
     ]
    }
   ],
   "source": [
    "# CARREGANDO DADOS DE TESTE\n",
    "dados_teste_final <- fread(\"dados_teste_final.csv\")\n",
    "dados_teste_final <- as.data.frame(dados_teste_final)\n",
    "dados_teste_final$Aplicativo.Baixado <- as.factor(dados_teste_final$Aplicativo.Baixado)\n",
    "glimpse(dados_teste_final)"
   ]
  },
  {
   "cell_type": "markdown",
   "metadata": {},
   "source": [
    "### **2 - APRENDIZADO**\n",
    "\n",
    "### **MODELO 1 - REGRESSÃO LOGÍSTICA (pacote:caret)**"
   ]
  },
  {
   "cell_type": "code",
   "execution_count": 30,
   "metadata": {},
   "outputs": [],
   "source": [
    "# MODELO\n",
    "modelo.rl.inicial <- glm(formula = Aplicativo.Baixado ~ ., data = dados_treino_down_sample, family = \"binomial\" )"
   ]
  },
  {
   "cell_type": "code",
   "execution_count": 31,
   "metadata": {},
   "outputs": [
    {
     "data": {
      "text/plain": [
       "\n",
       "Call:\n",
       "glm(formula = Aplicativo.Baixado ~ ., family = \"binomial\", data = dados_treino_down_sample)\n",
       "\n",
       "Deviance Residuals: \n",
       "    Min       1Q   Median       3Q      Max  \n",
       "-8.4904  -0.8205  -0.1653   0.8127   2.4097  \n",
       "\n",
       "Coefficients:\n",
       "                      Estimate    Std. Error z value            Pr(>|z|)    \n",
       "(Intercept)      -1.5305140195  0.0614078566 -24.924 <0.0000000000000002 ***\n",
       "IP                0.0000090538  0.0000002268  39.916 <0.0000000000000002 ***\n",
       "ID.App            0.0677329410  0.0018328644  36.955 <0.0000000000000002 ***\n",
       "Tipo.Dispositivo -0.0001889478  0.0001056454  -1.789              0.0737 .  \n",
       "ID.OS            -0.0011687494  0.0004859416  -2.405              0.0162 *  \n",
       "ID.Canal.Anuncio -0.0030982494  0.0001642664 -18.861 <0.0000000000000002 ***\n",
       "---\n",
       "Signif. codes:  0 '***' 0.001 '**' 0.01 '*' 0.05 '.' 0.1 ' ' 1\n",
       "\n",
       "(Dispersion parameter for binomial family taken to be 1)\n",
       "\n",
       "    Null deviance: 21507  on 15513  degrees of freedom\n",
       "Residual deviance: 16016  on 15508  degrees of freedom\n",
       "AIC: 16028\n",
       "\n",
       "Number of Fisher Scoring iterations: 25\n"
      ]
     },
     "metadata": {},
     "output_type": "display_data"
    }
   ],
   "source": [
    "# VISUALIZAÇÃO DO MODELO\n",
    "summary(modelo.rl.inicial)"
   ]
  },
  {
   "cell_type": "code",
   "execution_count": 32,
   "metadata": {},
   "outputs": [
    {
     "data": {
      "text/html": [
       "<table>\n",
       "<thead><tr><th></th><th scope=col>Overall</th></tr></thead>\n",
       "<tbody>\n",
       "\t<tr><th scope=row>IP</th><td>39.915888</td></tr>\n",
       "\t<tr><th scope=row>ID.App</th><td>36.954692</td></tr>\n",
       "\t<tr><th scope=row>Tipo.Dispositivo</th><td> 1.788509</td></tr>\n",
       "\t<tr><th scope=row>ID.OS</th><td> 2.405123</td></tr>\n",
       "\t<tr><th scope=row>ID.Canal.Anuncio</th><td>18.861126</td></tr>\n",
       "</tbody>\n",
       "</table>\n"
      ],
      "text/latex": [
       "\\begin{tabular}{r|l}\n",
       "  & Overall\\\\\n",
       "\\hline\n",
       "\tIP & 39.915888\\\\\n",
       "\tID.App & 36.954692\\\\\n",
       "\tTipo.Dispositivo &  1.788509\\\\\n",
       "\tID.OS &  2.405123\\\\\n",
       "\tID.Canal.Anuncio & 18.861126\\\\\n",
       "\\end{tabular}\n"
      ],
      "text/markdown": [
       "\n",
       "| <!--/--> | Overall |\n",
       "|---|---|\n",
       "| IP | 39.915888 |\n",
       "| ID.App | 36.954692 |\n",
       "| Tipo.Dispositivo |  1.788509 |\n",
       "| ID.OS |  2.405123 |\n",
       "| ID.Canal.Anuncio | 18.861126 |\n",
       "\n"
      ],
      "text/plain": [
       "                 Overall  \n",
       "IP               39.915888\n",
       "ID.App           36.954692\n",
       "Tipo.Dispositivo  1.788509\n",
       "ID.OS             2.405123\n",
       "ID.Canal.Anuncio 18.861126"
      ]
     },
     "metadata": {},
     "output_type": "display_data"
    }
   ],
   "source": [
    "# OVERALL DAS VARIÁVEIS MAIS IMPORTANTES\n",
    "varImp(modelo.rl.inicial) "
   ]
  },
  {
   "cell_type": "code",
   "execution_count": 33,
   "metadata": {},
   "outputs": [],
   "source": [
    "# MODELO FINAL\n",
    "modelo.rl <- glm(formula = Aplicativo.Baixado ~.-Tipo.Dispositivo, data = dados_treino_down_sample, family = \"binomial\" )"
   ]
  },
  {
   "cell_type": "code",
   "execution_count": 34,
   "metadata": {},
   "outputs": [
    {
     "data": {
      "text/plain": [
       "\n",
       "Call:\n",
       "glm(formula = Aplicativo.Baixado ~ . - Tipo.Dispositivo, family = \"binomial\", \n",
       "    data = dados_treino_down_sample)\n",
       "\n",
       "Deviance Residuals: \n",
       "    Min       1Q   Median       3Q      Max  \n",
       "-8.4904  -0.8211  -0.1653   0.8133   2.4098  \n",
       "\n",
       "Coefficients:\n",
       "                      Estimate    Std. Error z value             Pr(>|z|)    \n",
       "(Intercept)      -1.5231206761  0.0612287900 -24.876 < 0.0000000000000002 ***\n",
       "IP                0.0000090561  0.0000002268  39.924 < 0.0000000000000002 ***\n",
       "ID.App            0.0675938839  0.0018291838  36.953 < 0.0000000000000002 ***\n",
       "ID.OS            -0.0016379241  0.0004083760  -4.011            0.0000605 ***\n",
       "ID.Canal.Anuncio -0.0030957010  0.0001642165 -18.851 < 0.0000000000000002 ***\n",
       "---\n",
       "Signif. codes:  0 '***' 0.001 '**' 0.01 '*' 0.05 '.' 0.1 ' ' 1\n",
       "\n",
       "(Dispersion parameter for binomial family taken to be 1)\n",
       "\n",
       "    Null deviance: 21507  on 15513  degrees of freedom\n",
       "Residual deviance: 16019  on 15509  degrees of freedom\n",
       "AIC: 16029\n",
       "\n",
       "Number of Fisher Scoring iterations: 25\n"
      ]
     },
     "metadata": {},
     "output_type": "display_data"
    }
   ],
   "source": [
    "# VISUALIZAÇÃO DO MODELO FINAL\n",
    "summary(modelo.rl)"
   ]
  },
  {
   "cell_type": "code",
   "execution_count": 35,
   "metadata": {},
   "outputs": [],
   "source": [
    "# PREVISÃO DO MODELO\n",
    "previsao.modelo.rl <- predict(modelo.rl, dados_teste_final, type = \"response\")"
   ]
  },
  {
   "cell_type": "code",
   "execution_count": 36,
   "metadata": {},
   "outputs": [
    {
     "data": {
      "text/plain": [
       "        Reference\n",
       "Previsto       0       1\n",
       "       0 1085822     871\n",
       "       1  260853    2454"
      ]
     },
     "metadata": {},
     "output_type": "display_data"
    }
   ],
   "source": [
    "# AVALIAÇÃO DO MODELO\n",
    "# MATRIZ DE CONFUSÃO\n",
    "matriz_confusao1 <- table(Previsto = as.factor(round(previsao.modelo.rl)), Reference = dados_teste_final$Aplicativo.Baixado)\n",
    "matriz_confusao1"
   ]
  },
  {
   "cell_type": "markdown",
   "metadata": {},
   "source": [
    "#### **MÉTRICAS  DO MODELO DE REGRESSÃO LOGÍSTICA**"
   ]
  },
  {
   "cell_type": "code",
   "execution_count": null,
   "metadata": {},
   "outputs": [],
   "source": [
    "# ACURÁCIA (Accuracy) - MEDE A PRECISÃO DO MODELO DE CLASSIFICAÇÃO. QUANTO MAIOR MELHOR.\n",
    "# TRUE POSITIVO = tp\n",
    "# TRUE NEGATIVO = tn\n",
    "# FALSO POSITIVO = fp\n",
    "# FALSO NEGATIVO = fn\n",
    "\n",
    "# ACURÁCIA = tp + tn/ tp + tn + fp + fn  \n",
    "# TOTAL DE RESULTADOS CORRETOS/ TOTAL DE RESULTADOS ANALISADOS\n",
    "\n",
    "# PRECISÃO = tp/(tp + fp) \n",
    "# PROPORÇÃO DE RESULTADOS VERDADEIROS SOBRE OS POSITIVOS. QUANTO MAIOR MELHOR.\n",
    "\n",
    "# RECALL = tp/(tp + fn) \n",
    "# FRAÇÃO DE RESULTADOS CORRETOS RETORNADO PELO MODELO. QUANTO MAIOR MELHOR.\n",
    " \n",
    "# F1 SCORE = 2*tp / (2 * tp + fp + fn) OU 2 * precisao * recall/ (precisao + recall) \n",
    "# MÉDIA PODERADA ENTRE A PRECISÃO E RECALL. O VALOR IDEAL PARA O F-SCORE É IGUAL A 1."
   ]
  },
  {
   "cell_type": "code",
   "execution_count": 37,
   "metadata": {},
   "outputs": [],
   "source": [
    "# CARREGANDO FUNÇÕES DE MÉTRICAS PARA SEREM USADAS A PARTIR DA MATRIZ DE CONFUSÃO\n",
    "source(\"Metricas_classificacao.R\") "
   ]
  },
  {
   "cell_type": "code",
   "execution_count": 38,
   "metadata": {},
   "outputs": [
    {
     "name": "stdout",
     "output_type": "stream",
     "text": [
      "Modelo Regressão Logística: \n",
      " \n",
      "Acuracia   = 0.8061 \n",
      "Recall     = 0.8063 \n",
      "Precisao   = 0.9992 \n",
      "F1 Score   = 0.8924"
     ]
    }
   ],
   "source": [
    "metricas_class(matriz_confusao1,'Modelo Regressão Logística:')"
   ]
  },
  {
   "cell_type": "code",
   "execution_count": 39,
   "metadata": {},
   "outputs": [],
   "source": [
    "# CURVA ROC \n",
    "# AUC - QUANTO MAIS A ESQUERDA ESTIVER A CURVA, MAIOR A PRECISÃO DO MODELO\n",
    "source(\"plot_utils.R\") \n",
    "previsao1 <- prediction(previsao.modelo.rl, dados_teste_final$Aplicativo.Baixado)"
   ]
  },
  {
   "cell_type": "code",
   "execution_count": 40,
   "metadata": {},
   "outputs": [
    {
     "name": "stdout",
     "output_type": "stream",
     "text": [
      "AUC = 0.8439"
     ]
    }
   ],
   "source": [
    "pred1 <- performance(previsao1,\"auc\"); \n",
    "auc1 <- round(as.numeric(pred1@y.values), 4)\n",
    "cat(\"AUC =\", auc1)"
   ]
  },
  {
   "cell_type": "code",
   "execution_count": 41,
   "metadata": {},
   "outputs": [
    {
     "data": {
      "image/png": "[encoded data removed]",
      "text/plain": [
       "Plot with title \"Curva ROC\""
      ]
     },
     "metadata": {},
     "output_type": "display_data"
    },
    {
     "data": {
      "image/png": "[encoded data removed]",
      "text/plain": [
       "Plot with title \"Curva Precision/Recall\""
      ]
     },
     "metadata": {},
     "output_type": "display_data"
    }
   ],
   "source": [
    "options(repr.plot.width = 4, repr.plot.height = 4)\n",
    "plot.roc.curve(previsao1, title.text = \"Curva ROC\")\n",
    "plot.pr.curve(previsao1, title.text = \"Curva Precision/Recall\")"
   ]
  },
  {
   "cell_type": "markdown",
   "metadata": {},
   "source": [
    "### **MODELO 2 - NAIVE BAYES (pacote:e1071)**"
   ]
  },
  {
   "cell_type": "code",
   "execution_count": 42,
   "metadata": {},
   "outputs": [],
   "source": [
    "# MODELO\n",
    "modelo.naivebayes <- naiveBayes(Aplicativo.Baixado ~ ., data = dados_treino_down_sample)"
   ]
  },
  {
   "cell_type": "code",
   "execution_count": 43,
   "metadata": {},
   "outputs": [
    {
     "data": {
      "text/plain": [
       "          Length Class  Mode     \n",
       "apriori   2      table  numeric  \n",
       "tables    5      -none- list     \n",
       "levels    2      -none- character\n",
       "isnumeric 5      -none- logical  \n",
       "call      4      -none- call     "
      ]
     },
     "metadata": {},
     "output_type": "display_data"
    }
   ],
   "source": [
    "# VISUALIZAÇÃO DO MODELO\n",
    "summary(modelo.naivebayes)"
   ]
  },
  {
   "cell_type": "code",
   "execution_count": 44,
   "metadata": {},
   "outputs": [],
   "source": [
    "# PREVISÃO DO MODELO\n",
    "previsao.modelo.naivebayes <- predict(modelo.naivebayes, dados_teste_final)"
   ]
  },
  {
   "cell_type": "code",
   "execution_count": 45,
   "metadata": {},
   "outputs": [
    {
     "data": {
      "text/plain": [
       "        Reference\n",
       "Previsto       0       1\n",
       "       0 1181586    1226\n",
       "       1  165089    2099"
      ]
     },
     "metadata": {},
     "output_type": "display_data"
    }
   ],
   "source": [
    "# MATRIZ DE CONFUSÃO\n",
    "matriz_confusao2 <- table(Previsto = previsao.modelo.naivebayes, Reference = dados_teste_final$Aplicativo.Baixado)\n",
    "matriz_confusao2"
   ]
  },
  {
   "cell_type": "markdown",
   "metadata": {},
   "source": [
    "#### **MÉTRICAS  DO MODELO NAIVE BAYES**"
   ]
  },
  {
   "cell_type": "code",
   "execution_count": 46,
   "metadata": {},
   "outputs": [
    {
     "name": "stdout",
     "output_type": "stream",
     "text": [
      "Modelo Nayve Bayes: \n",
      " \n",
      "Acuracia   = 0.8768 \n",
      "Recall     = 0.8774 \n",
      "Precisao   = 0.999 \n",
      "F1 Score   = 0.9342"
     ]
    }
   ],
   "source": [
    "metricas_class(matriz_confusao2,\"Modelo Nayve Bayes:\")"
   ]
  },
  {
   "cell_type": "code",
   "execution_count": 47,
   "metadata": {},
   "outputs": [],
   "source": [
    "# CURVA ROC  \n",
    "previsao2 <- prediction(as.double(previsao.modelo.naivebayes), dados_teste_final$Aplicativo.Baixado)"
   ]
  },
  {
   "cell_type": "code",
   "execution_count": 48,
   "metadata": {},
   "outputs": [
    {
     "name": "stdout",
     "output_type": "stream",
     "text": [
      "AUC = 0.7543"
     ]
    }
   ],
   "source": [
    "pred2 <- performance(previsao2,\"auc\"); \n",
    "auc2 <- round(as.numeric(pred2@y.values), 4)\n",
    "cat(\"AUC =\", auc2)"
   ]
  },
  {
   "cell_type": "code",
   "execution_count": 49,
   "metadata": {},
   "outputs": [
    {
     "data": {
      "image/png": "[encoded data removed]",
      "text/plain": [
       "Plot with title \"Curva ROC\""
      ]
     },
     "metadata": {},
     "output_type": "display_data"
    },
    {
     "data": {
      "image/png": "[encoded data removed]",
      "text/plain": [
       "Plot with title \"Curva Precision/Recall\""
      ]
     },
     "metadata": {},
     "output_type": "display_data"
    }
   ],
   "source": [
    "plot.roc.curve(previsao2, title.text = \"Curva ROC\")\n",
    "plot.pr.curve(previsao2, title.text = \"Curva Precision/Recall\")"
   ]
  },
  {
   "cell_type": "markdown",
   "metadata": {},
   "source": [
    "### **MODELO 3 - SUPPORT VECTOR MACHINES (pacote:e1071)**"
   ]
  },
  {
   "cell_type": "code",
   "execution_count": 50,
   "metadata": {},
   "outputs": [],
   "source": [
    "# MODELO\n",
    "modelo.svm.e1071 <- svm(Aplicativo.Baixado ~ ., data = dados_treino_down_sample, type = 'C-classification', kernel = 'radial')"
   ]
  },
  {
   "cell_type": "code",
   "execution_count": 51,
   "metadata": {},
   "outputs": [
    {
     "data": {
      "text/plain": [
       "\n",
       "Call:\n",
       "svm(formula = Aplicativo.Baixado ~ ., data = dados_treino_down_sample, \n",
       "    type = \"C-classification\", kernel = \"radial\")\n",
       "\n",
       "\n",
       "Parameters:\n",
       "   SVM-Type:  C-classification \n",
       " SVM-Kernel:  radial \n",
       "       cost:  1 \n",
       "\n",
       "Number of Support Vectors:  6886\n",
       "\n",
       " ( 3422 3464 )\n",
       "\n",
       "\n",
       "Number of Classes:  2 \n",
       "\n",
       "Levels: \n",
       " 0 1\n",
       "\n",
       "\n"
      ]
     },
     "metadata": {},
     "output_type": "display_data"
    }
   ],
   "source": [
    "# VISUALIZAÇÃO DO MODELO\n",
    "summary(modelo.svm.e1071)"
   ]
  },
  {
   "cell_type": "code",
   "execution_count": 52,
   "metadata": {},
   "outputs": [],
   "source": [
    "# PREVISÃO DO MODELO\n",
    "previsao.modelo.svm.e1071 <- predict(modelo.svm.e1071, dados_teste_final) "
   ]
  },
  {
   "cell_type": "code",
   "execution_count": 53,
   "metadata": {},
   "outputs": [
    {
     "data": {
      "text/plain": [
       "        Reference\n",
       "Previsto       0       1\n",
       "       0 1208028     847\n",
       "       1  138647    2478"
      ]
     },
     "metadata": {},
     "output_type": "display_data"
    }
   ],
   "source": [
    "# MATRIZ DE CONFUSÃO\n",
    "matriz_confusao3 <- table(Previsto = previsao.modelo.svm.e1071, Reference = dados_teste_final$Aplicativo.Baixado)\n",
    "matriz_confusao3"
   ]
  },
  {
   "cell_type": "markdown",
   "metadata": {},
   "source": [
    "#### **MÉTRICAS  DO MODELO SVM e1071**"
   ]
  },
  {
   "cell_type": "code",
   "execution_count": 54,
   "metadata": {},
   "outputs": [
    {
     "name": "stdout",
     "output_type": "stream",
     "text": [
      "Modelo SVM e1071: \n",
      " \n",
      "Acuracia   = 0.8967 \n",
      "Recall     = 0.897 \n",
      "Precisao   = 0.9993 \n",
      "F1 Score   = 0.9454"
     ]
    }
   ],
   "source": [
    "metricas_class(matriz_confusao3, \"Modelo SVM e1071:\")"
   ]
  },
  {
   "cell_type": "code",
   "execution_count": 55,
   "metadata": {},
   "outputs": [],
   "source": [
    "# CURVA ROC \n",
    "previsao3 <- prediction(as.numeric(previsao.modelo.svm.e1071), dados_teste_final$Aplicativo.Baixado)"
   ]
  },
  {
   "cell_type": "code",
   "execution_count": 56,
   "metadata": {},
   "outputs": [
    {
     "name": "stdout",
     "output_type": "stream",
     "text": [
      "AUC = 0.8212"
     ]
    }
   ],
   "source": [
    "pred3 <- performance(previsao3,\"auc\"); \n",
    "auc3 <- round(as.numeric(pred3@y.values), 4)\n",
    "cat(\"AUC =\", auc3)"
   ]
  },
  {
   "cell_type": "code",
   "execution_count": 57,
   "metadata": {},
   "outputs": [
    {
     "data": {
      "image/png": "[encoded data removed]",
      "text/plain": [
       "Plot with title \"Curva ROC\""
      ]
     },
     "metadata": {},
     "output_type": "display_data"
    },
    {
     "data": {
      "image/png": "[encoded data removed]",
      "text/plain": [
       "Plot with title \"Curva Precision/Recall\""
      ]
     },
     "metadata": {},
     "output_type": "display_data"
    }
   ],
   "source": [
    "plot.roc.curve(previsao3, title.text = \"Curva ROC\")\n",
    "plot.pr.curve(previsao3, title.text = \"Curva Precision/Recall\")"
   ]
  },
  {
   "cell_type": "markdown",
   "metadata": {},
   "source": [
    "### **MODELO 4 - SUPPORT VECTOR MACHINES (pacote:kernlab)**"
   ]
  },
  {
   "cell_type": "code",
   "execution_count": 58,
   "metadata": {},
   "outputs": [
    {
     "name": "stdout",
     "output_type": "stream",
     "text": [
      " Setting default kernel parameters  \n"
     ]
    }
   ],
   "source": [
    "# MODELO\n",
    "modelo.svm.kernlab <- ksvm(Aplicativo.Baixado ~., data = dados_treino_down_sample, kernel = \"vanilladot\")"
   ]
  },
  {
   "cell_type": "code",
   "execution_count": 59,
   "metadata": {},
   "outputs": [
    {
     "data": {
      "text/plain": [
       "Length  Class   Mode \n",
       "     1   ksvm     S4 "
      ]
     },
     "metadata": {},
     "output_type": "display_data"
    }
   ],
   "source": [
    "# VISUALIZAÇÃO DO MODELO\n",
    "summary(modelo.svm.kernlab)"
   ]
  },
  {
   "cell_type": "code",
   "execution_count": 60,
   "metadata": {},
   "outputs": [],
   "source": [
    "# PREVISÃO DO MODELO\n",
    "previsao.modelo.svm.kernlab <- predict(modelo.svm.kernlab, dados_teste_final)"
   ]
  },
  {
   "cell_type": "code",
   "execution_count": 61,
   "metadata": {},
   "outputs": [
    {
     "data": {
      "text/plain": [
       "        Reference\n",
       "Previsto       0       1\n",
       "       0 1102250     913\n",
       "       1  244425    2412"
      ]
     },
     "metadata": {},
     "output_type": "display_data"
    }
   ],
   "source": [
    "# MATRIZ DE CONFUSÃO\n",
    "matriz_confusao4 <- table(Previsto = previsao.modelo.svm.kernlab, Reference = dados_teste_final$Aplicativo.Baixado)\n",
    "matriz_confusao4 "
   ]
  },
  {
   "cell_type": "code",
   "execution_count": 62,
   "metadata": {},
   "outputs": [
    {
     "data": {
      "text/plain": [
       "Confusion Matrix and Statistics\n",
       "\n",
       "          Reference\n",
       "Prediction       0       1\n",
       "         0 1102250     913\n",
       "         1  244425    2412\n",
       "                                             \n",
       "               Accuracy : 0.8183             \n",
       "                 95% CI : (0.8176, 0.8189)   \n",
       "    No Information Rate : 0.9975             \n",
       "    P-Value [Acc > NIR] : 1                  \n",
       "                                             \n",
       "                  Kappa : 0.0145             \n",
       "                                             \n",
       " Mcnemar's Test P-Value : <0.0000000000000002\n",
       "                                             \n",
       "            Sensitivity : 0.818497           \n",
       "            Specificity : 0.725414           \n",
       "         Pos Pred Value : 0.999172           \n",
       "         Neg Pred Value : 0.009772           \n",
       "             Prevalence : 0.997537           \n",
       "         Detection Rate : 0.816481           \n",
       "   Detection Prevalence : 0.817158           \n",
       "      Balanced Accuracy : 0.771955           \n",
       "                                             \n",
       "       'Positive' Class : 0                  \n",
       "                                             "
      ]
     },
     "metadata": {},
     "output_type": "display_data"
    }
   ],
   "source": [
    "# MATRIZ DE CONFUSÃO (OUTRO MODO COM O caret)\n",
    "library(caret)\n",
    "matriz_confusao4.1 <- confusionMatrix(previsao.modelo.svm.kernlab, dados_teste_final$Aplicativo.Baixado)\n",
    "matriz_confusao4.1"
   ]
  },
  {
   "cell_type": "markdown",
   "metadata": {},
   "source": [
    "#### **MÉTRICAS  DO MODELO SVM kernlab**"
   ]
  },
  {
   "cell_type": "code",
   "execution_count": 63,
   "metadata": {},
   "outputs": [
    {
     "name": "stdout",
     "output_type": "stream",
     "text": [
      "Modelo SVM kernlab: \n",
      " \n",
      "Acuracia   = 0.8183 \n",
      "Recall     = 0.8185 \n",
      "Precisao   = 0.9992 \n",
      "F1 Score   = 0.8999"
     ]
    }
   ],
   "source": [
    "metricas_class(matriz_confusao4, \"Modelo SVM kernlab:\")"
   ]
  },
  {
   "cell_type": "code",
   "execution_count": 64,
   "metadata": {},
   "outputs": [],
   "source": [
    "# CURVA ROC\n",
    "previsao4 <- prediction(as.double(previsao.modelo.svm.kernlab), dados_teste_final$Aplicativo.Baixado)"
   ]
  },
  {
   "cell_type": "code",
   "execution_count": 65,
   "metadata": {},
   "outputs": [
    {
     "name": "stdout",
     "output_type": "stream",
     "text": [
      "AUC = 0.772"
     ]
    }
   ],
   "source": [
    "pred4 <- performance(previsao4,\"auc\"); \n",
    "auc4 <- round(as.numeric(pred4@y.values), 4)\n",
    "cat(\"AUC =\", auc4)"
   ]
  },
  {
   "cell_type": "code",
   "execution_count": 66,
   "metadata": {},
   "outputs": [
    {
     "data": {
      "image/png": "[encoded data removed]",
      "text/plain": [
       "Plot with title \"Curva ROC\""
      ]
     },
     "metadata": {},
     "output_type": "display_data"
    },
    {
     "data": {
      "image/png": "[encoded data removed]",
      "text/plain": [
       "Plot with title \"Curva Precision/Recall\""
      ]
     },
     "metadata": {},
     "output_type": "display_data"
    }
   ],
   "source": [
    "plot.roc.curve(previsao4, title.text = \"Curva ROC\")\n",
    "plot.pr.curve(previsao4, title.text = \"Curva Precision/Recall\")"
   ]
  },
  {
   "cell_type": "markdown",
   "metadata": {},
   "source": [
    "### **MODELO 5 - KNN (pacote:class)**"
   ]
  },
  {
   "cell_type": "code",
   "execution_count": 67,
   "metadata": {},
   "outputs": [],
   "source": [
    "# MODELO E PREVISÃO\n",
    "modelo.knn <- knn(train = dados_treino_down_sample, \n",
    "                     test = dados_teste_final,\n",
    "                     cl = dados_treino_down_sample$Aplicativo.Baixado, \n",
    "                     k = 15)"
   ]
  },
  {
   "cell_type": "code",
   "execution_count": 68,
   "metadata": {},
   "outputs": [
    {
     "data": {
      "text/html": [
       "<dl class=dl-horizontal>\n",
       "\t<dt>0</dt>\n",
       "\t\t<dd>1028092</dd>\n",
       "\t<dt>1</dt>\n",
       "\t\t<dd>321908</dd>\n",
       "</dl>\n"
      ],
      "text/latex": [
       "\\begin{description*}\n",
       "\\item[0] 1028092\n",
       "\\item[1] 321908\n",
       "\\end{description*}\n"
      ],
      "text/markdown": [
       "0\n",
       ":   10280921\n",
       ":   321908\n",
       "\n"
      ],
      "text/plain": [
       "      0       1 \n",
       "1028092  321908 "
      ]
     },
     "metadata": {},
     "output_type": "display_data"
    }
   ],
   "source": [
    "# VISUALIZAÇÃO DO MODELO\n",
    "summary(modelo.knn)"
   ]
  },
  {
   "cell_type": "code",
   "execution_count": 69,
   "metadata": {},
   "outputs": [
    {
     "data": {
      "text/plain": [
       "        Reference\n",
       "Previsto       0       1\n",
       "       0 1026850    1242\n",
       "       1  319825    2083"
      ]
     },
     "metadata": {},
     "output_type": "display_data"
    }
   ],
   "source": [
    "# MATRIZ DE CONFUSÃO\n",
    "matriz_confusao5 <- table(Previsto = modelo.knn, Reference = dados_teste_final$Aplicativo.Baixado)\n",
    "matriz_confusao5"
   ]
  },
  {
   "cell_type": "markdown",
   "metadata": {},
   "source": [
    "#### **MÉTRICAS  DO MODELO KNN**"
   ]
  },
  {
   "cell_type": "code",
   "execution_count": 70,
   "metadata": {},
   "outputs": [
    {
     "name": "stdout",
     "output_type": "stream",
     "text": [
      "Modelo KNN: \n",
      " \n",
      "Acuracia   = 0.7622 \n",
      "Recall     = 0.7625 \n",
      "Precisao   = 0.9988 \n",
      "F1 Score   = 0.8648"
     ]
    }
   ],
   "source": [
    "metricas_class(matriz_confusao5, \"Modelo KNN:\")"
   ]
  },
  {
   "cell_type": "code",
   "execution_count": 71,
   "metadata": {},
   "outputs": [],
   "source": [
    "# CURVA ROC\n",
    "previsao5 <- prediction(as.double(modelo.knn), dados_teste_final$Aplicativo.Baixado)"
   ]
  },
  {
   "cell_type": "code",
   "execution_count": 72,
   "metadata": {},
   "outputs": [
    {
     "name": "stdout",
     "output_type": "stream",
     "text": [
      "AUC = 0.6945"
     ]
    }
   ],
   "source": [
    "pred5 <- performance(previsao5,\"auc\"); \n",
    "auc5 <- round(as.numeric(pred5@y.values), 4)\n",
    "cat(\"AUC =\", auc5)"
   ]
  },
  {
   "cell_type": "code",
   "execution_count": 73,
   "metadata": {},
   "outputs": [
    {
     "data": {
      "image/png": "[encoded data removed]",
      "text/plain": [
       "Plot with title \"Curva ROC\""
      ]
     },
     "metadata": {},
     "output_type": "display_data"
    },
    {
     "data": {
      "image/png": "[encoded data removed]",
      "text/plain": [
       "Plot with title \"Curva Precision/Recall\""
      ]
     },
     "metadata": {},
     "output_type": "display_data"
    }
   ],
   "source": [
    "plot.roc.curve(previsao5, title.text = \"Curva ROC\")\n",
    "plot.pr.curve(previsao5, title.text = \"Curva Precision/Recall\")"
   ]
  },
  {
   "cell_type": "markdown",
   "metadata": {},
   "source": [
    "### **MODELO 6 - ÁRVORE DE DECISÃO (pacote:rpart)**"
   ]
  },
  {
   "cell_type": "code",
   "execution_count": 74,
   "metadata": {},
   "outputs": [],
   "source": [
    "# MODELO\n",
    "modelo.arvore.decisao <- rpart(Aplicativo.Baixado ~ . , method = 'class', data = dados_treino_down_sample)"
   ]
  },
  {
   "cell_type": "code",
   "execution_count": 75,
   "metadata": {},
   "outputs": [
    {
     "name": "stdout",
     "output_type": "stream",
     "text": [
      "\n",
      "Classification tree:\n",
      "rpart(formula = Aplicativo.Baixado ~ ., data = dados_treino_down_sample, \n",
      "    method = \"class\")\n",
      "\n",
      "Variables actually used in tree construction:\n",
      "[1] ID.App           ID.Canal.Anuncio\n",
      "\n",
      "Root node error: 7757/15514 = 0.5\n",
      "\n",
      "n= 15514 \n",
      "\n",
      "        CP nsplit rel error  xerror      xstd\n",
      "1 0.581153      0   1.00000 1.01315 0.0080279\n",
      "2 0.065360      1   0.41885 0.41885 0.0065336\n",
      "3 0.057368      2   0.35349 0.35349 0.0061250\n",
      "4 0.036032      3   0.29612 0.29612 0.0057028\n",
      "5 0.010000      5   0.22406 0.22406 0.0050644\n"
     ]
    }
   ],
   "source": [
    "# EXAMINA O RESULTADO DO MODELO DA ÁRVORE DE DECISÃO printcp()\n",
    "printcp(modelo.arvore.decisao)"
   ]
  },
  {
   "cell_type": "code",
   "execution_count": 76,
   "metadata": {},
   "outputs": [
    {
     "data": {
      "image/png": "[encoded data removed]",
      "text/plain": [
       "plot without title"
      ]
     },
     "metadata": {},
     "output_type": "display_data"
    }
   ],
   "source": [
    "# PLOT DA ÁRVORE DE DECISÃO \n",
    "options(repr.plot.width = 7, repr.plot.height = 3)\n",
    "prp(modelo.arvore.decisao)"
   ]
  },
  {
   "cell_type": "code",
   "execution_count": 77,
   "metadata": {},
   "outputs": [],
   "source": [
    "# PREVISÃO DO MODELO\n",
    "previsao.modelo.arvore.decisao <- predict(modelo.arvore.decisao, dados_teste_final, type='class')"
   ]
  },
  {
   "cell_type": "code",
   "execution_count": 78,
   "metadata": {},
   "outputs": [
    {
     "data": {
      "text/plain": [
       "        Reference\n",
       "Previsto       0       1\n",
       "       0 1300162     593\n",
       "       1   46513    2732"
      ]
     },
     "metadata": {},
     "output_type": "display_data"
    }
   ],
   "source": [
    "# MATRIZ DE CONFUSÃO\n",
    "matriz_confusao6 <- table(Previsto = previsao.modelo.arvore.decisao, \n",
    "                          Reference = dados_teste_final$Aplicativo.Baixado)\n",
    "matriz_confusao6"
   ]
  },
  {
   "cell_type": "markdown",
   "metadata": {},
   "source": [
    "#### **MÉTRICAS DO MODELO DE ÁRVORE DE DECISÃO**"
   ]
  },
  {
   "cell_type": "code",
   "execution_count": 79,
   "metadata": {},
   "outputs": [
    {
     "name": "stdout",
     "output_type": "stream",
     "text": [
      "Modelo Árvore de Decisão: \n",
      " \n",
      "Acuracia   = 0.9651 \n",
      "Recall     = 0.9655 \n",
      "Precisao   = 0.9995 \n",
      "F1 Score   = 0.9822"
     ]
    }
   ],
   "source": [
    "metricas_class(matriz_confusao6, \"Modelo Árvore de Decisão:\")"
   ]
  },
  {
   "cell_type": "code",
   "execution_count": 80,
   "metadata": {},
   "outputs": [],
   "source": [
    "# CURVA ROC\n",
    "previsao6 <- prediction(as.double(previsao.modelo.arvore.decisao), dados_teste_final$Aplicativo.Baixado)"
   ]
  },
  {
   "cell_type": "code",
   "execution_count": 81,
   "metadata": {},
   "outputs": [
    {
     "name": "stdout",
     "output_type": "stream",
     "text": [
      "AUC = 0.8936"
     ]
    }
   ],
   "source": [
    "pred6 <- performance(previsao6,\"auc\"); \n",
    "auc6 <- round(as.numeric(pred6@y.values), 4)\n",
    "cat(\"AUC =\", auc6)"
   ]
  },
  {
   "cell_type": "code",
   "execution_count": 82,
   "metadata": {},
   "outputs": [
    {
     "data": {
      "image/png": "[encoded data removed]",
      "text/plain": [
       "Plot with title \"Curva ROC\""
      ]
     },
     "metadata": {},
     "output_type": "display_data"
    },
    {
     "data": {
      "image/png": "[encoded data removed]",
      "text/plain": [
       "Plot with title \"Curva Precision/Recall\""
      ]
     },
     "metadata": {},
     "output_type": "display_data"
    }
   ],
   "source": [
    "options(repr.plot.width = 4, repr.plot.height = 4)\n",
    "plot.roc.curve(previsao6, title.text = \"Curva ROC\")\n",
    "plot.pr.curve(previsao6, title.text = \"Curva Precision/Recall\")"
   ]
  },
  {
   "cell_type": "markdown",
   "metadata": {},
   "source": [
    "### **MODELO 7 - RANDOM FOREST (pacote:rpart)**"
   ]
  },
  {
   "cell_type": "code",
   "execution_count": 83,
   "metadata": {},
   "outputs": [],
   "source": [
    "# MODELO\n",
    "modelo.randomforest.rpart = rpart(Aplicativo.Baixado ~ ., data = dados_treino_down_sample, control = rpart.control(cp = .0005)) "
   ]
  },
  {
   "cell_type": "code",
   "execution_count": 84,
   "metadata": {},
   "outputs": [
    {
     "name": "stdout",
     "output_type": "stream",
     "text": [
      "List of 14\n",
      " $ frame              :'data.frame':\t93 obs. of  9 variables:\n",
      "  ..$ var       : Factor w/ 6 levels \"<leaf>\",\"ID.App\",..: 2 3 5 2 1 2 1 2 6 1 ...\n",
      "  ..$ n         : int [1:93] 15514 9070 7335 6754 2681 4073 2583 1490 1166 58 ...\n",
      "  ..$ wt        : num [1:93] 15514 9070 7335 6754 2681 ...\n",
      "  ..$ dev       : num [1:93] 7757 2281 1160 928 188 ...\n",
      "  ..$ yval      : num [1:93] 1 1 1 1 1 1 1 1 1 1 ...\n",
      "  ..$ complexity: num [1:93] 0.58115 0.06536 0.00184 0.00184 0 ...\n",
      "  ..$ ncompete  : int [1:93] 4 4 4 4 0 4 0 4 4 0 ...\n",
      "  ..$ nsurrogate: int [1:93] 4 4 0 1 0 1 0 2 1 0 ...\n",
      "  ..$ yval2     : num [1:93, 1:6] 1 1 1 1 1 1 1 1 1 1 ...\n",
      "  .. ..- attr(*, \"dimnames\")=List of 2\n",
      "  .. .. ..$ : NULL\n",
      "  .. .. ..$ : chr [1:6] \"\" \"\" \"\" \"\" ...\n",
      " $ where              : Named int [1:15514] 7 5 7 7 62 5 62 62 5 7 ...\n",
      "  ..- attr(*, \"names\")= chr [1:15514] \"1\" \"2\" \"3\" \"4\" ...\n",
      " $ call               : language rpart(formula = Aplicativo.Baixado ~ ., data = dados_treino_down_sample,      control = rpart.control(cp = 0.0005))\n",
      " $ terms              :Classes 'terms', 'formula'  language Aplicativo.Baixado ~ IP + ID.App + Tipo.Dispositivo + ID.OS + ID.Canal.Anuncio\n",
      "  .. ..- attr(*, \"variables\")= language list(Aplicativo.Baixado, IP, ID.App, Tipo.Dispositivo, ID.OS, ID.Canal.Anuncio)\n",
      "  .. ..- attr(*, \"factors\")= int [1:6, 1:5] 0 1 0 0 0 0 0 0 1 0 ...\n",
      "  .. .. ..- attr(*, \"dimnames\")=List of 2\n",
      "  .. .. .. ..$ : chr [1:6] \"Aplicativo.Baixado\" \"IP\" \"ID.App\" \"Tipo.Dispositivo\" ...\n",
      "  .. .. .. ..$ : chr [1:5] \"IP\" \"ID.App\" \"Tipo.Dispositivo\" \"ID.OS\" ...\n",
      "  .. ..- attr(*, \"term.labels\")= chr [1:5] \"IP\" \"ID.App\" \"Tipo.Dispositivo\" \"ID.OS\" ...\n",
      "  .. ..- attr(*, \"order\")= int [1:5] 1 1 1 1 1\n",
      "  .. ..- attr(*, \"intercept\")= int 1\n",
      "  .. ..- attr(*, \"response\")= int 1\n",
      "  .. ..- attr(*, \".Environment\")=<environment: R_GlobalEnv> \n",
      "  .. ..- attr(*, \"predvars\")= language list(Aplicativo.Baixado, IP, ID.App, Tipo.Dispositivo, ID.OS, ID.Canal.Anuncio)\n",
      "  .. ..- attr(*, \"dataClasses\")= Named chr [1:6] \"factor\" \"numeric\" \"numeric\" \"numeric\" ...\n",
      "  .. .. ..- attr(*, \"names\")= chr [1:6] \"Aplicativo.Baixado\" \"IP\" \"ID.App\" \"Tipo.Dispositivo\" ...\n",
      " $ cptable            : num [1:18, 1:5] 0.58115 0.06536 0.05737 0.03603 0.00432 ...\n",
      "  ..- attr(*, \"dimnames\")=List of 2\n",
      "  .. ..$ : chr [1:18] \"1\" \"2\" \"3\" \"4\" ...\n",
      "  .. ..$ : chr [1:5] \"CP\" \"nsplit\" \"rel error\" \"xerror\" ...\n",
      " $ method             : chr \"class\"\n",
      " $ parms              :List of 3\n",
      "  ..$ prior: num [1:2(1d)] 0.5 0.5\n",
      "  .. ..- attr(*, \"dimnames\")=List of 1\n",
      "  .. .. ..$ : chr [1:2] \"1\" \"2\"\n",
      "  ..$ loss : num [1:2, 1:2] 0 1 1 0\n",
      "  ..$ split: num 1\n",
      " $ control            :List of 9\n",
      "  ..$ minsplit      : int 20\n",
      "  ..$ minbucket     : num 7\n",
      "  ..$ cp            : num 0.0005\n",
      "  ..$ maxcompete    : int 4\n",
      "  ..$ maxsurrogate  : int 5\n",
      "  ..$ usesurrogate  : int 2\n",
      "  ..$ surrogatestyle: int 0\n",
      "  ..$ maxdepth      : int 30\n",
      "  ..$ xval          : int 10\n",
      " $ functions          :List of 3\n",
      "  ..$ summary:function (yval, dev, wt, ylevel, digits)  \n",
      "  ..$ print  :function (yval, ylevel, digits)  \n",
      "  ..$ text   :function (yval, dev, wt, ylevel, digits, n, use.n)  \n",
      " $ numresp            : int 4\n",
      " $ splits             : num [1:268, 1:5] 15514 15514 15514 15514 15514 ...\n",
      "  ..- attr(*, \"dimnames\")=List of 2\n",
      "  .. ..$ : chr [1:268] \"ID.App\" \"IP\" \"Tipo.Dispositivo\" \"ID.Canal.Anuncio\" ...\n",
      "  .. ..$ : chr [1:5] \"count\" \"ncat\" \"improve\" \"index\" ...\n",
      " $ variable.importance: Named num [1:5] 4460 2000 920 787 636\n",
      "  ..- attr(*, \"names\")= chr [1:5] \"ID.App\" \"ID.Canal.Anuncio\" \"Tipo.Dispositivo\" \"IP\" ...\n",
      " $ y                  : int [1:15514] 1 1 1 1 1 1 1 1 1 1 ...\n",
      " $ ordered            : Named logi [1:5] FALSE FALSE FALSE FALSE FALSE\n",
      "  ..- attr(*, \"names\")= chr [1:5] \"IP\" \"ID.App\" \"Tipo.Dispositivo\" \"ID.OS\" ...\n",
      " - attr(*, \"xlevels\")= Named list()\n",
      " - attr(*, \"ylevels\")= chr [1:2] \"0\" \"1\"\n",
      " - attr(*, \"class\")= chr \"rpart\"\n"
     ]
    }
   ],
   "source": [
    "# VISUALIZAÇÃO DO MODELO\n",
    "str(modelo.randomforest.rpart)"
   ]
  },
  {
   "cell_type": "code",
   "execution_count": 85,
   "metadata": {},
   "outputs": [],
   "source": [
    "# PREVISAO DO MODELO\n",
    "previsao.modelo.randomforest.rpart = predict(modelo.randomforest.rpart, dados_teste_final, type='class')"
   ]
  },
  {
   "cell_type": "code",
   "execution_count": 86,
   "metadata": {
    "scrolled": true
   },
   "outputs": [
    {
     "data": {
      "text/plain": [
       "        Reference\n",
       "Previsto       0       1\n",
       "       0 1295345     465\n",
       "       1   51330    2860"
      ]
     },
     "metadata": {},
     "output_type": "display_data"
    }
   ],
   "source": [
    "# MATRIZ DE CONFUSÃO\n",
    "matriz_confusao7 <- table(Previsto = previsao.modelo.randomforest.rpart, Reference = dados_teste_final$Aplicativo.Baixado)\n",
    "matriz_confusao7"
   ]
  },
  {
   "cell_type": "markdown",
   "metadata": {},
   "source": [
    "#### **MÉTRICAS DO MODELO RANDOM FOREST rpart**"
   ]
  },
  {
   "cell_type": "code",
   "execution_count": 87,
   "metadata": {},
   "outputs": [
    {
     "name": "stdout",
     "output_type": "stream",
     "text": [
      "Modelo Random Forest rpart: \n",
      " \n",
      "Acuracia   = 0.9616 \n",
      "Recall     = 0.9619 \n",
      "Precisao   = 0.9996 \n",
      "F1 Score   = 0.9804"
     ]
    }
   ],
   "source": [
    "metricas_class(matriz_confusao7, \"Modelo Random Forest rpart:\")"
   ]
  },
  {
   "cell_type": "code",
   "execution_count": 88,
   "metadata": {},
   "outputs": [],
   "source": [
    "# CURVA ROC\n",
    "previsao7 <- prediction(as.numeric(previsao.modelo.randomforest.rpart), dados_teste_final$Aplicativo.Baixado)"
   ]
  },
  {
   "cell_type": "code",
   "execution_count": 89,
   "metadata": {},
   "outputs": [
    {
     "name": "stdout",
     "output_type": "stream",
     "text": [
      "AUC = 0.911"
     ]
    }
   ],
   "source": [
    "pred7 <- performance(previsao7,\"auc\"); \n",
    "auc7 <- round(as.numeric(pred7@y.values), 4)\n",
    "cat(\"AUC =\", auc7)"
   ]
  },
  {
   "cell_type": "code",
   "execution_count": 90,
   "metadata": {},
   "outputs": [
    {
     "data": {
      "image/png": "[encoded data removed]",
      "text/plain": [
       "Plot with title \"Curva ROC\""
      ]
     },
     "metadata": {},
     "output_type": "display_data"
    },
    {
     "data": {
      "image/png": "[encoded data removed]",
      "text/plain": [
       "Plot with title \"Curva Precision/Recall\""
      ]
     },
     "metadata": {},
     "output_type": "display_data"
    }
   ],
   "source": [
    "plot.roc.curve(previsao7, title.text = \"Curva ROC\")\n",
    "plot.pr.curve(previsao7, title.text = \"Curva Precision/Recall\")"
   ]
  },
  {
   "cell_type": "markdown",
   "metadata": {},
   "source": [
    "### **MODELO 8 - RANDOM FOREST (pacote: randomForest)**"
   ]
  },
  {
   "cell_type": "code",
   "execution_count": null,
   "metadata": {},
   "outputs": [],
   "source": [
    "# MODELO\n",
    "#modelo.randomforest.randomForest <- randomForest(Aplicativo.Baixado ~ ., \n",
    "#                                                 data = dados_treino_down_sample,  ntree = 500, nodesize = 10)      "
   ]
  },
  {
   "cell_type": "code",
   "execution_count": null,
   "metadata": {},
   "outputs": [],
   "source": [
    "# VISUALIZANDO O MODELO\n",
    "#print(modelo.randomforest.randomForest)"
   ]
  },
  {
   "cell_type": "code",
   "execution_count": null,
   "metadata": {},
   "outputs": [],
   "source": [
    "# SALVANDO O MODELO TREINADO\n",
    "#saveRDS(modelo.randomforest.randomForest, \"modelo.randomforest.randomForest.rds\")"
   ]
  },
  {
   "cell_type": "code",
   "execution_count": 91,
   "metadata": {},
   "outputs": [],
   "source": [
    "# CARREGANDO O MODELO TREINADO\n",
    "modelo.randomforest.randomForest <- readRDS(\"modelo.randomforest.randomForest.rds\")"
   ]
  },
  {
   "cell_type": "code",
   "execution_count": 92,
   "metadata": {},
   "outputs": [
    {
     "name": "stdout",
     "output_type": "stream",
     "text": [
      "\n",
      "Call:\n",
      " randomForest(formula = Aplicativo.Baixado ~ ., data = dados_treino_down_sample,      ntree = 500, nodesize = 10) \n",
      "               Type of random forest: classification\n",
      "                     Number of trees: 500\n",
      "No. of variables tried at each split: 2\n",
      "\n",
      "        OOB estimate of  error rate: 8.96%\n",
      "Confusion matrix:\n",
      "     0    1 class.error\n",
      "0 7415  342  0.04408921\n",
      "1 1048 6709  0.13510378\n"
     ]
    }
   ],
   "source": [
    "# VISUALIZANDO O MODELO\n",
    "print(modelo.randomforest.randomForest)"
   ]
  },
  {
   "cell_type": "code",
   "execution_count": 93,
   "metadata": {},
   "outputs": [],
   "source": [
    "# PREVISAO DO MODELO\n",
    "previsao.modelo.randomforest.randomForest = predict(modelo.randomforest.randomForest, dados_teste_final)"
   ]
  },
  {
   "cell_type": "code",
   "execution_count": 94,
   "metadata": {},
   "outputs": [
    {
     "data": {
      "text/plain": [
       "        Reference\n",
       "Previsto       0       1\n",
       "       0 1289151     435\n",
       "       1   57524    2890"
      ]
     },
     "metadata": {},
     "output_type": "display_data"
    }
   ],
   "source": [
    "# MATRIZ DE CONFUSÃO\n",
    "matriz_confusao8 <- table(Previsto = previsao.modelo.randomforest.randomForest,\n",
    "                          Reference = dados_teste_final$Aplicativo.Baixado)\n",
    "matriz_confusao8"
   ]
  },
  {
   "cell_type": "markdown",
   "metadata": {},
   "source": [
    "#### **MÉTRICAS  DO MODELO RANDOM FOREST randomForest**"
   ]
  },
  {
   "cell_type": "code",
   "execution_count": 95,
   "metadata": {},
   "outputs": [
    {
     "name": "stdout",
     "output_type": "stream",
     "text": [
      "Modelo Random Forest randomForest: \n",
      " \n",
      "Acuracia   = 0.9571 \n",
      "Recall     = 0.9573 \n",
      "Precisao   = 0.9997 \n",
      "F1 Score   = 0.978"
     ]
    }
   ],
   "source": [
    "metricas_class(matriz_confusao8, \"Modelo Random Forest randomForest:\")"
   ]
  },
  {
   "cell_type": "code",
   "execution_count": 96,
   "metadata": {},
   "outputs": [],
   "source": [
    "# CURVA ROC\n",
    "previsao8 <- prediction(as.numeric(previsao.modelo.randomforest.randomForest), dados_teste_final$Aplicativo.Baixado)"
   ]
  },
  {
   "cell_type": "code",
   "execution_count": 97,
   "metadata": {},
   "outputs": [
    {
     "name": "stdout",
     "output_type": "stream",
     "text": [
      "AUC = 0.9132"
     ]
    }
   ],
   "source": [
    "pred8 <- performance(previsao8,\"auc\"); \n",
    "auc8 <- round(as.numeric(pred8@y.values), 4)\n",
    "cat(\"AUC =\", auc8)"
   ]
  },
  {
   "cell_type": "code",
   "execution_count": 98,
   "metadata": {
    "scrolled": false
   },
   "outputs": [
    {
     "data": {
      "image/png": "[encoded data removed]",
      "text/plain": [
       "Plot with title \"Curva ROC\""
      ]
     },
     "metadata": {},
     "output_type": "display_data"
    },
    {
     "data": {
      "image/png": "[encoded data removed]",
      "text/plain": [
       "Plot with title \"Curva Precision/Recall\""
      ]
     },
     "metadata": {},
     "output_type": "display_data"
    }
   ],
   "source": [
    "plot.roc.curve(previsao8, title.text = \"Curva ROC\")\n",
    "plot.pr.curve(previsao8, title.text = \"Curva Precision/Recall\")"
   ]
  },
  {
   "cell_type": "code",
   "execution_count": 99,
   "metadata": {},
   "outputs": [],
   "source": [
    "# CARREGANDO FUNÇÕES  DE MÉTRICAS (acuracia, precisao, recall, f1_score) PARA SEREM USADAS A PARTIR DA MATRIZ DE CONFUSÃO\n",
    "# FUNÇÕES DE source(\"Metricas_classificacao.R\") \n",
    "\n",
    "Modelo <- c('Regressao Logistica','Naive Bayes','SVM','SVM','KNN','Decision tree','Random Forest','Random Forest')\n",
    "Pacote <- c('caret', 'e1071', 'e1071', 'kernlab', 'class', 'rpart', 'rpart', 'randomForest')\n",
    "TP <- c(matriz_confusao1[1,1], matriz_confusao2[1,1], matriz_confusao3[1,1], matriz_confusao4[1,1], matriz_confusao5[1,1],\n",
    "      matriz_confusao6[1,1], matriz_confusao7[1,1], matriz_confusao8[1,1])\n",
    "\n",
    "TN <- c(matriz_confusao1[2,2], matriz_confusao2[2,2], matriz_confusao3[2,2], matriz_confusao4[2,2], matriz_confusao5[2,2],\n",
    "      matriz_confusao6[2,2], matriz_confusao7[2,2], matriz_confusao8[2,2])\n",
    "\n",
    "FP <- c(matriz_confusao1[1,2], matriz_confusao2[1,2], matriz_confusao3[1,2], matriz_confusao4[1,2], matriz_confusao5[1,2],\n",
    "      matriz_confusao6[1,2], matriz_confusao7[1,2], matriz_confusao8[1,2])\n",
    "\n",
    "FN <- c(matriz_confusao1[2,1], matriz_confusao2[2,1], matriz_confusao3[2,1], matriz_confusao4[2,1], matriz_confusao5[2,1],\n",
    "      matriz_confusao6[2,1], matriz_confusao7[2,1], matriz_confusao8[2,1])\n",
    "\n",
    "Acuracia <- c(acuracia(matriz_confusao1), acuracia(matriz_confusao2), acuracia(matriz_confusao3), acuracia(matriz_confusao4), \n",
    "              acuracia(matriz_confusao5), acuracia(matriz_confusao6), acuracia(matriz_confusao7), acuracia(matriz_confusao8))\n",
    "\n",
    "Precisao <- c(precisao(matriz_confusao1), precisao(matriz_confusao2), precisao(matriz_confusao3), precisao(matriz_confusao4), \n",
    "              precisao(matriz_confusao5), precisao(matriz_confusao6), precisao(matriz_confusao7), precisao(matriz_confusao8))\n",
    "\n",
    "Recall <- c(recall(matriz_confusao1), recall(matriz_confusao2), recall(matriz_confusao3), recall(matriz_confusao4), \n",
    "              recall(matriz_confusao5), recall(matriz_confusao6), recall(matriz_confusao7), recall(matriz_confusao8))\n",
    "\n",
    "F1_score <- c(f1_score(matriz_confusao1), f1_score(matriz_confusao2), f1_score(matriz_confusao3), f1_score(matriz_confusao4), \n",
    "              f1_score(matriz_confusao5), f1_score(matriz_confusao6), f1_score(matriz_confusao7), f1_score(matriz_confusao8))\n",
    "\n",
    "AUC <- c(auc1, auc2, auc3, auc4, auc5, auc6, auc7, auc8)"
   ]
  },
  {
   "cell_type": "markdown",
   "metadata": {},
   "source": [
    "                               TABELA COMPARATIVA DOS RESULTADOS DOS MODELOS"
   ]
  },
  {
   "cell_type": "code",
   "execution_count": 100,
   "metadata": {},
   "outputs": [
    {
     "data": {
      "text/html": [
       "<table>\n",
       "<thead><tr><th></th><th scope=col>Modelo</th><th scope=col>Pacote</th><th scope=col>TP</th><th scope=col>TN</th><th scope=col>FP</th><th scope=col>FN</th><th scope=col>Acuracia</th><th scope=col>Precisao</th><th scope=col>Recall</th><th scope=col>F1_score</th><th scope=col>AUC</th></tr></thead>\n",
       "<tbody>\n",
       "\t<tr><th scope=row>6</th><td>Decision tree      </td><td>rpart              </td><td>1300162            </td><td>2732               </td><td> 593               </td><td> 46513             </td><td>0.9651067          </td><td>0.9995441          </td><td>0.9654609          </td><td>0.9822069          </td><td>0.8936             </td></tr>\n",
       "\t<tr><th scope=row>7</th><td>Random Forest      </td><td>rpart              </td><td>1295345            </td><td>2860               </td><td> 465               </td><td> 51330             </td><td>0.9616333          </td><td>0.9996412          </td><td>0.9618839          </td><td>0.9803991          </td><td>0.9110             </td></tr>\n",
       "\t<tr><th scope=row>8</th><td>Random Forest      </td><td>randomForest       </td><td>1289151            </td><td>2890               </td><td> 435               </td><td> 57524             </td><td>0.9570674          </td><td>0.9996627          </td><td>0.9572844          </td><td>0.9780147          </td><td>0.9132             </td></tr>\n",
       "\t<tr><th scope=row>3</th><td>SVM                </td><td>e1071              </td><td>1208028            </td><td>2478               </td><td> 847               </td><td>138647             </td><td>0.8966711          </td><td>0.9992993          </td><td>0.8970449          </td><td>0.9454153          </td><td>0.8212             </td></tr>\n",
       "\t<tr><th scope=row>2</th><td>Naive Bayes        </td><td>e1071              </td><td>1181586            </td><td>2099               </td><td>1226               </td><td>165089             </td><td>0.8768037          </td><td>0.9989635          </td><td>0.8774099          </td><td>0.9342495          </td><td>0.7543             </td></tr>\n",
       "\t<tr><th scope=row>4</th><td>SVM                </td><td>kernlab            </td><td>1102250            </td><td>2412               </td><td> 913               </td><td>244425             </td><td>0.8182681          </td><td>0.9991724          </td><td>0.8184974          </td><td>0.8998554          </td><td>0.7720             </td></tr>\n",
       "\t<tr><th scope=row>1</th><td>Regressao Logistica</td><td>caret              </td><td>1085822            </td><td>2454               </td><td> 871               </td><td>260853             </td><td>0.8061304          </td><td>0.9991985          </td><td>0.8062985          </td><td>0.8924437          </td><td>0.8439             </td></tr>\n",
       "\t<tr><th scope=row>5</th><td>KNN                </td><td>class              </td><td>1026850            </td><td>2083               </td><td>1242               </td><td>319825             </td><td>0.7621726          </td><td>0.9987919          </td><td>0.7625077          </td><td>0.8648006          </td><td>0.6945             </td></tr>\n",
       "</tbody>\n",
       "</table>\n"
      ],
      "text/latex": [
       "\\begin{tabular}{r|lllllllllll}\n",
       "  & Modelo & Pacote & TP & TN & FP & FN & Acuracia & Precisao & Recall & F1\\_score & AUC\\\\\n",
       "\\hline\n",
       "\t6 & Decision tree       & rpart               & 1300162             & 2732                &  593                &  46513              & 0.9651067           & 0.9995441           & 0.9654609           & 0.9822069           & 0.8936             \\\\\n",
       "\t7 & Random Forest       & rpart               & 1295345             & 2860                &  465                &  51330              & 0.9616333           & 0.9996412           & 0.9618839           & 0.9803991           & 0.9110             \\\\\n",
       "\t8 & Random Forest       & randomForest        & 1289151             & 2890                &  435                &  57524              & 0.9570674           & 0.9996627           & 0.9572844           & 0.9780147           & 0.9132             \\\\\n",
       "\t3 & SVM                 & e1071               & 1208028             & 2478                &  847                & 138647              & 0.8966711           & 0.9992993           & 0.8970449           & 0.9454153           & 0.8212             \\\\\n",
       "\t2 & Naive Bayes         & e1071               & 1181586             & 2099                & 1226                & 165089              & 0.8768037           & 0.9989635           & 0.8774099           & 0.9342495           & 0.7543             \\\\\n",
       "\t4 & SVM                 & kernlab             & 1102250             & 2412                &  913                & 244425              & 0.8182681           & 0.9991724           & 0.8184974           & 0.8998554           & 0.7720             \\\\\n",
       "\t1 & Regressao Logistica & caret               & 1085822             & 2454                &  871                & 260853              & 0.8061304           & 0.9991985           & 0.8062985           & 0.8924437           & 0.8439             \\\\\n",
       "\t5 & KNN                 & class               & 1026850             & 2083                & 1242                & 319825              & 0.7621726           & 0.9987919           & 0.7625077           & 0.8648006           & 0.6945             \\\\\n",
       "\\end{tabular}\n"
      ],
      "text/markdown": [
       "\n",
       "| <!--/--> | Modelo | Pacote | TP | TN | FP | FN | Acuracia | Precisao | Recall | F1_score | AUC |\n",
       "|---|---|---|---|---|---|---|---|---|---|---|---|\n",
       "| 6 | Decision tree       | rpart               | 1300162             | 2732                |  593                |  46513              | 0.9651067           | 0.9995441           | 0.9654609           | 0.9822069           | 0.8936              |\n",
       "| 7 | Random Forest       | rpart               | 1295345             | 2860                |  465                |  51330              | 0.9616333           | 0.9996412           | 0.9618839           | 0.9803991           | 0.9110              |\n",
       "| 8 | Random Forest       | randomForest        | 1289151             | 2890                |  435                |  57524              | 0.9570674           | 0.9996627           | 0.9572844           | 0.9780147           | 0.9132              |\n",
       "| 3 | SVM                 | e1071               | 1208028             | 2478                |  847                | 138647              | 0.8966711           | 0.9992993           | 0.8970449           | 0.9454153           | 0.8212              |\n",
       "| 2 | Naive Bayes         | e1071               | 1181586             | 2099                | 1226                | 165089              | 0.8768037           | 0.9989635           | 0.8774099           | 0.9342495           | 0.7543              |\n",
       "| 4 | SVM                 | kernlab             | 1102250             | 2412                |  913                | 244425              | 0.8182681           | 0.9991724           | 0.8184974           | 0.8998554           | 0.7720              |\n",
       "| 1 | Regressao Logistica | caret               | 1085822             | 2454                |  871                | 260853              | 0.8061304           | 0.9991985           | 0.8062985           | 0.8924437           | 0.8439              |\n",
       "| 5 | KNN                 | class               | 1026850             | 2083                | 1242                | 319825              | 0.7621726           | 0.9987919           | 0.7625077           | 0.8648006           | 0.6945              |\n",
       "\n"
      ],
      "text/plain": [
       "  Modelo              Pacote       TP      TN   FP   FN     Acuracia  Precisao \n",
       "6 Decision tree       rpart        1300162 2732  593  46513 0.9651067 0.9995441\n",
       "7 Random Forest       rpart        1295345 2860  465  51330 0.9616333 0.9996412\n",
       "8 Random Forest       randomForest 1289151 2890  435  57524 0.9570674 0.9996627\n",
       "3 SVM                 e1071        1208028 2478  847 138647 0.8966711 0.9992993\n",
       "2 Naive Bayes         e1071        1181586 2099 1226 165089 0.8768037 0.9989635\n",
       "4 SVM                 kernlab      1102250 2412  913 244425 0.8182681 0.9991724\n",
       "1 Regressao Logistica caret        1085822 2454  871 260853 0.8061304 0.9991985\n",
       "5 KNN                 class        1026850 2083 1242 319825 0.7621726 0.9987919\n",
       "  Recall    F1_score  AUC   \n",
       "6 0.9654609 0.9822069 0.8936\n",
       "7 0.9618839 0.9803991 0.9110\n",
       "8 0.9572844 0.9780147 0.9132\n",
       "3 0.8970449 0.9454153 0.8212\n",
       "2 0.8774099 0.9342495 0.7543\n",
       "4 0.8184974 0.8998554 0.7720\n",
       "1 0.8062985 0.8924437 0.8439\n",
       "5 0.7625077 0.8648006 0.6945"
      ]
     },
     "metadata": {},
     "output_type": "display_data"
    }
   ],
   "source": [
    "Tabela = data.frame(Modelo, Pacote, TP, TN, FP, FN,Acuracia, Precisao, Recall, F1_score, AUC)\n",
    "Tabela[order(Tabela$Acuracia, Tabela$AUC, Tabela$TP, decreasing = T),]"
   ]
  },
  {
   "cell_type": "code",
   "execution_count": null,
   "metadata": {},
   "outputs": [],
   "source": [
    "# TP = APLICATIVO NÃO FOI BAIXADO E O CLASSIFICOU COMO NÃO BAIXADO (ACERTO)\n",
    "# TN = APLICATIVO FOI BAIXADO E O MODELO CLASSIFICOU COMO BAIXADO (ACERTOU)\n",
    "# FP = APLICATIVO FOI BAIXADO E O MODELO CLASSIFICOU COMO NÃO BAIXADO (ERROU)\n",
    "# FN = APLICATIVO NÃO FOI BAIXADO E O MODELO CLASSIFICOU COMO BAIXADO (ERROU)"
   ]
  },
  {
   "cell_type": "markdown",
   "metadata": {},
   "source": [
    "A Decision Tree obteve a maior acurácia e o número de True Positivo (TP) maior que todos os outros modelos e a terceira maior AUC, com 0.89. embora a Decision Tree tenha a maior acurácia e a maior quantidade de True Positivos, os dois modelos Random Forest (7 e 8) obtiveram valores parecidos (precisão, recall e f1 score), porém com a AUC superior ao Decision Tree, com 0.91 cada. também obtiveram um número de Falsos Positivos (FP) menor.\n",
    "\n",
    "Penso que com o número de Falsos Positivos menor (FP), a empresa poderia estar colocando em sua lista negra **menos** IPs de cliques que baixaram o aplicativo, mas que foram classificados como cliques que não baixaram.\n",
    "\n",
    "\n",
    "EX. FP (aplicativo foi baixado e o modelo classificou como não baixado)\n",
    "\n",
    "Decision tree - rpart\n",
    "593/3325 = 17,83%\n",
    "\n",
    "Random Forest - rpart \n",
    "465/3325 = 13,98%\n",
    "(O modelo 7 foi o que escolhi, pois teve uma das melhores acurácias e AUC e o segundo menor FP e FN)\n",
    "\n",
    "Random Forest - randomForest \n",
    "435/3325 = 13,08%\n"
   ]
  },
  {
   "cell_type": "code",
   "execution_count": null,
   "metadata": {},
   "outputs": [],
   "source": []
  }
 ],
 "metadata": {
  "kernelspec": {
   "display_name": "R",
   "language": "R",
   "name": "ir"
  },
  "language_info": {
   "codemirror_mode": "r",
   "file_extension": ".r",
   "mimetype": "text/x-r-source",
   "name": "R",
   "pygments_lexer": "r",
   "version": "3.6.1"
  }
 },
 "nbformat": 4,
 "nbformat_minor": 4
}
