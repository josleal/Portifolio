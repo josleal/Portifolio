{
 "cells": [
  {
   "cell_type": "markdown",
   "metadata": {},
   "source": [
    "## PROJETO 02: PREVENDO DEMANDA DE ESTOQUE COM BASE EM VENDAS - EMPRESA BIMBO DO MÉXICO\n",
    "\n",
    "![<caption>](640px-Logo_Grupo_BIMBO.svg.png)\n",
    "\n",
    "O Grupo Bimbo (https://www.grupobimbo.com), se esforça para atender a demanda diária dos consumidores por produtos frescos de panificação nas prateleiras de mais de 1 milhão de lojas ao longo das suas 45.000 lojas em todo o méxico. atualmente, os cálculos diários de estoque são realizados por funcionários de vendas de entregas diretas, que devem, sozinhos, prever a necessidade de estoque dos produtos e demanda com base em suas experiências pessoais em cada loja. como alguns pães têm uma vida útil de uma semana, a margem aceitável para o erro é pequena. neste projeto de aprendizado de máquina, deve-se desenvolver um modelo para prever com precisão a demanda de estoque com base nos dados históricos de vendas. isso fará com que os consumidores dos mais de 100 produtos de panificação não fiquem olhando para as prateleiras vazias, além de reduzir o valor gasto com reembolsos para os proprietários de lojas com produtos excedentes impróprios para venda.\n",
    "\n",
    "\n",
    "#### DICIONÁRIO DE DADOS:\n",
    "\n",
    "#### File descriptions:\n",
    "\n",
    "#### producto_tabla.csv:\n",
    "\n",
    "**Producto_ID** - Produto_ID\n",
    "\n",
    "**NombreProducto**- Nome_Produto\n",
    "\n",
    "#### cliente_tabla.csv:\n",
    "\n",
    "**Cliente_ID** - Cliente_ID\n",
    "\n",
    "**NombreCliente** - Nome_Cliente\n",
    "\n",
    "#### state_state.csv\n",
    "\n",
    "**Agencia_ID** - Agencia_ID\n",
    "\n",
    "**Town** - Cidade\n",
    "\n",
    "**State** - Estado\n",
    "    \n",
    "\n",
    "#### train.csv:\n",
    "   \n",
    "\n",
    "**Semana** - Semana\n",
    "\n",
    "**Agencia_ID** - Deposito_ID\n",
    "\n",
    "**Canal_ID** - Canal.Venda\n",
    "\n",
    "**Ruta_SAK** - Rota_ID\n",
    "\n",
    "**Cliente_ID** - Cliente_ID\n",
    "\n",
    "**Producto_ID** - Produto_ID\n",
    "\n",
    "**Venta_uni_hoy** - Venda.Unidade\n",
    "\n",
    "**Venta_hoy** - Venda.Peso\n",
    "\n",
    "**Dev_uni_proxima** - Retorno.Unidade\n",
    "\n",
    "**Dev_proxima** - Retorno.Peso\n",
    "\n",
    "**Demanda_uni_equil** - Demanda.Ajustada (variável Target)\n"
   ]
  },
  {
   "cell_type": "markdown",
   "metadata": {},
   "source": [
    "#### **DIRETÓRIO DE TRABALHO E CARREGAMENTO DE BIBLIOTECAS**"
   ]
  },
  {
   "cell_type": "code",
   "execution_count": 1,
   "metadata": {},
   "outputs": [
    {
     "data": {
      "text/html": [
       "'C:/FCD/DataScienceAcademy/BigDataRAzure/Projeto2'"
      ],
      "text/latex": [
       "'C:/FCD/DataScienceAcademy/BigDataRAzure/Projeto2'"
      ],
      "text/markdown": [
       "'C:/FCD/DataScienceAcademy/BigDataRAzure/Projeto2'"
      ],
      "text/plain": [
       "[1] \"C:/FCD/DataScienceAcademy/BigDataRAzure/Projeto2\""
      ]
     },
     "metadata": {},
     "output_type": "display_data"
    }
   ],
   "source": [
    "# DIRETÓRIO DE TRABALHO\n",
    "setwd(\"C:/FCD/DataScienceAcademy/BigDataRAzure/Projeto2\")\n",
    "getwd()"
   ]
  },
  {
   "cell_type": "code",
   "execution_count": 2,
   "metadata": {},
   "outputs": [],
   "source": [
    "# DESATIVAR MENSAGENS DE WARNINGS (warn = -1) E ATIVAR (warn = 0)\n",
    "options(warn = -1)\n",
    "# DESATIVA NOTAÇÃO CIENTÍFICA\n",
    "options(scipen = 999)\n",
    "# PARA TAMANHO DOS GRÁFICOS\n",
    "options(jupyter.plot_scale = 1)"
   ]
  },
  {
   "cell_type": "code",
   "execution_count": 3,
   "metadata": {},
   "outputs": [],
   "source": [
    "# CARREGANDO BIBLIOTECAS \n",
    "suppressPackageStartupMessages({library(dplyr)\n",
    "library(data.table)\n",
    "library(tibble)\n",
    "library(readr)\n",
    "library(tidyr)\n",
    "library(stringr)\n",
    "library(ggplot2)\n",
    "library(gridExtra)\n",
    "library(plotly)\n",
    "library(htmlwidgets)})"
   ]
  },
  {
   "cell_type": "markdown",
   "metadata": {},
   "source": [
    "### **1 - PRÉ-PROCESSAMENTO DE DADOS**"
   ]
  },
  {
   "cell_type": "markdown",
   "metadata": {},
   "source": [
    "### **train.csv**"
   ]
  },
  {
   "cell_type": "code",
   "execution_count": null,
   "metadata": {},
   "outputs": [],
   "source": [
    "# CARREGANDO train_csv\n",
    "#train_csv <- fread('train.csv', encoding = \"UTF-8\"); glimpse(train_csv)"
   ]
  },
  {
   "cell_type": "code",
   "execution_count": null,
   "metadata": {},
   "outputs": [],
   "source": [
    "# RENOMEANDO O DATSET\n",
    "#names(train_csv) <- c(\"Semana\", \"Deposito_ID\", \"Canal.Venda\", \"Rota_ID\", \"Cliente_ID\", \"Produto_ID\", \"Venda.Unidade\", \n",
    "#                         \"Venda.Peso\", \"Retorno.Unidade\", \"Retorno.Peso\", \"Demanda.Ajustada\")"
   ]
  },
  {
   "cell_type": "markdown",
   "metadata": {},
   "source": [
    "REDUÇÃO DO DATASET PARA 840.000 MIL OBSERVAÇÕES. UTILIZEI A FUNÇÃO sample_n()  PARA COLETAR 120.000 MIL OBSERVAÇÕES ALEATÓRIAS DE CADA SEMANA."
   ]
  },
  {
   "cell_type": "code",
   "execution_count": null,
   "metadata": {},
   "outputs": [],
   "source": [
    "# COLETANDO AMOSTRAS DAS SEMANAS\n",
    "#amostras.semanas <- c(3:9)\n",
    "#df_bimbo <- data.frame()\n",
    "#for (a in amostras.semanas) {\n",
    "#  df_a = filter(train_csv, Semana == a)\n",
    "#  df_a = sample_n(df_a, size = 120000)\n",
    "  \n",
    "#  amostra = data.frame(df_a)\n",
    "#  df_bimbo = rbind(df_bimbo, amostra)\n",
    "#}; glimpse(df_bimbo)"
   ]
  },
  {
   "cell_type": "code",
   "execution_count": null,
   "metadata": {},
   "outputs": [],
   "source": [
    "# 1 - VERIFICANDO SE O DATASET POSSUI VALORES NA\n",
    "#any(is.na(df_bimbo))"
   ]
  },
  {
   "cell_type": "code",
   "execution_count": null,
   "metadata": {},
   "outputs": [],
   "source": [
    "# 2 - EXISTE VALOR MENOR QUE ZERO EM Retorno.Unidade e Demanda.Ajustada?\n",
    "#any(df_bimbo$Retorno.Unidade < 0)\n",
    "#any(df_bimbo$Demanda.Ajustada < 0)"
   ]
  },
  {
   "cell_type": "code",
   "execution_count": null,
   "metadata": {},
   "outputs": [],
   "source": [
    "# 3 - SALVANDO ARQUIVO \n",
    "#write_csv(df_bimbo,'df_bimbo.csv')"
   ]
  },
  {
   "cell_type": "markdown",
   "metadata": {},
   "source": [
    "### **producto_tabla.csv**"
   ]
  },
  {
   "cell_type": "code",
   "execution_count": null,
   "metadata": {},
   "outputs": [],
   "source": [
    "# CARREGANDO O DATASET\n",
    "#producto_tabla_csv <- fread('producto_tabla.csv', encoding = \"UTF-8\"); glimpse(producto_tabla_csv)"
   ]
  },
  {
   "cell_type": "code",
   "execution_count": null,
   "metadata": {},
   "outputs": [],
   "source": [
    "# RENOMEANDO O DATSET\n",
    "#names(producto_tabla_csv) <- c(\"Produto_ID\", \"Nome_Produto\")"
   ]
  },
  {
   "cell_type": "code",
   "execution_count": null,
   "metadata": {},
   "outputs": [],
   "source": [
    "# FUNÇÃO PARA REMOVER ACENTOS E FUNÇÃO PARA REMOVER ACENTOS E NÚMEROS\n",
    "#remove_acentos <- function(coluna){\n",
    "#    string_com_acento <- \"áàãâäÀÁÃÂÄéèêëÉÈÊËíìïÍÌÏóòõôöÓÒÕÔÖúùüÚÙÜñÑ,\"\n",
    "#    string_sem_acento <- \"aaaaaAAAAAeeeeEEEEiiiIIIoooooOOOOOuuuUUUnN \"\n",
    "#    string_final <- chartr(\n",
    "#        old = string_com_acento,\n",
    "#        new = string_sem_acento,\n",
    "#        x = coluna)\n",
    "#}"
   ]
  },
  {
   "cell_type": "code",
   "execution_count": null,
   "metadata": {},
   "outputs": [],
   "source": [
    "# REMOVENDO ACENTOS\n",
    "#producto_tabla_csv[,2] <- remove_acentos(producto_tabla_csv$Nome_Produto)"
   ]
  },
  {
   "cell_type": "code",
   "execution_count": null,
   "metadata": {},
   "outputs": [],
   "source": [
    "#head(producto_tabla_csv)"
   ]
  },
  {
   "cell_type": "code",
   "execution_count": null,
   "metadata": {},
   "outputs": [],
   "source": [
    "#write_csv(producto_tabla_csv, \"df_produto.csv\")"
   ]
  },
  {
   "cell_type": "markdown",
   "metadata": {},
   "source": [
    "### **cliente_tabla.csv**"
   ]
  },
  {
   "cell_type": "code",
   "execution_count": null,
   "metadata": {},
   "outputs": [],
   "source": [
    "# CARREGANDO O DATASET\n",
    "#cliente_tabla_csv <- fread('cliente_tabla.csv', encoding = \"UTF-8\"); glimpse(cliente_tabla_csv)"
   ]
  },
  {
   "cell_type": "code",
   "execution_count": null,
   "metadata": {},
   "outputs": [],
   "source": [
    "# RENOMEANDO O DATSET\n",
    "#names(cliente_tabla_csv) <- c(\"Cliente_ID\", \"Nome_Cliente\")"
   ]
  },
  {
   "cell_type": "code",
   "execution_count": null,
   "metadata": {},
   "outputs": [],
   "source": [
    "# REMOVENDO ACENTOS\n",
    "#cliente_tabla_csv[,2] <- remove_acentos(cliente_tabla_csv$Nome_Cliente)"
   ]
  },
  {
   "cell_type": "code",
   "execution_count": null,
   "metadata": {},
   "outputs": [],
   "source": [
    "#head(cliente_tabla_csv)"
   ]
  },
  {
   "cell_type": "code",
   "execution_count": null,
   "metadata": {},
   "outputs": [],
   "source": [
    "#write_csv(cliente_tabla_csv, \"df_cliente.csv\")"
   ]
  },
  {
   "cell_type": "markdown",
   "metadata": {},
   "source": [
    "### **town_state.csv**"
   ]
  },
  {
   "cell_type": "code",
   "execution_count": null,
   "metadata": {},
   "outputs": [],
   "source": [
    "# CARREGANDO O DATASET\n",
    "#town_state_csv <- fread('town_state.csv', encoding = \"UTF-8\")\n",
    "#glimpse(town_state_csv)"
   ]
  },
  {
   "cell_type": "code",
   "execution_count": null,
   "metadata": {},
   "outputs": [],
   "source": [
    "# RENOMEANDO O DATSET\n",
    "#names(town_state_csv) <- c(\"Deposito_ID\", \"Cidade\", \"Estado\")"
   ]
  },
  {
   "cell_type": "code",
   "execution_count": null,
   "metadata": {},
   "outputs": [],
   "source": [
    "# REMOVENDO ACENTOS E PADRÕES\n",
    "#town_state_csv[,2] <- remove_acentos(town_state_csv$Cidade)\n",
    "#town_state_csv[,3] <- remove_acentos(town_state_csv$Estado)"
   ]
  },
  {
   "cell_type": "code",
   "execution_count": null,
   "metadata": {},
   "outputs": [],
   "source": [
    "#head(town_state_csv)"
   ]
  },
  {
   "cell_type": "code",
   "execution_count": null,
   "metadata": {},
   "outputs": [],
   "source": [
    "#glimpse(town_state_csv)"
   ]
  },
  {
   "cell_type": "code",
   "execution_count": null,
   "metadata": {},
   "outputs": [],
   "source": [
    "#write_csv(town_state_csv, \"df_estado.csv\")"
   ]
  },
  {
   "cell_type": "markdown",
   "metadata": {},
   "source": [
    "#### **CARREGANDO DATASETS**"
   ]
  },
  {
   "cell_type": "code",
   "execution_count": 4,
   "metadata": {},
   "outputs": [
    {
     "name": "stdout",
     "output_type": "stream",
     "text": [
      "Observations: 840,000\n",
      "Variables: 11\n",
      "$ Semana           <int> 3, 3, 3, 3, 3, 3, 3, 3, 3, 3, 3, 3, 3, 3, 3, 3, 3,...\n",
      "$ Deposito_ID      <int> 2017, 4010, 1462, 1123, 1140, 2234, 1224, 1119, 12...\n",
      "$ Canal.Venda      <int> 1, 1, 1, 1, 1, 1, 1, 1, 1, 1, 1, 1, 1, 1, 1, 1, 1,...\n",
      "$ Rota_ID          <int> 2810, 2010, 1106, 1454, 2851, 2101, 2169, 1456, 16...\n",
      "$ Cliente_ID       <int> 7724006, 1823383, 126026, 4661467, 4588482, 141676...\n",
      "$ Produto_ID       <int> 30575, 31471, 43206, 1278, 30575, 31309, 30575, 12...\n",
      "$ Venda.Unidade    <int> 3, 4, 33, 20, 5, 8, 4, 4, 6, 5, 3, 1, 3, 9, 4, 3, ...\n",
      "$ Venda.Peso       <dbl> 18.75, 39.96, 148.50, 90.00, 31.25, 50.00, 25.00, ...\n",
      "$ Retorno.Unidade  <int> 0, 0, 0, 0, 0, 0, 0, 0, 0, 0, 0, 0, 0, 2, 0, 0, 0,...\n",
      "$ Retorno.Peso     <dbl> 0.00, 0.00, 0.00, 0.00, 0.00, 0.00, 0.00, 0.00, 0....\n",
      "$ Demanda.Ajustada <int> 3, 4, 33, 20, 5, 8, 4, 4, 6, 5, 3, 1, 3, 7, 4, 3, ...\n"
     ]
    }
   ],
   "source": [
    "# CARREGANDO O DATASET DA AMOSTRA DE 840000 DE OBSERVAÇÕES - df_bimbo \n",
    "df_bimbo <- fread('df_bimbo.csv', encoding = \"UTF-8\"); glimpse(df_bimbo)"
   ]
  },
  {
   "cell_type": "code",
   "execution_count": 5,
   "metadata": {},
   "outputs": [
    {
     "name": "stdout",
     "output_type": "stream",
     "text": [
      "Observations: 2,592\n",
      "Variables: 2\n",
      "$ Produto_ID   <int> 0, 9, 41, 53, 72, 73, 98, 99, 100, 106, 107, 108, 109,...\n",
      "$ Nome_Produto <chr> \"NO IDENTIFICADO 0\", \"Capuccino Moka 750g NES 9\", \"Bim...\n"
     ]
    }
   ],
   "source": [
    "# CARREGANDO df_produto\n",
    "df_produto <- fread('df_produto.csv', encoding = \"UTF-8\"); glimpse(df_produto)"
   ]
  },
  {
   "cell_type": "code",
   "execution_count": 6,
   "metadata": {},
   "outputs": [
    {
     "name": "stdout",
     "output_type": "stream",
     "text": [
      "Observations: 935,362\n",
      "Variables: 2\n",
      "$ Cliente_ID   <int> 0, 1, 2, 3, 4, 4, 5, 6, 7, 8, 9, 10, 11, 12, 13, 14, 1...\n",
      "$ Nome_Cliente <chr> \"SIN NOMBRE\", \"OXXO XINANTECATL\", \"SIN NOMBRE\", \"EL MO...\n"
     ]
    }
   ],
   "source": [
    "# CARREGANDO df_cliente\n",
    "df_cliente <- fread('df_cliente.csv', encoding = \"UTF-8\"); glimpse(df_cliente)"
   ]
  },
  {
   "cell_type": "code",
   "execution_count": 7,
   "metadata": {},
   "outputs": [
    {
     "name": "stdout",
     "output_type": "stream",
     "text": [
      "Observations: 790\n",
      "Variables: 3\n",
      "$ Deposito_ID <int> 1110, 1111, 1112, 1113, 1114, 1116, 1117, 1118, 1119, 1...\n",
      "$ Cidade      <chr> \"2008 AG. LAGO FILT\", \"2002 AG. AZCAPOTZALCO\", \"2004 AG...\n",
      "$ Estado      <chr> \"MEXICO  D.F.\", \"MEXICO  D.F.\", \"ESTADO DE MEXICO\", \"ME...\n"
     ]
    }
   ],
   "source": [
    "# CARREGANDO df_estado\n",
    "df_estado <- fread('df_estado.csv', encoding = \"UTF-8\"); glimpse(df_estado)"
   ]
  },
  {
   "cell_type": "markdown",
   "metadata": {},
   "source": [
    "#### **AGRUPAMENTO POR PRODUTO**"
   ]
  },
  {
   "cell_type": "code",
   "execution_count": 8,
   "metadata": {},
   "outputs": [
    {
     "name": "stdout",
     "output_type": "stream",
     "text": [
      "Observations: 1,284\n",
      "Variables: 8\n",
      "$ Produto_ID                  <int> 41, 53, 72, 73, 106, 107, 123, 131, 132...\n",
      "$ Nome_Produto                <chr> \"Bimbollos Ext sAjonjoli 6p 480g BIM 41...\n",
      "$ Venda.Unidade.Total         <int> 3156, 853, 8351, 8336, 104, 95, 1746, 5...\n",
      "$ Retorno.Unidade.Total       <int> 0, 0, 148, 172, 4, 0, 5, 0, 0, 0, 0, 14...\n",
      "$ Demanda.Ajustada.Total      <int> 3156, 853, 8260, 8178, 100, 95, 1741, 5...\n",
      "$ Venda.Peso.Total            <dbl> 57218.28, 12197.90, 30699.98, 179202.35...\n",
      "$ Retorno.Peso.Total          <dbl> 0.00, 0.00, 547.60, 3665.15, 76.36, 0.0...\n",
      "$ Retorno.Peso_por_Venda.Peso <dbl> 0.00, 0.00, 1.78, 2.05, 3.84, 0.00, 0.2...\n"
     ]
    }
   ],
   "source": [
    "# PRODUTOS COM MAIOR VENDA EM PESOS E UNIDADES\n",
    "produto <- df_bimbo %>%\n",
    "  group_by(Produto_ID) %>%\n",
    "  summarise(Venda.Unidade.Total = sum(Venda.Unidade),\n",
    "            Retorno.Unidade.Total = sum(Retorno.Unidade),\n",
    "            Demanda.Ajustada.Total = sum(Demanda.Ajustada),\n",
    "            Venda.Peso.Total = sum(Venda.Peso),\n",
    "            Retorno.Peso.Total = sum(Retorno.Peso)) %>%\n",
    "  inner_join(df_produto, by = 'Produto_ID') %>%\n",
    "  select(Produto_ID, Nome_Produto, everything())\n",
    "\n",
    "produto <- produto %>%\n",
    "  mutate(Retorno.Peso_por_Venda.Peso = round(Retorno.Peso.Total/Venda.Peso.Total*100,2)); glimpse(produto)\n",
    "produto <- produto[order(produto$Venda.Peso.Total, decreasing = T),]"
   ]
  },
  {
   "cell_type": "code",
   "execution_count": 9,
   "metadata": {},
   "outputs": [
    {
     "data": {
      "text/html": [
       "<table>\n",
       "<thead><tr><th scope=col>Retorno.Unidade.Total</th><th scope=col>Venda.Peso.Total</th></tr></thead>\n",
       "<tbody>\n",
       "\t<tr><td>0.8093</td><td>0.8819</td></tr>\n",
       "</tbody>\n",
       "</table>\n"
      ],
      "text/latex": [
       "\\begin{tabular}{ll}\n",
       " Retorno.Unidade.Total & Venda.Peso.Total\\\\\n",
       "\\hline\n",
       "\t 0.8093 & 0.8819\\\\\n",
       "\\end{tabular}\n"
      ],
      "text/markdown": [
       "\n",
       "| Retorno.Unidade.Total | Venda.Peso.Total |\n",
       "|---|---|\n",
       "| 0.8093 | 0.8819 |\n",
       "\n"
      ],
      "text/plain": [
       "     Retorno.Unidade.Total Venda.Peso.Total\n",
       "[1,] 0.8093                0.8819          "
      ]
     },
     "metadata": {},
     "output_type": "display_data"
    }
   ],
   "source": [
    "# CORRELAÇÃO DA VARIÁVEL Retorno.Peso.Total COM Venda.Peso.Total, Retorno.Unidade.Total.\n",
    "round(cor(produto$Retorno.Peso.Total, produto[c(4,6)]),4)"
   ]
  },
  {
   "cell_type": "code",
   "execution_count": 10,
   "metadata": {},
   "outputs": [
    {
     "data": {
      "image/png": "[encoded data removed]",
      "text/plain": [
       "plot without title"
      ]
     },
     "metadata": {},
     "output_type": "display_data"
    },
    {
     "data": {
      "image/png": "[encoded data removed]",
      "text/plain": [
       "plot without title"
      ]
     },
     "metadata": {},
     "output_type": "display_data"
    }
   ],
   "source": [
    "g0 <- ggplot(produto, aes(x = Venda.Peso.Total, y = Retorno.Peso.Total)) +\n",
    "geom_point() + \n",
    "labs(x = 'Venda total (Pesos)', y = 'Retorno total (Pesos)', title = 'Correlação entre retorno total em pesos e \n",
    "venda total em pesos') +\n",
    "theme(text = element_text(size = 9)) \n",
    "\n",
    "g1 <- ggplot(produto, aes(x = Retorno.Unidade.Total, y = Retorno.Peso.Total)) +\n",
    "geom_point() + \n",
    "labs(x = 'Retorno total (Unidades)', y = 'Retorno total (Pesos)', title = 'Correlação entre retorno total em pesos \n",
    "e retorno total de unidades') +\n",
    "theme(text = element_text(size = 9)) \n",
    "\n",
    "options(repr.plot.width = 5, repr.plot.height = 5)\n",
    "g0; g1"
   ]
  },
  {
   "cell_type": "markdown",
   "metadata": {},
   "source": [
    "Existe uma correlação forte positiva de vendas totais em pesos e retorno total em unidades com retorno total em pesos. Porém há exceções à essa relação."
   ]
  },
  {
   "cell_type": "code",
   "execution_count": 11,
   "metadata": {},
   "outputs": [],
   "source": [
    "# 50 PRODUTOS COM MAIS VENDA EM PESOS (Venda.Peso.Total)\n",
    "produtos.maior.venda.peso <- produto[order(produto$Venda.Peso.Total, decreasing = T),]"
   ]
  },
  {
   "cell_type": "code",
   "execution_count": 12,
   "metadata": {},
   "outputs": [
    {
     "data": {
      "image/png": "[encoded data removed]",
      "text/plain": [
       "plot without title"
      ]
     },
     "metadata": {},
     "output_type": "display_data"
    }
   ],
   "source": [
    "# GRÁFICO DOS 50 PRODUTOS DE MAIOR VENDA EM PESOS (Venda.Peso.Total) \n",
    "g3 <- ggplot(produtos.maior.venda.peso[1:50,], aes(x = reorder(Nome_Produto,Venda.Peso.Total), \n",
    "   y = Venda.Peso.Total), ) +\n",
    "   geom_bar(stat = \"identity\") + labs(x = 'Produtos', y = 'Venda total (peso)', title = 'Os 50 produtos de maior \n",
    "   venda em pesos') +\n",
    "   theme(text = element_text(size = 10)) +\n",
    "   coord_flip()\n",
    "options(repr.plot.width = 7, repr.plot.height = 7)\n",
    "g3"
   ]
  },
  {
   "cell_type": "markdown",
   "metadata": {},
   "source": [
    "                                             10 MELHORES COLOCADOS - VENDAS EM PESOS\n",
    "\n",
    "  Produto                                            |  Pesos                          \n",
    ":----------------------------------------------------|:---------:                \n",
    "**1º Pan Blanco 640g BIM 2233**                      |2494290.0\n",
    "**2º Pan Integral 675g BIM 1146**                    |1539084.7 \n",
    "**3º Nito 1p 62g Central BIM 2425**                  |1209132.0\n",
    "**4º Mantecadas Vainilla 4p 125g BIM 1240**          |1165008.5  \n",
    "**5º Donas Azucar 4p 105g BIM 1250**                 |1065947.2 \n",
    "**6º Medias Noches 8p 340g BIM 1150**                |1030790.6 \n",
    "**7º Nito 1p 62g BIM 1278**                          |1012922.2 \n",
    "**8º Donitas Espolvoreadas 6p 105g BIM 1242**        |922298.4\n",
    "**9º Gansito 1p 50g MTB MLA 43285**                  |911750.1 \n",
    "**10º Tortillinas 10p 255g TR 1125**                 |901665.6 "
   ]
  },
  {
   "cell_type": "code",
   "execution_count": 13,
   "metadata": {},
   "outputs": [],
   "source": [
    "# 50 PRODUTOS DE MAIOR RETORNO EM PESOS (Retorno.Peso.Total) - REEMBOLSO\n",
    "produtos.maior.retorno.peso <- produto[order(produto$Retorno.Peso.Total, decreasing = T),]"
   ]
  },
  {
   "cell_type": "code",
   "execution_count": 14,
   "metadata": {},
   "outputs": [
    {
     "data": {
      "image/png": "[encoded data removed]",
      "text/plain": [
       "plot without title"
      ]
     },
     "metadata": {},
     "output_type": "display_data"
    }
   ],
   "source": [
    "# GRÁFICO DOS 50 PRODUTOS DE MAIOR REEMBOLSO (Retorno.Peso.Total) \n",
    "g4 <- ggplot(produtos.maior.retorno.peso[1:50,], aes(x = reorder(Nome_Produto,Retorno.Peso.Total), \n",
    "   y = Retorno.Peso.Total), ) +\n",
    "   geom_bar(stat = \"identity\") + labs(x = 'Produtos', y = 'Retorno total (peso)', title = 'Os 50 produtos de maior \n",
    "   retorno em pesos') +\n",
    "   theme(text = element_text(size = 10)) +\n",
    "   coord_flip()\n",
    "options(repr.plot.width = 7, repr.plot.height = 7)\n",
    "g4"
   ]
  },
  {
   "cell_type": "markdown",
   "metadata": {},
   "source": [
    "                                            10 QUE MAIS RETORNAM EM PESOS (REEMBOLSO)    \n",
    "\n",
    "  Produto                                            |  Pesos                          \n",
    ":----------------------------------------------------|:---------:                \n",
    "**1º Pan Blanco 640g BIM 2233**                      | 48735.84\n",
    "**2º Tostado 210g CU BIM 1182**                      | 24052.74 \n",
    "**3º Panque Nuez 255g BIM 1232**                     | 22922.03 \n",
    "**4º Tortillinas 10p 255g TR 1125**                  | 20880.00 \n",
    "**5º Mantecadas Vainilla 4p 125g BIM 1240**          | 20230.78 \n",
    "**6º Madalenas 3p 93g BIM 35651**                    | 18952.50 \n",
    "**7º Pan Integral 675g BIM 1146**                    | 17818.62 \n",
    "**8º Donas Azucar 4p 105g BIM 1250**                 | 17596.26\n",
    "**9º Kranky Barra Choc Arroz Inflado 38g RIC 34389** | 16242.04 \n",
    "**10º Pan Blanco 680g TNB BIM 34865**                | 14825.32 "
   ]
  },
  {
   "cell_type": "markdown",
   "metadata": {},
   "source": [
    "O Pan Blanco 640g BIM 2233 é o que mais vende em pesos e também é o que mais retorna em pesos. Mesmo sendo o que mais retorna em pesos, com base nos dados, é o mais lucrativo."
   ]
  },
  {
   "cell_type": "code",
   "execution_count": 15,
   "metadata": {},
   "outputs": [
    {
     "data": {
      "text/html": [
       "<table>\n",
       "<thead><tr><th scope=col>Retorno.Unidade.Total</th><th scope=col>Venda.Peso.Total</th></tr></thead>\n",
       "<tbody>\n",
       "\t<tr><td>0.8093</td><td>0.8819</td></tr>\n",
       "</tbody>\n",
       "</table>\n"
      ],
      "text/latex": [
       "\\begin{tabular}{ll}\n",
       " Retorno.Unidade.Total & Venda.Peso.Total\\\\\n",
       "\\hline\n",
       "\t 0.8093 & 0.8819\\\\\n",
       "\\end{tabular}\n"
      ],
      "text/markdown": [
       "\n",
       "| Retorno.Unidade.Total | Venda.Peso.Total |\n",
       "|---|---|\n",
       "| 0.8093 | 0.8819 |\n",
       "\n"
      ],
      "text/plain": [
       "     Retorno.Unidade.Total Venda.Peso.Total\n",
       "[1,] 0.8093                0.8819          "
      ]
     },
     "metadata": {},
     "output_type": "display_data"
    }
   ],
   "source": [
    "# CORRELAÇÃO DA VARIÁVEL Retorno.Unidade.Total COM Venda.Unidade.Total\n",
    "round(cor(produto$Retorno.Peso.Total, produto[c(4,6)]),4)"
   ]
  },
  {
   "cell_type": "code",
   "execution_count": 16,
   "metadata": {},
   "outputs": [
    {
     "data": {
      "image/png": "[encoded data removed]",
      "text/plain": [
       "plot without title"
      ]
     },
     "metadata": {},
     "output_type": "display_data"
    }
   ],
   "source": [
    "g5 <- ggplot(produto, aes(x = Venda.Unidade.Total, y = Retorno.Unidade.Total)) +\n",
    "geom_point() + \n",
    "labs(x = 'Venda total (Unidade)', y = 'Retorno total (Unidades)', title = 'Correlação entre retorno total de unidades e \n",
    "venda total de unidades') +\n",
    "theme(text = element_text(size = 9)) \n",
    "options(repr.plot.width = 5, repr.plot.height = 5)\n",
    "g5"
   ]
  },
  {
   "cell_type": "markdown",
   "metadata": {},
   "source": [
    "Existe uma correlação forte positiva de vendas totais de unidades  com retorno total de unidades. A partir do gráfico de dispersão, percebe-se que com aumento da venda total de unidades, o retorno total de unidades aumenta. Porém também existem valores que não possuem essa relação."
   ]
  },
  {
   "cell_type": "code",
   "execution_count": 17,
   "metadata": {},
   "outputs": [
    {
     "data": {
      "image/png": "[encoded data removed]",
      "text/plain": [
       "plot without title"
      ]
     },
     "metadata": {},
     "output_type": "display_data"
    }
   ],
   "source": [
    "# GRÁFICO 50 PRODUTOS DE MAIOR VENDA (Venda.Unidade.Total) \n",
    "g6 <- ggplot(produto[1:50,], aes(x = reorder(Nome_Produto, Venda.Unidade.Total), y = Venda.Unidade.Total)) +\n",
    "   geom_bar(stat = \"identity\") + \n",
    "   labs(x = 'Produtos', y = 'Venda total (unidades)', title = 'Os 50 produtos de maior venda de unidades') +\n",
    "   theme(text = element_text(size = 10)) +\n",
    "   coord_flip()\n",
    "options(repr.plot.width = 7, repr.plot.height = 7)\n",
    "g6"
   ]
  },
  {
   "cell_type": "markdown",
   "metadata": {},
   "source": [
    "O  Nito 1p 62g Central BIM 2425, que é o 3º que mais vende em pesos, é o primeiro colocado em venda de unidades. O Pan Blanco 640g BIM 2233, o que mais vende em pesos ocupa a 7º colocação em venda de unidades."
   ]
  },
  {
   "cell_type": "code",
   "execution_count": 18,
   "metadata": {},
   "outputs": [],
   "source": [
    "# 50 PRODUTOS DE MAIOR RETORNO DE UNIDADES (Retorno.Unidade.Total) \n",
    "produtos.maior.retorno.unidade <- produto[order(produto$Retorno.Unidade.Total, decreasing = T),]"
   ]
  },
  {
   "cell_type": "code",
   "execution_count": 19,
   "metadata": {},
   "outputs": [
    {
     "data": {
      "image/png": "[encoded data removed]",
      "text/plain": [
       "plot without title"
      ]
     },
     "metadata": {},
     "output_type": "display_data"
    }
   ],
   "source": [
    "# GRÁFICO DOS 50 PRODUTOS DE MAIOR RETORNO DE UNIDADES (Retorno.Unidade.Total) \n",
    "g7 <- ggplot(produtos.maior.retorno.unidade[1:50,], aes(x = reorder(Nome_Produto,Retorno.Unidade.Total), \n",
    "   y = Retorno.Unidade.Total), ) +\n",
    "   geom_bar(stat = \"identity\") + labs(x = 'Produtos', y = 'Retorno total (unidades)', title = 'Os 50 produtos de maior \n",
    "   retorno de unidades') +\n",
    "   theme(text = element_text(size = 10)) +\n",
    "   coord_flip()\n",
    "options(repr.plot.width = 7, repr.plot.height = 7)\n",
    "g7"
   ]
  },
  {
   "cell_type": "markdown",
   "metadata": {},
   "source": [
    "O Bolsa Mini Rocko 40p 13g CU MLA 36610 apresenta o maior número de unidades retornadas. Mesmo existindo uma correlação forte entre retorno de unidades e vendas de unidades, esse produto não segue o padrão. Em unidades vendidas o  Bolsa Mini Rocko 40p 13g CU MLA 36610 não está nem entre os 50 maiores mais vendidos. O Nito 1p 62g Central BIM 2425, que é o produto mais vendido e o 3º em vendas em pesos, aparece em 12º lugar no ranking de retorno de unidades."
   ]
  },
  {
   "cell_type": "markdown",
   "metadata": {},
   "source": [
    "#### **ANALISANDO O PERCENTUAL DE REEMBOLSO DOS 50 PRODUTOS COM MAIS VENDA EM PESOS**"
   ]
  },
  {
   "cell_type": "code",
   "execution_count": 20,
   "metadata": {},
   "outputs": [],
   "source": [
    "# PERCENTUAL DE REEMBOLSO - RETORNO EM PESOS POR VENDA EM PESOS (Retorno.Peso_por_Venda.Peso) DOS 50 MAIORES EM VENDAS EM PESOS \n",
    "maior.venda.peso.50 <- produtos.maior.venda.peso[1:50,]\n",
    "percentual.retorno.50.maiores.venda.peso <- maior.venda.peso.50[order(maior.venda.peso.50$Retorno.Peso_por_Venda.Peso, \n",
    "                                                                      decreasing=F),]"
   ]
  },
  {
   "cell_type": "code",
   "execution_count": 21,
   "metadata": {},
   "outputs": [
    {
     "data": {
      "text/html": [
       "<table>\n",
       "<thead><tr><th scope=col>Nome_Produto</th><th scope=col>Reembolso.Percentual</th></tr></thead>\n",
       "<tbody>\n",
       "\t<tr><td>Pan Integral 680g BIM 1145</td><td>0.13                      </td></tr>\n",
       "\t<tr><td>Pan Blanco 680g BIM 1120  </td><td>0.36                      </td></tr>\n",
       "\t<tr><td>Rebanada 2p 55g BIM 1284  </td><td>0.58                      </td></tr>\n",
       "</tbody>\n",
       "</table>\n"
      ],
      "text/latex": [
       "\\begin{tabular}{r|ll}\n",
       " Nome\\_Produto & Reembolso.Percentual\\\\\n",
       "\\hline\n",
       "\t Pan Integral 680g BIM 1145 & 0.13                      \\\\\n",
       "\t Pan Blanco 680g BIM 1120   & 0.36                      \\\\\n",
       "\t Rebanada 2p 55g BIM 1284   & 0.58                      \\\\\n",
       "\\end{tabular}\n"
      ],
      "text/markdown": [
       "\n",
       "| Nome_Produto | Reembolso.Percentual |\n",
       "|---|---|\n",
       "| Pan Integral 680g BIM 1145 | 0.13                       |\n",
       "| Pan Blanco 680g BIM 1120   | 0.36                       |\n",
       "| Rebanada 2p 55g BIM 1284   | 0.58                       |\n",
       "\n"
      ],
      "text/plain": [
       "  Nome_Produto               Reembolso.Percentual\n",
       "1 Pan Integral 680g BIM 1145 0.13                \n",
       "2 Pan Blanco 680g BIM 1120   0.36                \n",
       "3 Rebanada 2p 55g BIM 1284   0.58                "
      ]
     },
     "metadata": {},
     "output_type": "display_data"
    }
   ],
   "source": [
    "# SEPARANDO OS DADOS DE Retorno.Peso_por_Venda.Peso PARA ANALISAR A O PERCENTUAL DE REEMBOLSO DOS 50 PRODUTOS COM MAIS\n",
    "# VENDAS EM PESOS\n",
    "dados <- data.frame(percentual.retorno.50.maiores.venda.peso$Nome_Produto, \n",
    "                    percentual.retorno.50.maiores.venda.peso$Retorno.Peso_por_Venda.Peso); \n",
    "colnames(dados) <- c('Nome_Produto','Reembolso.Percentual'); head(dados,3)"
   ]
  },
  {
   "cell_type": "code",
   "execution_count": 22,
   "metadata": {},
   "outputs": [
    {
     "data": {
      "image/png": "[encoded data removed]",
      "text/plain": [
       "plot without title"
      ]
     },
     "metadata": {},
     "output_type": "display_data"
    }
   ],
   "source": [
    "# BOX PLOT COM OS DADOS DO PERCENTUAL DE REEMBOLSO \n",
    "g8 <- ggplot(dados, aes(x = \"\", y = Reembolso.Percentual)) +\n",
    "  geom_boxplot(width = .5,  outlier.colour =\"black\", outlier.size = 2) +\n",
    "  labs(title = \"Dispersão do percentual de reembolso dos \\n 50 produtos de maior retorno em pesos\", x = \"\", \n",
    "       y = \"Reembolso (%)\")\n",
    "options(repr.plot.width = 4, repr.plot.height = 4)\n",
    "g8"
   ]
  },
  {
   "cell_type": "code",
   "execution_count": 23,
   "metadata": {},
   "outputs": [
    {
     "data": {
      "text/plain": [
       "   Min. 1st Qu.  Median    Mean 3rd Qu.    Max. \n",
       "  0.130   0.925   1.590   1.588   2.208   4.390 "
      ]
     },
     "metadata": {},
     "output_type": "display_data"
    }
   ],
   "source": [
    "summary(dados$Reembolso.Percentual)"
   ]
  },
  {
   "cell_type": "code",
   "execution_count": 24,
   "metadata": {},
   "outputs": [
    {
     "name": "stdout",
     "output_type": "stream",
     "text": [
      "Estatísticas do percentual de reembolso dos 50 produtos com maior venda em pesos\n",
      "Média: 1.5884\n",
      "Desvio padrão: 0.8115\n",
      "Coeficiente de Variação(percentual): 51.09"
     ]
    }
   ],
   "source": [
    "# CÁLCULO DA MÉDIA\n",
    "cat('Estatísticas do percentual de reembolso dos 50 produtos com maior venda em pesos')\n",
    "media <- mean(dados$Reembolso.Percentual); cat(sprintf(\"\\nMédia: %s\", media))\n",
    "# CÁLCULO VARIÂNCIA, DESVIO PADRÃO E COEFICIENTE DE VARIAÇÃO\n",
    "desvio.padrao <- sd(dados$Reembolso.Percentual); cat(sprintf('\\nDesvio padrão: %s', round(desvio.padrao,4)))\n",
    "cv <- round(desvio.padrao/media*100,2); cat(sprintf(\"\\nCoeficiente de Variação(percentual): %s\", cv))"
   ]
  },
  {
   "cell_type": "markdown",
   "metadata": {},
   "source": [
    "Conforme boxplot  dos  50 produtos de maior venda em pesos, 50% dos produtos estão com o percentual de reembolso abaixo da média que é de 1.159%. Entretanto existe uma parte considerável de produtos com percentual de reembolso acima da média. Com um coeficiente de variação relativamente alto são necessárias medidas que visem reduzir esse percentual, principalmente dos produtos que estão mais acima do valor da mediana."
   ]
  },
  {
   "cell_type": "markdown",
   "metadata": {},
   "source": [
    "#### **DEPÓSITOS**"
   ]
  },
  {
   "cell_type": "code",
   "execution_count": 25,
   "metadata": {},
   "outputs": [],
   "source": [
    "# DEPÓSITO\n",
    "estado.cidade.deposito <- df_bimbo %>%\n",
    "  group_by(Deposito_ID) %>%\n",
    "  summarise(Demanda.Ajustada.Total = sum(Demanda.Ajustada),\n",
    "            Venda.Unidade.Total = sum(Venda.Unidade),\n",
    "            Retorno.Unidade.Total = sum(Retorno.Unidade),\n",
    "            Venda.Peso.Total = sum(Venda.Peso),\n",
    "            Retorno.Peso.Total = sum(Retorno.Peso)) %>%\n",
    "  inner_join(df_estado, by = 'Deposito_ID') %>%\n",
    "  select(Deposito_ID, Estado, Cidade, everything())\n",
    "\n",
    "estado.cidade.deposito<- estado.cidade.deposito %>%\n",
    "  mutate(Retorno.Peso_por_Venda.Peso = round(Retorno.Peso.Total/Venda.Peso.Total*100,2))"
   ]
  },
  {
   "cell_type": "code",
   "execution_count": 26,
   "metadata": {},
   "outputs": [],
   "source": [
    "# DEPÓSITOS\n",
    "deposito1 <- estado.cidade.deposito[order(estado.cidade.deposito$Venda.Peso.Total, decreasing = T),]\n",
    "g9 <- ggplot(deposito1[1:8,], aes(x = reorder(Deposito_ID, -Venda.Peso.Total), y = Venda.Peso.Total)) +\n",
    "geom_bar(stat = 'identity') +\n",
    "labs(x = 'Depósitos', y = 'Vendas totais em pesos', title = 'Depósitos de maior venda (Pesos)') +\n",
    "theme(text = element_text(size = 8)) \n",
    "\n",
    "deposito2 <- estado.cidade.deposito[order(estado.cidade.deposito$Venda.Unidade.Total, decreasing = T),]\n",
    "g10 <- ggplot(deposito2[1:8,], aes(x = reorder(Deposito_ID, -Venda.Unidade.Total), y = Venda.Unidade.Total )) +\n",
    "geom_bar(stat = 'identity') +\n",
    "labs(x = 'Depósitos', y = 'Vendas totais em unidades', title = 'Depósitos de maior venda (Unidades)') +\n",
    "theme(text = element_text(size = 8)) \n",
    "\n",
    "deposito3 <- estado.cidade.deposito[order(estado.cidade.deposito$Retorno.Peso.Total, decreasing = T),]\n",
    "g11 <- ggplot(deposito3[1:8,], aes(x = reorder(Deposito_ID, -Retorno.Peso.Total), y = Retorno.Peso.Total )) +\n",
    "geom_bar(stat = 'identity') +\n",
    "labs(x = 'Depósitos', y = 'Retorno em pesos', title = 'Depósitos com maior retorno em pesos') +\n",
    "theme(text = element_text(size = 8)) \n",
    "\n",
    "deposito4 <- estado.cidade.deposito[order(estado.cidade.deposito$Retorno.Unidade.Total, decreasing = T),]\n",
    "g12 <- ggplot(deposito4[1:8,], aes(x = reorder(Deposito_ID, -Retorno.Unidade.Total), y = Retorno.Unidade.Total )) +\n",
    "geom_bar(stat = 'identity') +\n",
    "labs(x = 'Depósitos', y = 'Retorno em unidades', title = 'Depósitos com maior retorno em unidades') +\n",
    "theme(text = element_text(size = 8)) \n",
    "\n",
    "deposito5 <- estado.cidade.deposito[order(estado.cidade.deposito$Venda.Peso.Total, decreasing = T),]\n",
    "g13 <- ggplot(deposito5[1:8,], aes(x = reorder(Deposito_ID, -Retorno.Peso_por_Venda.Peso), y = Retorno.Peso_por_Venda.Peso)) +\n",
    "geom_bar(stat = 'identity') +\n",
    "labs(x = 'Depósitos',y = 'Percentual de reembolso (%)',title ='Depósitos com maior venda em pesos e percentual \\nde reembolso')+\n",
    "theme(text = element_text(size = 8)) \n",
    "\n",
    "deposito6 <- estado.cidade.deposito[order(estado.cidade.deposito$Retorno.Peso_por_Venda.Peso, decreasing = T),]\n",
    "g14 <- ggplot(deposito6[1:8,], aes(x = reorder(Deposito_ID, -Retorno.Peso_por_Venda.Peso), y = Retorno.Peso_por_Venda.Peso)) +\n",
    "geom_bar(stat = 'identity') +\n",
    "labs(x = 'Depósitos', y = 'Percentual de reembolso (%)', title = 'Depósitos com maior percentual de reembolso') +\n",
    "theme(text = element_text(size = 8)) "
   ]
  },
  {
   "cell_type": "code",
   "execution_count": 27,
   "metadata": {},
   "outputs": [
    {
     "data": {
      "image/png": "[encoded data removed]",
      "text/plain": [
       "plot without title"
      ]
     },
     "metadata": {},
     "output_type": "display_data"
    }
   ],
   "source": [
    "options(repr.plot.width = 7, repr.plot.height = 7)\n",
    "grid.arrange(g9, g10, g11, g12, g13, g14, ncol = 2, nrow = 3)"
   ]
  },
  {
   "cell_type": "markdown",
   "metadata": {},
   "source": [
    "Atenção para o depósito 1114  que ocupa a 5ª colocação dos depósitos onde se tem maior venda. Dos de maior venda, apresenta a maior perda de venda (%) ultrapassando os 4,5%, o que é aproximadamente o dobro do segundo colocado em maior venda, o 1347. Comparando com todos os depósitos, é o segundo de maior retorno de unidades."
   ]
  },
  {
   "cell_type": "markdown",
   "metadata": {},
   "source": [
    "#### **ESTADOS**"
   ]
  },
  {
   "cell_type": "code",
   "execution_count": 28,
   "metadata": {},
   "outputs": [],
   "source": [
    "# ESTADO \n",
    "estado <- estado.cidade.deposito %>%\n",
    "  group_by(Estado) %>%\n",
    "  summarise(Demanda.Ajustada.Total = sum(Demanda.Ajustada.Total),\n",
    "            Venda.Unidade.Total = sum(Venda.Unidade.Total),\n",
    "            Retorno.Unidade.Total = sum(Retorno.Unidade.Total),\n",
    "            Venda.Peso.Total = sum(Venda.Peso.Total),\n",
    "            Retorno.Peso.Total = sum(Retorno.Peso.Total),\n",
    "            Retorno.Peso_por_Venda.Peso = round(Retorno.Peso.Total/Venda.Peso.Total*100, 2))"
   ]
  },
  {
   "cell_type": "code",
   "execution_count": 29,
   "metadata": {},
   "outputs": [],
   "source": [
    "# ESTADOS DE MAIOR VENDA EM PESOS\n",
    "estado1 <- estado[order(estado$Venda.Peso.Total, decreasing = T),]\n",
    "g15 <- ggplot(estado1[1:8,], aes(x = reorder(Estado, Venda.Peso.Total), y = Venda.Peso.Total)) +\n",
    "geom_bar(stat = 'identity') +\n",
    "labs(x = 'Estado', y = 'Vendas totais em pesos', title = 'Estados onde se têm mais vendas em pesos') +\n",
    "theme(text = element_text(size = 8)) +\n",
    "coord_flip()\n",
    "\n",
    "# ESTADOS DE MAIOR RETORNO EM PESOS\n",
    "estado2 <- estado[order(estado$Retorno.Peso.Total, decreasing = T),]\n",
    "g17 <- ggplot(estado2[1:8,], aes(x = reorder(Estado, Retorno.Peso.Total), y = Retorno.Peso.Total)) +\n",
    "geom_bar(stat = 'identity') +\n",
    "labs(x = 'Estado', y = 'Retornos em pesos', title = 'Estados onde se têm maior retorno em pesos') +\n",
    "theme(text = element_text(size = 8)) +\n",
    "coord_flip()\n",
    "\n",
    "# ESTADOS DE MAIOR VENDA EM UNIDADES\n",
    "estado3 <- estado[order(estado$Venda.Unidade.Total, decreasing = T),]\n",
    "g16 <- ggplot(estado3[1:8,], aes(x = reorder(Estado, Venda.Unidade.Total), y = Venda.Unidade.Total)) +\n",
    "geom_bar(stat = 'identity') +\n",
    "labs(x = 'Estado', y = 'Vendas totais em em unidades', title = 'Estados onde se têm mais vendas em unidades') +\n",
    "theme(text = element_text(size = 8)) +\n",
    "coord_flip()\n",
    "\n",
    "# ESTADOS DE MAIOR RETORNO EM UNIDADES\n",
    "estado4 <- estado[order(estado$Retorno.Unidade.Total, decreasing = T),]\n",
    "g18 <- ggplot(estado4[1:8,], aes(x = reorder(Estado, Retorno.Unidade.Total), y = Retorno.Unidade.Total)) +\n",
    "geom_bar(stat = 'identity') +\n",
    "labs(x = 'Estado', y = 'Retornos em unidades', title = 'Estados onde se têm maior retorno em unidades') +\n",
    "theme(text = element_text(size = 8)) +\n",
    "coord_flip()"
   ]
  },
  {
   "cell_type": "code",
   "execution_count": 30,
   "metadata": {},
   "outputs": [
    {
     "data": {
      "image/png": "[encoded data removed]",
      "text/plain": [
       "plot without title"
      ]
     },
     "metadata": {},
     "output_type": "display_data"
    }
   ],
   "source": [
    "options(repr.plot.width = 5, repr.plot.height = 7)\n",
    "grid.arrange(g15, g16, g17, g18, ncol = 1, nrow = 4)"
   ]
  },
  {
   "cell_type": "markdown",
   "metadata": {},
   "source": [
    "#### **CIDADES**"
   ]
  },
  {
   "cell_type": "code",
   "execution_count": 31,
   "metadata": {},
   "outputs": [],
   "source": [
    "# CIDADE \n",
    "cidade <- estado.cidade.deposito %>%\n",
    "  group_by(Cidade) %>%\n",
    "  summarise(Demanda.Ajustada.Total = sum(Demanda.Ajustada.Total),\n",
    "            Venda.Unidade.Total = sum(Venda.Unidade.Total),\n",
    "            Retorno.Unidade.Total = sum(Retorno.Unidade.Total),\n",
    "            Venda.Peso.Total = sum(Venda.Peso.Total),\n",
    "            Retorno.Peso.Total = sum(Retorno.Peso.Total),\n",
    "            Retorno.Peso_por_Venda.Peso = round(Retorno.Peso.Total/Venda.Peso.Total*100, 2))"
   ]
  },
  {
   "cell_type": "code",
   "execution_count": 32,
   "metadata": {},
   "outputs": [],
   "source": [
    "# CIDADES DE MAIOR VENDA EM PESOS\n",
    "cidade1 <- cidade[order(cidade$Venda.Peso.Total, decreasing = T),]\n",
    "g19 <- ggplot(cidade1[1:8,], aes(x = reorder(Cidade, Venda.Peso.Total), y = Venda.Peso.Total)) +\n",
    "geom_bar(stat = 'identity') +\n",
    "labs(x = 'Cidades', y = 'Vendas em pesos', title = 'Cidades onde se têm mais vendas em pesos') +\n",
    "theme(text = element_text(size = 8)) +\n",
    "coord_flip()\n",
    "\n",
    "# CIDADES DE MAIOR RETORNO EM PESOS\n",
    "cidade2 <- cidade[order(cidade$Venda.Peso.Total, decreasing = T),]\n",
    "g20 <- ggplot(cidade2[1:8,], aes(x = reorder(Cidade, Retorno.Peso.Total), y = Retorno.Peso.Total)) +\n",
    "geom_bar(stat = 'identity') +\n",
    "labs(x = 'Cidades', y = 'Retorno em pesos', title = 'Cidades onde se têm mais retorno em pesos') +\n",
    "theme(text = element_text(size = 8)) +\n",
    "coord_flip()\n",
    "\n",
    "# CIDADES DE MAIOR VENDA EM UNIDADES\n",
    "cidade3 <- cidade[order(cidade$Venda.Unidade.Total, decreasing = T),]\n",
    "g21 <- ggplot(cidade3[1:8,], aes(x = reorder(Cidade, Venda.Unidade.Total), y = Venda.Unidade.Total)) +\n",
    "geom_bar(stat = 'identity') +\n",
    "labs(x = 'Cidades', y = 'Vendas em unidades', title = 'Cidades onde se têm mais vendas em unidades') +\n",
    "theme(text = element_text(size = 8)) +\n",
    "coord_flip()\n",
    "\n",
    "# CIDADES DE MAIOR RETORNO EM UNIDADES\n",
    "cidade4 <- cidade[order(cidade$Retorno.Unidade.Total, decreasing = T),]\n",
    "g22 <- ggplot(cidade4[1:8,], aes(x = reorder(Cidade, Retorno.Unidade.Total), y = Retorno.Unidade.Total)) +\n",
    "geom_bar(stat = 'identity') +\n",
    "labs(x = 'Cidades', y = 'Retorno em unidades', title = 'Cidades onde se têm mais retorno em unidades') +\n",
    "theme(text = element_text(size = 8)) +\n",
    "coord_flip()"
   ]
  },
  {
   "cell_type": "code",
   "execution_count": 33,
   "metadata": {},
   "outputs": [
    {
     "data": {
      "image/png": "[encoded data removed]",
      "text/plain": [
       "plot without title"
      ]
     },
     "metadata": {},
     "output_type": "display_data"
    }
   ],
   "source": [
    "options(repr.plot.width = 5, repr.plot.height = 7)\n",
    "grid.arrange(g19, g20, g21, g22, ncol = 1, nrow = 4)"
   ]
  },
  {
   "cell_type": "markdown",
   "metadata": {},
   "source": [
    "#### **CLIENTES**"
   ]
  },
  {
   "cell_type": "code",
   "execution_count": 34,
   "metadata": {},
   "outputs": [],
   "source": [
    "# CLIENTES\n",
    "cliente <- df_bimbo %>%\n",
    "  group_by(Cliente_ID) %>%\n",
    "  summarise(Demanda.Ajustada.Total = sum(Demanda.Ajustada),\n",
    "            Venda.Unidade.Total = sum(Venda.Unidade),\n",
    "            Retorno.Unidade.Total = sum(Retorno.Unidade),\n",
    "            Venda.Peso.Total = sum(Venda.Peso),\n",
    "            Retorno.Peso.Total = sum(Retorno.Peso)) %>%\n",
    "  inner_join(df_cliente, by = 'Cliente_ID') %>%\n",
    "  select(Nome_Cliente, everything())\n",
    "\n",
    "cliente <- cliente %>%\n",
    "  mutate(Retorno.Peso_por_Venda.Peso = round(Retorno.Peso.Total/Venda.Peso.Total*100,2))"
   ]
  },
  {
   "cell_type": "code",
   "execution_count": 35,
   "metadata": {},
   "outputs": [],
   "source": [
    "# CLIENTES QUE MAIS COMPRARAM EM PESOS\n",
    "cliente1 <- cliente[order(cliente$Venda.Peso.Total, decreasing = T),]\n",
    "g19 <- ggplot(cliente1[1:5,], aes(x = reorder(Nome_Cliente, Venda.Peso.Total), y = Venda.Peso.Total)) +\n",
    "geom_bar(stat = 'identity') +\n",
    "labs(x = 'Clientes', y = 'Compras totais em pesos', title = 'Clientes que mais compraram') +\n",
    "theme(text = element_text(size = 8)) +\n",
    "coord_flip()\n",
    "\n",
    "# CLIENTES QUE RETORNARAM EM PESOS\n",
    "cliente2 <- cliente[order(cliente$Retorno.Peso.Total, decreasing = T),]\n",
    "g20 <- ggplot(cliente2[1:5,], aes(x = reorder(Nome_Cliente, Retorno.Peso.Total), y = Retorno.Peso.Total)) +\n",
    "geom_bar(stat = 'identity') +\n",
    "labs(x = 'Clientes', y = 'Retornos totais em pesos', title = 'Clientes que mais retornaram') +\n",
    "theme(text = element_text(size = 8)) +\n",
    "coord_flip()"
   ]
  },
  {
   "cell_type": "code",
   "execution_count": 36,
   "metadata": {},
   "outputs": [
    {
     "data": {
      "image/png": "[encoded data removed]",
      "text/plain": [
       "plot without title"
      ]
     },
     "metadata": {},
     "output_type": "display_data"
    }
   ],
   "source": [
    "options(repr.plot.width = 5, repr.plot.height = 5)\n",
    "grid.arrange(g19, g20, ncol = 1, nrow = 2)"
   ]
  },
  {
   "cell_type": "markdown",
   "metadata": {},
   "source": [
    "#### **CORRELAÇÃO DA VARIÁVEIS**"
   ]
  },
  {
   "cell_type": "code",
   "execution_count": 37,
   "metadata": {},
   "outputs": [],
   "source": [
    "# CORRELAÇÃO DE VARIÁVEIS DO DATASET DA AMOSTRA DO DATASET BIMBO\n",
    "corr_df_bimbo <- cor(df_bimbo)"
   ]
  },
  {
   "cell_type": "code",
   "execution_count": 38,
   "metadata": {},
   "outputs": [],
   "source": [
    "# CARREGANDO O PACOTE corrplot\n",
    "suppressPackageStartupMessages({library(corrplot)})"
   ]
  },
  {
   "cell_type": "code",
   "execution_count": 39,
   "metadata": {},
   "outputs": [
    {
     "data": {
      "image/png": "[encoded data removed]",
      "text/plain": [
       "Plot with title \"\""
      ]
     },
     "metadata": {},
     "output_type": "display_data"
    }
   ],
   "source": [
    "options(repr.plot.width = 7, repr.plot.height = 6)\n",
    "correlacao_plot <- corrplot(corr_df_bimbo, method =  \"number\")"
   ]
  },
  {
   "cell_type": "code",
   "execution_count": null,
   "metadata": {},
   "outputs": [],
   "source": [
    "# CARREGANDO BIBLIOTECA CaTools\n",
    "#suppressPackageStartupMessages({library(caTools)})"
   ]
  },
  {
   "cell_type": "code",
   "execution_count": null,
   "metadata": {},
   "outputs": [],
   "source": [
    "# PADRONIZAÇÃO DE DADOS\n",
    "\n",
    "#df_bimbo_padronizado <- scale(df_bimbo[, c(7:10)])\n",
    "#df_bimbo_padronizado  <- cbind(df_bimbo[, c(1:6,11)], df_bimbo_padronizado)\n",
    "\n",
    "#glimpse(df_bimbo_padronizado)"
   ]
  },
  {
   "cell_type": "code",
   "execution_count": null,
   "metadata": {},
   "outputs": [],
   "source": [
    "# DADOS DE TREINO (APROX. 70%) E TESTE (APROX. 30%)\n",
    "#divisao_treino_teste <- sample.split(df_bimbo_padronizado$Demanda.Ajustada, SplitRatio = 0.70)"
   ]
  },
  {
   "cell_type": "code",
   "execution_count": null,
   "metadata": {},
   "outputs": [],
   "source": [
    "#dados_treino <- subset(df_bimbo_padronizado, divisao_treino_teste == TRUE)\n",
    "#dados_teste <- subset(df_bimbo_padronizado, divisao_treino_teste == FALSE)"
   ]
  },
  {
   "cell_type": "code",
   "execution_count": null,
   "metadata": {},
   "outputs": [],
   "source": [
    "#nrow(dados_treino)\n",
    "#nrow(dados_teste)"
   ]
  },
  {
   "cell_type": "code",
   "execution_count": null,
   "metadata": {},
   "outputs": [],
   "source": [
    "#write_csv(dados_treino, \"dados_treino.csv\")"
   ]
  },
  {
   "cell_type": "code",
   "execution_count": null,
   "metadata": {},
   "outputs": [],
   "source": [
    "#write_csv(dados_teste, \"dados_teste.csv\")"
   ]
  },
  {
   "cell_type": "markdown",
   "metadata": {},
   "source": [
    "### **2 - APRENDIZADO**\n",
    "\n",
    "#### **TREINANDO O MODELO**"
   ]
  },
  {
   "cell_type": "code",
   "execution_count": null,
   "metadata": {},
   "outputs": [],
   "source": [
    "# CRIAÇÃO DO MODELO USANDO LINEAR REGRESSION (lm)\n",
    "#modelo <- lm(Demanda.Ajustada ~., data = dados_treino); summary(modelo)"
   ]
  },
  {
   "cell_type": "code",
   "execution_count": null,
   "metadata": {},
   "outputs": [],
   "source": [
    "# SALVAR MODELO CRIADO\n",
    "#saveRDS(modelo, \"modelo.rds\")"
   ]
  },
  {
   "cell_type": "code",
   "execution_count": 40,
   "metadata": {},
   "outputs": [],
   "source": [
    "# CARREGANDO BIBLIOTECAS\n",
    "suppressPackageStartupMessages({library(dplyr)\n",
    "library(ggplot2)\n",
    "library(caret)\n",
    "library(data.table)\n",
    "library(tibble)\n",
    "library(readr)\n",
    "library(tidyr)})"
   ]
  },
  {
   "cell_type": "markdown",
   "metadata": {},
   "source": [
    "#### **CARREGANDO O MODELO TREINADO**\n"
   ]
  },
  {
   "cell_type": "code",
   "execution_count": 41,
   "metadata": {},
   "outputs": [
    {
     "data": {
      "text/plain": [
       "\n",
       "Call:\n",
       "lm(formula = Demanda.Ajustada ~ ., data = dados_treino)\n",
       "\n",
       "Residuals:\n",
       "     Min       1Q   Median       3Q      Max \n",
       "-112.331    0.011    0.020    0.036  235.312 \n",
       "\n",
       "Coefficients:\n",
       "                        Estimate       Std. Error   t value\n",
       "(Intercept)      7.2075115901444  0.0039383943603  1830.063\n",
       "Semana          -0.0008202194593  0.0005411088992    -1.516\n",
       "Deposito_ID     -0.0000000332542  0.0000002646734    -0.126\n",
       "Canal.Venda      0.0008346361591  0.0008533986292     0.978\n",
       "Rota_ID          0.0000061634882  0.0000008667853     7.111\n",
       "Cliente_ID       0.0000000002543  0.0000000002613     0.973\n",
       "Produto_ID      -0.0000002508956  0.0000000610729    -4.108\n",
       "Venda.Unidade   21.1980327208009  0.0014865806608 14259.591\n",
       "Venda.Peso       0.0251610120007  0.0014040516495    17.920\n",
       "Retorno.Unidade -0.7804416219258  0.0026564236966  -293.794\n",
       "Retorno.Peso    -0.2746045417558  0.0020811257853  -131.950\n",
       "                            Pr(>|t|)    \n",
       "(Intercept)     < 0.0000000000000002 ***\n",
       "Semana                         0.130    \n",
       "Deposito_ID                    0.900    \n",
       "Canal.Venda                    0.328    \n",
       "Rota_ID             0.00000000000116 ***\n",
       "Cliente_ID                     0.330    \n",
       "Produto_ID          0.00003989259155 ***\n",
       "Venda.Unidade   < 0.0000000000000002 ***\n",
       "Venda.Peso      < 0.0000000000000002 ***\n",
       "Retorno.Unidade < 0.0000000000000002 ***\n",
       "Retorno.Peso    < 0.0000000000000002 ***\n",
       "---\n",
       "Signif. codes:  0 '***' 0.001 '**' 0.01 '*' 0.05 '.' 0.1 ' ' 1\n",
       "\n",
       "Residual standard error: 0.8297 on 588016 degrees of freedom\n",
       "Multiple R-squared:  0.9986,\tAdjusted R-squared:  0.9986 \n",
       "F-statistic: 4.326e+07 on 10 and 588016 DF,  p-value: < 0.00000000000000022\n"
      ]
     },
     "metadata": {},
     "output_type": "display_data"
    }
   ],
   "source": [
    "# CARREGANDO MODELO CRIADO\n",
    "modelo <- readRDS(\"modelo.rds\")\n",
    "summary(modelo)"
   ]
  },
  {
   "cell_type": "code",
   "execution_count": 42,
   "metadata": {},
   "outputs": [
    {
     "data": {
      "text/html": [
       "<table>\n",
       "<thead><tr><th></th><th scope=col>Overall</th></tr></thead>\n",
       "<tbody>\n",
       "\t<tr><th scope=row>Semana</th><td>    1.5158122</td></tr>\n",
       "\t<tr><th scope=row>Deposito_ID</th><td>    0.1256422</td></tr>\n",
       "\t<tr><th scope=row>Canal.Venda</th><td>    0.9780144</td></tr>\n",
       "\t<tr><th scope=row>Rota_ID</th><td>    7.1107441</td></tr>\n",
       "\t<tr><th scope=row>Cliente_ID</th><td>    0.9732041</td></tr>\n",
       "\t<tr><th scope=row>Produto_ID</th><td>    4.1081321</td></tr>\n",
       "\t<tr><th scope=row>Venda.Unidade</th><td>14259.5913431</td></tr>\n",
       "\t<tr><th scope=row>Venda.Peso</th><td>   17.9202895</td></tr>\n",
       "\t<tr><th scope=row>Retorno.Unidade</th><td>  293.7941048</td></tr>\n",
       "\t<tr><th scope=row>Retorno.Peso</th><td>  131.9499973</td></tr>\n",
       "</tbody>\n",
       "</table>\n"
      ],
      "text/latex": [
       "\\begin{tabular}{r|l}\n",
       "  & Overall\\\\\n",
       "\\hline\n",
       "\tSemana &     1.5158122\\\\\n",
       "\tDeposito\\_ID &     0.1256422\\\\\n",
       "\tCanal.Venda &     0.9780144\\\\\n",
       "\tRota\\_ID &     7.1107441\\\\\n",
       "\tCliente\\_ID &     0.9732041\\\\\n",
       "\tProduto\\_ID &     4.1081321\\\\\n",
       "\tVenda.Unidade & 14259.5913431\\\\\n",
       "\tVenda.Peso &    17.9202895\\\\\n",
       "\tRetorno.Unidade &   293.7941048\\\\\n",
       "\tRetorno.Peso &   131.9499973\\\\\n",
       "\\end{tabular}\n"
      ],
      "text/markdown": [
       "\n",
       "| <!--/--> | Overall |\n",
       "|---|---|\n",
       "| Semana |     1.5158122 |\n",
       "| Deposito_ID |     0.1256422 |\n",
       "| Canal.Venda |     0.9780144 |\n",
       "| Rota_ID |     7.1107441 |\n",
       "| Cliente_ID |     0.9732041 |\n",
       "| Produto_ID |     4.1081321 |\n",
       "| Venda.Unidade | 14259.5913431 |\n",
       "| Venda.Peso |    17.9202895 |\n",
       "| Retorno.Unidade |   293.7941048 |\n",
       "| Retorno.Peso |   131.9499973 |\n",
       "\n"
      ],
      "text/plain": [
       "                Overall      \n",
       "Semana              1.5158122\n",
       "Deposito_ID         0.1256422\n",
       "Canal.Venda         0.9780144\n",
       "Rota_ID             7.1107441\n",
       "Cliente_ID          0.9732041\n",
       "Produto_ID          4.1081321\n",
       "Venda.Unidade   14259.5913431\n",
       "Venda.Peso         17.9202895\n",
       "Retorno.Unidade   293.7941048\n",
       "Retorno.Peso      131.9499973"
      ]
     },
     "metadata": {},
     "output_type": "display_data"
    }
   ],
   "source": [
    "varImp(modelo)\n",
    "#plot(varImp(modelo))"
   ]
  },
  {
   "cell_type": "code",
   "execution_count": 43,
   "metadata": {},
   "outputs": [
    {
     "data": {
      "text/html": [
       "<table>\n",
       "<thead><tr><th scope=col>residuos_modelo</th></tr></thead>\n",
       "<tbody>\n",
       "\t<tr><td>0.02275495</td></tr>\n",
       "\t<tr><td>0.10044039</td></tr>\n",
       "\t<tr><td>0.01954235</td></tr>\n",
       "\t<tr><td>0.03584167</td></tr>\n",
       "\t<tr><td>0.01605505</td></tr>\n",
       "</tbody>\n",
       "</table>\n"
      ],
      "text/latex": [
       "\\begin{tabular}{r|l}\n",
       " residuos\\_modelo\\\\\n",
       "\\hline\n",
       "\t 0.02275495\\\\\n",
       "\t 0.10044039\\\\\n",
       "\t 0.01954235\\\\\n",
       "\t 0.03584167\\\\\n",
       "\t 0.01605505\\\\\n",
       "\\end{tabular}\n"
      ],
      "text/markdown": [
       "\n",
       "| residuos_modelo |\n",
       "|---|\n",
       "| 0.02275495 |\n",
       "| 0.10044039 |\n",
       "| 0.01954235 |\n",
       "| 0.03584167 |\n",
       "| 0.01605505 |\n",
       "\n"
      ],
      "text/plain": [
       "  residuos_modelo\n",
       "1 0.02275495     \n",
       "2 0.10044039     \n",
       "3 0.01954235     \n",
       "4 0.03584167     \n",
       "5 0.01605505     "
      ]
     },
     "metadata": {},
     "output_type": "display_data"
    },
    {
     "data": {
      "text/html": [
       "0.00000000000144388158113823"
      ],
      "text/latex": [
       "0.00000000000144388158113823"
      ],
      "text/markdown": [
       "0.00000000000144388158113823"
      ],
      "text/plain": [
       "[1] 0.000000000001443882"
      ]
     },
     "metadata": {},
     "output_type": "display_data"
    }
   ],
   "source": [
    "residuos_modelo <- residuals(modelo)\n",
    "residuos_modelo <- as.data.frame(residuos_modelo)\n",
    "head(residuos_modelo,5)\n",
    "sum(residuos_modelo)"
   ]
  },
  {
   "cell_type": "code",
   "execution_count": 44,
   "metadata": {},
   "outputs": [
    {
     "data": {
      "image/png": "[encoded data removed]",
      "text/plain": [
       "Plot with title \"Residuos\""
      ]
     },
     "metadata": {},
     "output_type": "display_data"
    }
   ],
   "source": [
    "# HISTOGRAMA DE RESÍDUOS DO MODELO\n",
    "options(repr.plot.width = 4, repr.plot.height = 4)\n",
    "hist(residuos_modelo$residuos_modelo, main = 'Residuos',\n",
    "     xlab = 'Residuos', ylab = 'Frequência')"
   ]
  },
  {
   "cell_type": "code",
   "execution_count": 45,
   "metadata": {},
   "outputs": [],
   "source": [
    "# CARREGAR DADOS DE TESTE\n",
    "dados_teste <- read.csv(\"dados_teste.csv\")"
   ]
  },
  {
   "cell_type": "markdown",
   "metadata": {},
   "source": [
    "#### **PREVISÃO COM O MODELO TREINADO**"
   ]
  },
  {
   "cell_type": "code",
   "execution_count": 46,
   "metadata": {},
   "outputs": [],
   "source": [
    "# PREVISÃO DO MODELO \n",
    "Previsao <- predict(modelo, dados_teste)"
   ]
  },
  {
   "cell_type": "code",
   "execution_count": 47,
   "metadata": {},
   "outputs": [
    {
     "data": {
      "text/html": [
       "<table>\n",
       "<thead><tr><th scope=col>Semana</th><th scope=col>Deposito_ID</th><th scope=col>Produto_ID</th><th scope=col>Demanda.Ajustada</th><th scope=col>Previsao</th></tr></thead>\n",
       "<tbody>\n",
       "\t<tr><td>3        </td><td>2017     </td><td>30575    </td><td> 3       </td><td> 2.987973</td></tr>\n",
       "\t<tr><td>3        </td><td>1462     </td><td>43206    </td><td>33       </td><td>32.819721</td></tr>\n",
       "\t<tr><td>3        </td><td>1140     </td><td>30575    </td><td> 5       </td><td> 4.977527</td></tr>\n",
       "\t<tr><td>3        </td><td>2234     </td><td>31309    </td><td> 8       </td><td> 7.956981</td></tr>\n",
       "\t<tr><td>3        </td><td>1224     </td><td>30575    </td><td> 4       </td><td> 3.977138</td></tr>\n",
       "\t<tr><td>3        </td><td>1459     </td><td>43197    </td><td> 5       </td><td> 4.964820</td></tr>\n",
       "</tbody>\n",
       "</table>\n"
      ],
      "text/latex": [
       "\\begin{tabular}{r|lllll}\n",
       " Semana & Deposito\\_ID & Produto\\_ID & Demanda.Ajustada & Previsao\\\\\n",
       "\\hline\n",
       "\t 3         & 2017      & 30575     &  3        &  2.987973\\\\\n",
       "\t 3         & 1462      & 43206     & 33        & 32.819721\\\\\n",
       "\t 3         & 1140      & 30575     &  5        &  4.977527\\\\\n",
       "\t 3         & 2234      & 31309     &  8        &  7.956981\\\\\n",
       "\t 3         & 1224      & 30575     &  4        &  3.977138\\\\\n",
       "\t 3         & 1459      & 43197     &  5        &  4.964820\\\\\n",
       "\\end{tabular}\n"
      ],
      "text/markdown": [
       "\n",
       "| Semana | Deposito_ID | Produto_ID | Demanda.Ajustada | Previsao |\n",
       "|---|---|---|---|---|\n",
       "| 3         | 2017      | 30575     |  3        |  2.987973 |\n",
       "| 3         | 1462      | 43206     | 33        | 32.819721 |\n",
       "| 3         | 1140      | 30575     |  5        |  4.977527 |\n",
       "| 3         | 2234      | 31309     |  8        |  7.956981 |\n",
       "| 3         | 1224      | 30575     |  4        |  3.977138 |\n",
       "| 3         | 1459      | 43197     |  5        |  4.964820 |\n",
       "\n"
      ],
      "text/plain": [
       "  Semana Deposito_ID Produto_ID Demanda.Ajustada Previsao \n",
       "1 3      2017        30575       3                2.987973\n",
       "2 3      1462        43206      33               32.819721\n",
       "3 3      1140        30575       5                4.977527\n",
       "4 3      2234        31309       8                7.956981\n",
       "5 3      1224        30575       4                3.977138\n",
       "6 3      1459        43197       5                4.964820"
      ]
     },
     "metadata": {},
     "output_type": "display_data"
    }
   ],
   "source": [
    "# UNINDO COLUNA DE PREVISÃO AO DATASET\n",
    "observado_previsto <- cbind(dados_teste, Previsao)\n",
    "head(observado_previsto[,c(1,2,6,7,12)])"
   ]
  },
  {
   "cell_type": "code",
   "execution_count": 48,
   "metadata": {},
   "outputs": [
    {
     "data": {
      "text/html": [
       "TRUE"
      ],
      "text/latex": [
       "TRUE"
      ],
      "text/markdown": [
       "TRUE"
      ],
      "text/plain": [
       "[1] TRUE"
      ]
     },
     "metadata": {},
     "output_type": "display_data"
    }
   ],
   "source": [
    "# EXISTE VALORES NEGATIVOS NA COLUNA DE PREVISÃO?\n",
    "any(observado_previsto$Previsao < 0)"
   ]
  },
  {
   "cell_type": "code",
   "execution_count": 49,
   "metadata": {},
   "outputs": [
    {
     "data": {
      "text/html": [
       "FALSE"
      ],
      "text/latex": [
       "FALSE"
      ],
      "text/markdown": [
       "FALSE"
      ],
      "text/plain": [
       "[1] FALSE"
      ]
     },
     "metadata": {},
     "output_type": "display_data"
    }
   ],
   "source": [
    "# TRATANDO OS VALORES NEGATIVOS DA PREVISÃO\n",
    "converterNegativo <- function(vetor){\n",
    "    for (p in vetor){\n",
    "        if (p < 0){\n",
    "            return(0)\n",
    "        } else{\n",
    "            return(p)\n",
    "        }\n",
    "    }\n",
    "}\n",
    "\n",
    "observado_previsto[,12] <- sapply(observado_previsto$Previsao, converterNegativo)\n",
    "\n",
    "# EXISTE VALORES NEGATIVOS?\n",
    "any(observado_previsto$Previsao < 0)"
   ]
  },
  {
   "cell_type": "markdown",
   "metadata": {},
   "source": [
    "<h1><font size=\"5\" face=\"Calibri\">\n",
    "3 - MÉTRICAS  DO MODELO TESTADO\n",
    "</font></h1>"
   ]
  },
  {
   "cell_type": "code",
   "execution_count": 50,
   "metadata": {},
   "outputs": [
    {
     "data": {
      "text/html": [
       "<table>\n",
       "<thead><tr><th scope=col>Semana</th><th scope=col>Deposito_ID</th><th scope=col>Produto_ID</th><th scope=col>Demanda.Ajustada</th><th scope=col>Previsao</th><th scope=col>erro_previsao</th></tr></thead>\n",
       "<tbody>\n",
       "\t<tr><td>3         </td><td>2017      </td><td>30575     </td><td> 3        </td><td> 2.987973 </td><td>0.01202663</td></tr>\n",
       "\t<tr><td>3         </td><td>1462      </td><td>43206     </td><td>33        </td><td>32.819721 </td><td>0.18027949</td></tr>\n",
       "\t<tr><td>3         </td><td>1140      </td><td>30575     </td><td> 5        </td><td> 4.977527 </td><td>0.02247307</td></tr>\n",
       "\t<tr><td>3         </td><td>2234      </td><td>31309     </td><td> 8        </td><td> 7.956981 </td><td>0.04301916</td></tr>\n",
       "\t<tr><td>3         </td><td>1224      </td><td>30575     </td><td> 4        </td><td> 3.977138 </td><td>0.02286238</td></tr>\n",
       "\t<tr><td>3         </td><td>1459      </td><td>43197     </td><td> 5        </td><td> 4.964820 </td><td>0.03518038</td></tr>\n",
       "</tbody>\n",
       "</table>\n"
      ],
      "text/latex": [
       "\\begin{tabular}{r|llllll}\n",
       " Semana & Deposito\\_ID & Produto\\_ID & Demanda.Ajustada & Previsao & erro\\_previsao\\\\\n",
       "\\hline\n",
       "\t 3          & 2017       & 30575      &  3         &  2.987973  & 0.01202663\\\\\n",
       "\t 3          & 1462       & 43206      & 33         & 32.819721  & 0.18027949\\\\\n",
       "\t 3          & 1140       & 30575      &  5         &  4.977527  & 0.02247307\\\\\n",
       "\t 3          & 2234       & 31309      &  8         &  7.956981  & 0.04301916\\\\\n",
       "\t 3          & 1224       & 30575      &  4         &  3.977138  & 0.02286238\\\\\n",
       "\t 3          & 1459       & 43197      &  5         &  4.964820  & 0.03518038\\\\\n",
       "\\end{tabular}\n"
      ],
      "text/markdown": [
       "\n",
       "| Semana | Deposito_ID | Produto_ID | Demanda.Ajustada | Previsao | erro_previsao |\n",
       "|---|---|---|---|---|---|\n",
       "| 3          | 2017       | 30575      |  3         |  2.987973  | 0.01202663 |\n",
       "| 3          | 1462       | 43206      | 33         | 32.819721  | 0.18027949 |\n",
       "| 3          | 1140       | 30575      |  5         |  4.977527  | 0.02247307 |\n",
       "| 3          | 2234       | 31309      |  8         |  7.956981  | 0.04301916 |\n",
       "| 3          | 1224       | 30575      |  4         |  3.977138  | 0.02286238 |\n",
       "| 3          | 1459       | 43197      |  5         |  4.964820  | 0.03518038 |\n",
       "\n"
      ],
      "text/plain": [
       "  Semana Deposito_ID Produto_ID Demanda.Ajustada Previsao  erro_previsao\n",
       "1 3      2017        30575       3                2.987973 0.01202663   \n",
       "2 3      1462        43206      33               32.819721 0.18027949   \n",
       "3 3      1140        30575       5                4.977527 0.02247307   \n",
       "4 3      2234        31309       8                7.956981 0.04301916   \n",
       "5 3      1224        30575       4                3.977138 0.02286238   \n",
       "6 3      1459        43197       5                4.964820 0.03518038   "
      ]
     },
     "metadata": {},
     "output_type": "display_data"
    }
   ],
   "source": [
    "# MÉTRICAS\n",
    "# CÁLCULO DE ERRO\n",
    "observado_previsto <- observado_previsto %>%\n",
    "                      mutate(erro_previsao = observado_previsto$Demanda.Ajustada - observado_previsto$Previsao)\n",
    "head(observado_previsto[,c(1,2,6,7,12,13)])"
   ]
  },
  {
   "cell_type": "markdown",
   "metadata": {},
   "source": [
    "Maioria dos valores estão próximos de zero."
   ]
  },
  {
   "cell_type": "code",
   "execution_count": 51,
   "metadata": {},
   "outputs": [
    {
     "data": {
      "text/html": [
       "0.3592"
      ],
      "text/latex": [
       "0.3592"
      ],
      "text/markdown": [
       "0.3592"
      ],
      "text/plain": [
       "[1] 0.3592"
      ]
     },
     "metadata": {},
     "output_type": "display_data"
    }
   ],
   "source": [
    "# MSE - ERRO MÉDIO (DISTÂNCIA DOS VALORE PREVISTOS PELOS OBSERVADOS)\n",
    "MSE <- round(sum((observado_previsto$Demanda.Ajustada -observado_previsto$Previsao)^2)/nrow(dados_teste), 4); MSE"
   ]
  },
  {
   "cell_type": "code",
   "execution_count": 52,
   "metadata": {},
   "outputs": [
    {
     "data": {
      "text/html": [
       "0.0819"
      ],
      "text/latex": [
       "0.0819"
      ],
      "text/markdown": [
       "0.0819"
      ],
      "text/plain": [
       "[1] 0.0819"
      ]
     },
     "metadata": {},
     "output_type": "display_data"
    }
   ],
   "source": [
    "# MAE (MEAN ABSOLUTE ERROR ) - IDEIA DE QUÃO ERRADAS ESTÃO AS PREVISÕES\n",
    "MAE <- round(sum(abs(observado_previsto$Demanda.Ajustada - observado_previsto$Previsao))/nrow(dados_teste), 4); MAE"
   ]
  },
  {
   "cell_type": "markdown",
   "metadata": {},
   "source": [
    "MAE próximo do ideal que é zero."
   ]
  },
  {
   "cell_type": "code",
   "execution_count": 53,
   "metadata": {},
   "outputs": [
    {
     "data": {
      "text/html": [
       "0.9988"
      ],
      "text/latex": [
       "0.9988"
      ],
      "text/markdown": [
       "0.9988"
      ],
      "text/plain": [
       "[1] 0.9988"
      ]
     },
     "metadata": {},
     "output_type": "display_data"
    }
   ],
   "source": [
    "# R² (COEFICIENTE DE DETERMINAÇÃO) - NÍVEL DE PRECISÃO DAS PREVISÕES\n",
    "SSE = sum((observado_previsto$Demanda.Ajustada - observado_previsto$Previsao)^2)\n",
    "SST = sum((observado_previsto$Demanda.Ajustada - mean(observado_previsto$Demanda.Ajustada))^2)\n",
    "R2 = 1 - (SSE/SST); round(R2, 4)"
   ]
  },
  {
   "cell_type": "markdown",
   "metadata": {},
   "source": [
    "R² = 0.9988 mostra que o nível de precisão das previsões é alto."
   ]
  },
  {
   "cell_type": "code",
   "execution_count": null,
   "metadata": {},
   "outputs": [],
   "source": []
  }
 ],
 "metadata": {
  "kernelspec": {
   "display_name": "R",
   "language": "R",
   "name": "ir"
  },
  "language_info": {
   "codemirror_mode": "r",
   "file_extension": ".r",
   "mimetype": "text/x-r-source",
   "name": "R",
   "pygments_lexer": "r",
   "version": "3.6.1"
  }
 },
 "nbformat": 4,
 "nbformat_minor": 4
}
